{
 "cells": [
  {
   "cell_type": "code",
   "execution_count": 2,
   "metadata": {},
   "outputs": [],
   "source": [
    "import nltk\n",
    "from textblob import TextBlob"
   ]
  },
  {
   "cell_type": "code",
   "execution_count": 4,
   "metadata": {},
   "outputs": [
    {
     "name": "stderr",
     "output_type": "stream",
     "text": [
      "[nltk_data] Downloading package punkt to\n",
      "[nltk_data]     C:\\Users\\DIFODS103\\AppData\\Roaming\\nltk_data...\n",
      "[nltk_data]   Package punkt is already up-to-date!\n",
      "[nltk_data] Downloading package averaged_perceptron_tagger to\n",
      "[nltk_data]     C:\\Users\\DIFODS103\\AppData\\Roaming\\nltk_data...\n",
      "[nltk_data]   Unzipping taggers\\averaged_perceptron_tagger.zip.\n",
      "[nltk_data] Downloading package wordnet to\n",
      "[nltk_data]     C:\\Users\\DIFODS103\\AppData\\Roaming\\nltk_data...\n"
     ]
    },
    {
     "data": {
      "text/plain": [
       "True"
      ]
     },
     "execution_count": 4,
     "metadata": {},
     "output_type": "execute_result"
    }
   ],
   "source": [
    "#recursos adiconales de nltk\n",
    "nltk.download('punkt')\n",
    "nltk.download('averaged_perceptron_tagger')\n",
    "nltk.download('wordnet')"
   ]
  },
  {
   "cell_type": "code",
   "execution_count": 5,
   "metadata": {},
   "outputs": [],
   "source": [
    "texto = \"El analisis de texto es una tarea interesante. Puedes extraer información útil en un corpus de texto.\""
   ]
  },
  {
   "cell_type": "code",
   "execution_count": 6,
   "metadata": {},
   "outputs": [
    {
     "name": "stdout",
     "output_type": "stream",
     "text": [
      "tokens:  ['El', 'analisis', 'de', 'texto', 'es', 'una', 'tarea', 'interesante', '.', 'Puedes', 'extraer', 'información', 'útil', 'en', 'un', 'corpus', 'de', 'texto', '.']\n"
     ]
    }
   ],
   "source": [
    "tokens = nltk.word_tokenize(texto)\n",
    "print(\"tokens: \", tokens)"
   ]
  },
  {
   "cell_type": "code",
   "execution_count": 7,
   "metadata": {},
   "outputs": [
    {
     "name": "stdout",
     "output_type": "stream",
     "text": [
      "POS tags : [('El', 'NNP'), ('analisis', 'NN'), ('de', 'FW'), ('texto', 'FW'), ('es', 'FW'), ('una', 'JJ'), ('tarea', 'NN'), ('interesante', 'NN'), ('.', '.'), ('Puedes', 'NNP'), ('extraer', 'JJ'), ('información', 'NN'), ('útil', 'NNP'), ('en', 'VBZ'), ('un', 'JJ'), ('corpus', 'NN'), ('de', 'IN'), ('texto', 'NN'), ('.', '.')]\n"
     ]
    }
   ],
   "source": [
    "pos_tags = nltk.pos_tag(tokens)\n",
    "print(\"POS tags :\" , pos_tags )"
   ]
  },
  {
   "cell_type": "code",
   "execution_count": 12,
   "metadata": {},
   "outputs": [],
   "source": [
    "texto2 = \"etoy feliz\""
   ]
  },
  {
   "cell_type": "code",
   "execution_count": 14,
   "metadata": {},
   "outputs": [
    {
     "name": "stdout",
     "output_type": "stream",
     "text": [
      "sentimiento:  Sentiment(polarity=0.0, subjectivity=0.0)\n"
     ]
    }
   ],
   "source": [
    "sentimiento = TextBlob(texto2).sentiment\n",
    "print(\"sentimiento: \" , sentimiento)"
   ]
  },
  {
   "cell_type": "code",
   "execution_count": 17,
   "metadata": {},
   "outputs": [],
   "source": [
    "import gensim\n",
    "from gensim import corpora\n",
    "from gensim.models.ldamodel import LdaModel\n",
    "from nltk.corpus import stopwords\n",
    "from nltk.tokenize import word_tokenize"
   ]
  },
  {
   "cell_type": "code",
   "execution_count": 28,
   "metadata": {},
   "outputs": [],
   "source": [
    "documents = [\n",
    "\"promuevo la convivencia democrática e intercultural en el aula de la siguiente manera: establecer reglas de buen trato entre los compañeros.\",\n",
    "\"convivencia democrática e intercultural en tu aula?  deben incluirse en el reglamento escolar normas que promuevan el respeto a la diversidad cultural.\",\n",
    "\"promuevo la convivencia democrática e intercultural en mi aula tomando en cuenta las buenas relaciones que debemos mantener en el aula.\",\n",
    "\"promuevo que, ante cualquier situación, ellos mismos resuelvan sus conflictos mediante el diálogo.\"\n",
    "]\n"
   ]
  },
  {
   "cell_type": "code",
   "execution_count": 29,
   "metadata": {},
   "outputs": [],
   "source": [
    "# Tokenización y eliminación de stopwords\n",
    "stop_words = set(stopwords.words('spanish'))\n",
    "texts = [word_tokenize(document.lower()) for document in documents]\n",
    "texts = [[word for word in text if word.isalpha() and word not in stop_words] for text in texts]\n"
   ]
  },
  {
   "cell_type": "code",
   "execution_count": 30,
   "metadata": {},
   "outputs": [],
   "source": [
    "# Crear un diccionario de palabras\n",
    "dictionary = corpora.Dictionary(texts)\n"
   ]
  },
  {
   "cell_type": "code",
   "execution_count": 31,
   "metadata": {},
   "outputs": [
    {
     "data": {
      "text/plain": [
       "<gensim.corpora.dictionary.Dictionary at 0x218e9a088b0>"
      ]
     },
     "execution_count": 31,
     "metadata": {},
     "output_type": "execute_result"
    }
   ],
   "source": [
    "dictionary"
   ]
  },
  {
   "cell_type": "code",
   "execution_count": 32,
   "metadata": {},
   "outputs": [],
   "source": [
    "# Crear un corpus de bolsa de palabras\n",
    "corpus = [dictionary.doc2bow(text) for text in texts]"
   ]
  },
  {
   "cell_type": "code",
   "execution_count": 33,
   "metadata": {},
   "outputs": [
    {
     "data": {
      "text/plain": [
       "[[(0, 1),\n",
       "  (1, 1),\n",
       "  (2, 1),\n",
       "  (3, 1),\n",
       "  (4, 1),\n",
       "  (5, 1),\n",
       "  (6, 1),\n",
       "  (7, 1),\n",
       "  (8, 1),\n",
       "  (9, 1),\n",
       "  (10, 1),\n",
       "  (11, 1)],\n",
       " [(0, 1),\n",
       "  (3, 1),\n",
       "  (4, 1),\n",
       "  (6, 1),\n",
       "  (12, 1),\n",
       "  (13, 1),\n",
       "  (14, 1),\n",
       "  (15, 1),\n",
       "  (16, 1),\n",
       "  (17, 1),\n",
       "  (18, 1),\n",
       "  (19, 1),\n",
       "  (20, 1)],\n",
       " [(0, 2),\n",
       "  (3, 1),\n",
       "  (4, 1),\n",
       "  (6, 1),\n",
       "  (8, 1),\n",
       "  (21, 1),\n",
       "  (22, 1),\n",
       "  (23, 1),\n",
       "  (24, 1),\n",
       "  (25, 1),\n",
       "  (26, 1)],\n",
       " [(8, 1), (27, 1), (28, 1), (29, 1), (30, 1), (31, 1), (32, 1), (33, 1)]]"
      ]
     },
     "execution_count": 33,
     "metadata": {},
     "output_type": "execute_result"
    }
   ],
   "source": [
    "corpus"
   ]
  },
  {
   "cell_type": "code",
   "execution_count": 43,
   "metadata": {},
   "outputs": [],
   "source": [
    "# Entrenar un modelo LDA\n",
    "num_topics = 2  # Número de temas a descubrir\n",
    "lda_model = LdaModel(corpus, num_topics=num_topics, id2word=dictionary, passes=10)"
   ]
  },
  {
   "cell_type": "code",
   "execution_count": 44,
   "metadata": {},
   "outputs": [
    {
     "data": {
      "text/plain": [
       "<gensim.models.ldamodel.LdaModel at 0x218e9a086d0>"
      ]
     },
     "execution_count": 44,
     "metadata": {},
     "output_type": "execute_result"
    }
   ],
   "source": [
    "lda_model"
   ]
  },
  {
   "cell_type": "code",
   "execution_count": 45,
   "metadata": {},
   "outputs": [
    {
     "name": "stdout",
     "output_type": "stream",
     "text": [
      "Tema: 0\n",
      "Palabras principales: 0.060*\"promuevo\" + 0.059*\"resuelvan\" + 0.059*\"mismos\" + 0.059*\"cualquier\" + 0.059*\"diálogo\" + 0.059*\"mediante\" + 0.059*\"situación\" + 0.059*\"conflictos\" + 0.020*\"democrática\" + 0.020*\"intercultural\"\n",
      "\n",
      "Tema: 1\n",
      "Palabras principales: 0.083*\"aula\" + 0.065*\"convivencia\" + 0.065*\"intercultural\" + 0.065*\"democrática\" + 0.046*\"promuevo\" + 0.028*\"promuevan\" + 0.028*\"normas\" + 0.028*\"diversidad\" + 0.028*\"cultural\" + 0.028*\"respeto\"\n",
      "\n"
     ]
    }
   ],
   "source": [
    "# Imprimir los temas y las palabras principales en cada tema\n",
    "for idx, topic in lda_model.print_topics(-1):\n",
    "    print(f'Tema: {idx}\\nPalabras principales: {topic}\\n')"
   ]
  },
  {
   "cell_type": "code",
   "execution_count": 47,
   "metadata": {},
   "outputs": [
    {
     "name": "stdout",
     "output_type": "stream",
     "text": [
      "   algoritmos  analítica  análisis  aprendizaje  automático     clave   \n",
      "0    0.000000   0.000000  0.314595     0.000000    0.000000  0.000000  \\\n",
      "1    0.000000   0.368365  0.000000     0.000000    0.000000  0.000000   \n",
      "2    0.367977   0.000000  0.246438     0.367977    0.367977  0.000000   \n",
      "3    0.000000   0.000000  0.219718     0.000000    0.000000  0.328078   \n",
      "4    0.000000   0.000000  0.000000     0.000000    0.000000  0.000000   \n",
      "\n",
      "      datos        de  decisiones      del  ...  natural      para   \n",
      "0  0.000000  0.264647    0.000000  0.00000  ...  0.00000  0.000000  \\\n",
      "1  0.297195  0.207531    0.000000  0.00000  ...  0.00000  0.000000   \n",
      "2  0.000000  0.207312    0.000000  0.00000  ...  0.00000  0.367977   \n",
      "3  0.264691  0.184833    0.328078  0.00000  ...  0.00000  0.000000   \n",
      "4  0.000000  0.000000    0.000000  0.36719  ...  0.36719  0.000000   \n",
      "\n",
      "   procesamiento     rama       son     texto      toma   técnica       una   \n",
      "0        0.00000  0.00000  0.000000  0.469746  0.000000  0.000000  0.000000  \\\n",
      "1        0.00000  0.00000  0.000000  0.000000  0.000000  0.368365  0.297195   \n",
      "2        0.00000  0.00000  0.296881  0.000000  0.000000  0.000000  0.000000   \n",
      "3        0.00000  0.00000  0.264691  0.000000  0.328078  0.000000  0.000000   \n",
      "4        0.36719  0.36719  0.000000  0.000000  0.000000  0.000000  0.296247   \n",
      "\n",
      "     útiles  \n",
      "0  0.000000  \n",
      "1  0.000000  \n",
      "2  0.367977  \n",
      "3  0.000000  \n",
      "4  0.000000  \n",
      "\n",
      "[5 rows x 31 columns]\n"
     ]
    }
   ],
   "source": [
    "from sklearn.feature_extraction.text import TfidfVectorizer\n",
    "\n",
    "# Ejemplo de documentos de texto\n",
    "documents = [\n",
    "    \"El análisis de texto es interesante y desafiante.\",\n",
    "    \"La minería de datos es una técnica importante en analítica.\",\n",
    "    \"Los algoritmos de aprendizaje automático son útiles para el análisis.\",\n",
    "    \"Los datos son la clave en el análisis y la toma de decisiones.\",\n",
    "    \"El procesamiento del lenguaje natural es una rama emocionante.\"\n",
    "]\n",
    "\n",
    "# Crear un objeto TF-IDF Vectorizer\n",
    "tfidf_vectorizer = TfidfVectorizer()\n",
    "\n",
    "# Aplicar TF-IDF al conjunto de documentos\n",
    "tfidf_matrix = tfidf_vectorizer.fit_transform(documents)\n",
    "\n",
    "# Obtener la lista de palabras (características)\n",
    "words = tfidf_vectorizer.get_feature_names_out()\n",
    "\n",
    "# Crear un DataFrame para mostrar los resultados\n",
    "import pandas as pd\n",
    "df_tfidf = pd.DataFrame(data=tfidf_matrix.toarray(), columns=words)\n",
    "\n",
    "print(df_tfidf)\n",
    "\n",
    "\n",
    "\n"
   ]
  },
  {
   "cell_type": "code",
   "execution_count": null,
   "metadata": {},
   "outputs": [],
   "source": []
  }
 ],
 "metadata": {
  "kernelspec": {
   "display_name": "Python 3",
   "language": "python",
   "name": "python3"
  },
  "language_info": {
   "codemirror_mode": {
    "name": "ipython",
    "version": 3
   },
   "file_extension": ".py",
   "mimetype": "text/x-python",
   "name": "python",
   "nbconvert_exporter": "python",
   "pygments_lexer": "ipython3",
   "version": "3.10.2"
  },
  "orig_nbformat": 4
 },
 "nbformat": 4,
 "nbformat_minor": 2
}
