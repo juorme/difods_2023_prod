{
 "cells": [
  {
   "cell_type": "code",
   "execution_count": 14,
   "metadata": {},
   "outputs": [],
   "source": [
    "import pyodbc\n",
    "import pandas as pd "
   ]
  },
  {
   "attachments": {},
   "cell_type": "markdown",
   "metadata": {},
   "source": [
    "## Data Source"
   ]
  },
  {
   "cell_type": "code",
   "execution_count": 15,
   "metadata": {},
   "outputs": [],
   "source": [
    "# Credenciales \n",
    "conn = pyodbc.connect(DRIVER = '{ODBC Driver 17 for SQL Server}',\n",
    "                      SERVER = 'med000008646',\n",
    "                      DATABASE = 'BD_STAGE',\n",
    "                      UID = 'usconsulta',\n",
    "                      PWD = 'consulta')"
   ]
  },
  {
   "cell_type": "code",
   "execution_count": 16,
   "metadata": {},
   "outputs": [
    {
     "name": "stderr",
     "output_type": "stream",
     "text": [
      "C:\\Users\\DIFODS103\\AppData\\Local\\Temp\\ipykernel_18280\\2876347632.py:5: UserWarning: pandas only supports SQLAlchemy connectable (engine/connection) or database string URI or sqlite3 DBAPI2 connection. Other DBAPI2 objects are not tested. Please consider using SQLAlchemy.\n",
      "  df = pd.read_sql_query(query1,conn)\n"
     ]
    }
   ],
   "source": [
    "#Extraccion del dataset inical \n",
    "## maestro de cursos de la oferta formativa \n",
    "query1 = \"\"\"SELECT * FROM [dbo].[DATOS_MAESTRO_DOCENTE]\"\"\"\n",
    "\n",
    "df = pd.read_sql_query(query1,conn)"
   ]
  },
  {
   "cell_type": "code",
   "execution_count": 41,
   "metadata": {},
   "outputs": [
    {
     "data": {
      "text/html": [
       "<div>\n",
       "<style scoped>\n",
       "    .dataframe tbody tr th:only-of-type {\n",
       "        vertical-align: middle;\n",
       "    }\n",
       "\n",
       "    .dataframe tbody tr th {\n",
       "        vertical-align: top;\n",
       "    }\n",
       "\n",
       "    .dataframe thead th {\n",
       "        text-align: right;\n",
       "    }\n",
       "</style>\n",
       "<table border=\"1\" class=\"dataframe\">\n",
       "  <thead>\n",
       "    <tr style=\"text-align: right;\">\n",
       "      <th></th>\n",
       "      <th>PERIODO</th>\n",
       "      <th>DNI</th>\n",
       "      <th>MODULAR_IE</th>\n",
       "      <th>NIVEL_NEXUS</th>\n",
       "      <th>CODIGO_CARGO</th>\n",
       "      <th>DESCRIPCION_CARGO</th>\n",
       "      <th>CODIGO_TIPO_TRABAJADOR</th>\n",
       "      <th>DESCRIPCION_TIPO_TRABAJADOR</th>\n",
       "      <th>CODIGO_SUBTIPO_TRABAJO</th>\n",
       "      <th>DESCRIPCION_SUBTIPO_TRABAJADOR</th>\n",
       "      <th>...</th>\n",
       "      <th>CANT_PROGRAMA_FOCA</th>\n",
       "      <th>CANT_NOTA_APRO_PROGRAMA_FOCA</th>\n",
       "      <th>CANT_NOTA_NO_APRO_PROGRAMA_FOCA</th>\n",
       "      <th>CANT_SIN_NOTA_PROGRAMA_FOCA</th>\n",
       "      <th>CONEXION_PROGRAMA_FOCA_SEG</th>\n",
       "      <th>CANT_CURSOS</th>\n",
       "      <th>CANT_NOTA_APRO_CURSOS</th>\n",
       "      <th>CANT_NOTA_NO_APRO_CURSOS</th>\n",
       "      <th>CANT_SIN_NOTA_CURSOS</th>\n",
       "      <th>CONEXION_CURSOS_SEG</th>\n",
       "    </tr>\n",
       "  </thead>\n",
       "  <tbody>\n",
       "    <tr>\n",
       "      <th>0</th>\n",
       "      <td>2023</td>\n",
       "      <td>41580377</td>\n",
       "      <td>0735720</td>\n",
       "      <td>Primaria</td>\n",
       "      <td>13048</td>\n",
       "      <td>PROFESOR</td>\n",
       "      <td>10</td>\n",
       "      <td>DOCENTE</td>\n",
       "      <td>13</td>\n",
       "      <td>DOCENTE</td>\n",
       "      <td>...</td>\n",
       "      <td>NaN</td>\n",
       "      <td>None</td>\n",
       "      <td>None</td>\n",
       "      <td>None</td>\n",
       "      <td>None</td>\n",
       "      <td>NaN</td>\n",
       "      <td>NaN</td>\n",
       "      <td>NaN</td>\n",
       "      <td>NaN</td>\n",
       "      <td>NaN</td>\n",
       "    </tr>\n",
       "    <tr>\n",
       "      <th>1</th>\n",
       "      <td>2023</td>\n",
       "      <td>41581778</td>\n",
       "      <td>0259499</td>\n",
       "      <td>Inicial - Jardín</td>\n",
       "      <td>13048</td>\n",
       "      <td>PROFESOR</td>\n",
       "      <td>10</td>\n",
       "      <td>DOCENTE</td>\n",
       "      <td>13</td>\n",
       "      <td>DOCENTE</td>\n",
       "      <td>...</td>\n",
       "      <td>NaN</td>\n",
       "      <td>None</td>\n",
       "      <td>None</td>\n",
       "      <td>None</td>\n",
       "      <td>None</td>\n",
       "      <td>NaN</td>\n",
       "      <td>NaN</td>\n",
       "      <td>NaN</td>\n",
       "      <td>NaN</td>\n",
       "      <td>NaN</td>\n",
       "    </tr>\n",
       "    <tr>\n",
       "      <th>2</th>\n",
       "      <td>2023</td>\n",
       "      <td>41582453</td>\n",
       "      <td>1018167</td>\n",
       "      <td>Secundaria</td>\n",
       "      <td>13048</td>\n",
       "      <td>PROFESOR</td>\n",
       "      <td>10</td>\n",
       "      <td>DOCENTE</td>\n",
       "      <td>13</td>\n",
       "      <td>DOCENTE</td>\n",
       "      <td>...</td>\n",
       "      <td>NaN</td>\n",
       "      <td>None</td>\n",
       "      <td>None</td>\n",
       "      <td>None</td>\n",
       "      <td>None</td>\n",
       "      <td>NaN</td>\n",
       "      <td>NaN</td>\n",
       "      <td>NaN</td>\n",
       "      <td>NaN</td>\n",
       "      <td>NaN</td>\n",
       "    </tr>\n",
       "    <tr>\n",
       "      <th>3</th>\n",
       "      <td>2023</td>\n",
       "      <td>41582547</td>\n",
       "      <td>0713065</td>\n",
       "      <td>Secundaria</td>\n",
       "      <td>13048</td>\n",
       "      <td>PROFESOR</td>\n",
       "      <td>10</td>\n",
       "      <td>DOCENTE</td>\n",
       "      <td>13</td>\n",
       "      <td>DOCENTE</td>\n",
       "      <td>...</td>\n",
       "      <td>NaN</td>\n",
       "      <td>None</td>\n",
       "      <td>None</td>\n",
       "      <td>None</td>\n",
       "      <td>None</td>\n",
       "      <td>NaN</td>\n",
       "      <td>NaN</td>\n",
       "      <td>NaN</td>\n",
       "      <td>NaN</td>\n",
       "      <td>NaN</td>\n",
       "    </tr>\n",
       "    <tr>\n",
       "      <th>4</th>\n",
       "      <td>2023</td>\n",
       "      <td>41597965</td>\n",
       "      <td>1727551</td>\n",
       "      <td>Primaria</td>\n",
       "      <td>13048</td>\n",
       "      <td>PROFESOR</td>\n",
       "      <td>10</td>\n",
       "      <td>DOCENTE</td>\n",
       "      <td>13</td>\n",
       "      <td>DOCENTE</td>\n",
       "      <td>...</td>\n",
       "      <td>NaN</td>\n",
       "      <td>None</td>\n",
       "      <td>None</td>\n",
       "      <td>None</td>\n",
       "      <td>None</td>\n",
       "      <td>NaN</td>\n",
       "      <td>NaN</td>\n",
       "      <td>NaN</td>\n",
       "      <td>NaN</td>\n",
       "      <td>NaN</td>\n",
       "    </tr>\n",
       "  </tbody>\n",
       "</table>\n",
       "<p>5 rows × 57 columns</p>\n",
       "</div>"
      ],
      "text/plain": [
       "  PERIODO       DNI MODULAR_IE       NIVEL_NEXUS CODIGO_CARGO   \n",
       "0    2023  41580377    0735720          Primaria        13048  \\\n",
       "1    2023  41581778    0259499  Inicial - Jardín        13048   \n",
       "2    2023  41582453    1018167        Secundaria        13048   \n",
       "3    2023  41582547    0713065        Secundaria        13048   \n",
       "4    2023  41597965    1727551          Primaria        13048   \n",
       "\n",
       "  DESCRIPCION_CARGO CODIGO_TIPO_TRABAJADOR DESCRIPCION_TIPO_TRABAJADOR   \n",
       "0          PROFESOR                     10                     DOCENTE  \\\n",
       "1          PROFESOR                     10                     DOCENTE   \n",
       "2          PROFESOR                     10                     DOCENTE   \n",
       "3          PROFESOR                     10                     DOCENTE   \n",
       "4          PROFESOR                     10                     DOCENTE   \n",
       "\n",
       "  CODIGO_SUBTIPO_TRABAJO DESCRIPCION_SUBTIPO_TRABAJADOR  ...   \n",
       "0                     13                        DOCENTE  ...  \\\n",
       "1                     13                        DOCENTE  ...   \n",
       "2                     13                        DOCENTE  ...   \n",
       "3                     13                        DOCENTE  ...   \n",
       "4                     13                        DOCENTE  ...   \n",
       "\n",
       "  CANT_PROGRAMA_FOCA CANT_NOTA_APRO_PROGRAMA_FOCA   \n",
       "0                NaN                         None  \\\n",
       "1                NaN                         None   \n",
       "2                NaN                         None   \n",
       "3                NaN                         None   \n",
       "4                NaN                         None   \n",
       "\n",
       "  CANT_NOTA_NO_APRO_PROGRAMA_FOCA CANT_SIN_NOTA_PROGRAMA_FOCA   \n",
       "0                            None                        None  \\\n",
       "1                            None                        None   \n",
       "2                            None                        None   \n",
       "3                            None                        None   \n",
       "4                            None                        None   \n",
       "\n",
       "  CONEXION_PROGRAMA_FOCA_SEG CANT_CURSOS CANT_NOTA_APRO_CURSOS   \n",
       "0                       None         NaN                   NaN  \\\n",
       "1                       None         NaN                   NaN   \n",
       "2                       None         NaN                   NaN   \n",
       "3                       None         NaN                   NaN   \n",
       "4                       None         NaN                   NaN   \n",
       "\n",
       "  CANT_NOTA_NO_APRO_CURSOS CANT_SIN_NOTA_CURSOS CONEXION_CURSOS_SEG  \n",
       "0                      NaN                  NaN                 NaN  \n",
       "1                      NaN                  NaN                 NaN  \n",
       "2                      NaN                  NaN                 NaN  \n",
       "3                      NaN                  NaN                 NaN  \n",
       "4                      NaN                  NaN                 NaN  \n",
       "\n",
       "[5 rows x 57 columns]"
      ]
     },
     "execution_count": 41,
     "metadata": {},
     "output_type": "execute_result"
    }
   ],
   "source": [
    "df.head()"
   ]
  },
  {
   "cell_type": "code",
   "execution_count": 30,
   "metadata": {},
   "outputs": [
    {
     "name": "stdout",
     "output_type": "stream",
     "text": [
      "# de Docentes inscritos en SIFODS: 397220 \n"
     ]
    }
   ],
   "source": [
    "print(\"# de Docentes inscritos en SIFODS: %d \"  %df.shape[0])"
   ]
  },
  {
   "attachments": {},
   "cell_type": "markdown",
   "metadata": {},
   "source": [
    "## EDA"
   ]
  },
  {
   "cell_type": "code",
   "execution_count": 78,
   "metadata": {},
   "outputs": [
    {
     "data": {
      "text/plain": [
       "Index(['PERIODO', 'DNI', 'MODULAR_IE', 'NIVEL_NEXUS', 'CODIGO_CARGO',\n",
       "       'DESCRIPCION_CARGO', 'CODIGO_TIPO_TRABAJADOR',\n",
       "       'DESCRIPCION_TIPO_TRABAJADOR', 'CODIGO_SUBTIPO_TRABAJO',\n",
       "       'DESCRIPCION_SUBTIPO_TRABAJADOR', 'ESCALA', 'JORNADA_LABORAL',\n",
       "       'SITUACION_LABORAL', 'ESTADO_PLAZA', 'APELLIDO_PATERNO',\n",
       "       'APELLIDO_MATERNO', 'NOMBRES', 'TIPO_DOC', 'FECHA_NACIMIENTO', 'SEXO',\n",
       "       'FECHA_CARGA', 'DESCRIPCION_LEY', 'DESCRIPCION_REGION',\n",
       "       'NOMBRE_UGEL_DRE', 'CORREO_ELECTRONICO_SIF', 'DIRECCION_SIF',\n",
       "       'TELEFONO_FIJO_SIF', 'TELEFONO_MOVIL_SIF', 'UBIGEO_NACIMIENTO_SIF',\n",
       "       'ESTADO_CIVIL_SIF', 'MODALIDAD_SIF', 'CODIGO_MODULAR_SIF',\n",
       "       'REGIMEN_LABORAL_ACTUAL_SIF', 'TIEMPO_SERVICIO_SIF',\n",
       "       'TIEMPO_EXPERIENCIA_LABORAL_SIF', 'DISCAPACIDAD_SIF',\n",
       "       'SEDE_USUARIO_HERIM', 'NIVEL_ESCALE_HERIM', 'DOC_ESPECIALIDAD_HERIM',\n",
       "       'TIPO_IE_HERIM', 'DRE_HERIM', 'UGEL_HERIM', 'CANT_PROGRAMAS',\n",
       "       'CANT_NOTA_APRO_PROGRAMA', 'CANT_NOTA_NO_APRO_PROGRAMA',\n",
       "       'CANT_SIN_NOTA_PROGRAMA', 'CONEXION_PROGRAMA_SEG', 'CANT_PROGRAMA_FOCA',\n",
       "       'CANT_NOTA_APRO_PROGRAMA_FOCA', 'CANT_NOTA_NO_APRO_PROGRAMA_FOCA',\n",
       "       'CANT_SIN_NOTA_PROGRAMA_FOCA', 'CONEXION_PROGRAMA_FOCA_SEG',\n",
       "       'CANT_CURSOS', 'CANT_NOTA_APRO_CURSOS', 'CANT_NOTA_NO_APRO_CURSOS',\n",
       "       'CANT_SIN_NOTA_CURSOS', 'CONEXION_CURSOS_SEG'],\n",
       "      dtype='object')"
      ]
     },
     "execution_count": 78,
     "metadata": {},
     "output_type": "execute_result"
    }
   ],
   "source": [
    "df.columns"
   ]
  },
  {
   "cell_type": "code",
   "execution_count": 67,
   "metadata": {},
   "outputs": [
    {
     "data": {
      "text/html": [
       "<div>\n",
       "<style scoped>\n",
       "    .dataframe tbody tr th:only-of-type {\n",
       "        vertical-align: middle;\n",
       "    }\n",
       "\n",
       "    .dataframe tbody tr th {\n",
       "        vertical-align: top;\n",
       "    }\n",
       "\n",
       "    .dataframe thead th {\n",
       "        text-align: right;\n",
       "    }\n",
       "</style>\n",
       "<table border=\"1\" class=\"dataframe\">\n",
       "  <thead>\n",
       "    <tr style=\"text-align: right;\">\n",
       "      <th></th>\n",
       "      <th>NIVEL_NEXUS</th>\n",
       "      <th>FREQ</th>\n",
       "      <th>PORC</th>\n",
       "    </tr>\n",
       "  </thead>\n",
       "  <tbody>\n",
       "    <tr>\n",
       "      <th>0</th>\n",
       "      <td>Secundaria</td>\n",
       "      <td>161026</td>\n",
       "      <td>0.41</td>\n",
       "    </tr>\n",
       "    <tr>\n",
       "      <th>1</th>\n",
       "      <td>Primaria</td>\n",
       "      <td>148090</td>\n",
       "      <td>0.37</td>\n",
       "    </tr>\n",
       "    <tr>\n",
       "      <th>2</th>\n",
       "      <td>Inicial - Jardín</td>\n",
       "      <td>55246</td>\n",
       "      <td>0.14</td>\n",
       "    </tr>\n",
       "    <tr>\n",
       "      <th>3</th>\n",
       "      <td>Superior Tecnológica</td>\n",
       "      <td>7531</td>\n",
       "      <td>0.02</td>\n",
       "    </tr>\n",
       "    <tr>\n",
       "      <th>4</th>\n",
       "      <td>Básica Alternativa-Avanzado</td>\n",
       "      <td>6144</td>\n",
       "      <td>0.02</td>\n",
       "    </tr>\n",
       "    <tr>\n",
       "      <th>5</th>\n",
       "      <td>Técnico Productiva</td>\n",
       "      <td>5973</td>\n",
       "      <td>0.02</td>\n",
       "    </tr>\n",
       "    <tr>\n",
       "      <th>6</th>\n",
       "      <td>Inicial - Cuna-jardín</td>\n",
       "      <td>4745</td>\n",
       "      <td>0.01</td>\n",
       "    </tr>\n",
       "    <tr>\n",
       "      <th>7</th>\n",
       "      <td>Básica Especial-Primaria</td>\n",
       "      <td>2862</td>\n",
       "      <td>0.01</td>\n",
       "    </tr>\n",
       "    <tr>\n",
       "      <th>8</th>\n",
       "      <td>Superior Pedagógica</td>\n",
       "      <td>2344</td>\n",
       "      <td>0.01</td>\n",
       "    </tr>\n",
       "    <tr>\n",
       "      <th>9</th>\n",
       "      <td>Básica Alternativa-Inicial e I</td>\n",
       "      <td>1484</td>\n",
       "      <td>0.00</td>\n",
       "    </tr>\n",
       "    <tr>\n",
       "      <th>10</th>\n",
       "      <td>Superior Artística</td>\n",
       "      <td>676</td>\n",
       "      <td>0.00</td>\n",
       "    </tr>\n",
       "    <tr>\n",
       "      <th>11</th>\n",
       "      <td>Básica Especial-Inicial</td>\n",
       "      <td>613</td>\n",
       "      <td>0.00</td>\n",
       "    </tr>\n",
       "    <tr>\n",
       "      <th>12</th>\n",
       "      <td>Básica Especial</td>\n",
       "      <td>342</td>\n",
       "      <td>0.00</td>\n",
       "    </tr>\n",
       "    <tr>\n",
       "      <th>13</th>\n",
       "      <td>Inicial - Cuna</td>\n",
       "      <td>54</td>\n",
       "      <td>0.00</td>\n",
       "    </tr>\n",
       "    <tr>\n",
       "      <th>14</th>\n",
       "      <td>Administración</td>\n",
       "      <td>50</td>\n",
       "      <td>0.00</td>\n",
       "    </tr>\n",
       "    <tr>\n",
       "      <th>15</th>\n",
       "      <td>Inicial - Programa no escolari</td>\n",
       "      <td>39</td>\n",
       "      <td>0.00</td>\n",
       "    </tr>\n",
       "    <tr>\n",
       "      <th>16</th>\n",
       "      <td>Primaria de Adultos</td>\n",
       "      <td>1</td>\n",
       "      <td>0.00</td>\n",
       "    </tr>\n",
       "  </tbody>\n",
       "</table>\n",
       "</div>"
      ],
      "text/plain": [
       "                       NIVEL_NEXUS    FREQ  PORC\n",
       "0                       Secundaria  161026  0.41\n",
       "1                         Primaria  148090  0.37\n",
       "2                 Inicial - Jardín   55246  0.14\n",
       "3             Superior Tecnológica    7531  0.02\n",
       "4      Básica Alternativa-Avanzado    6144  0.02\n",
       "5               Técnico Productiva    5973  0.02\n",
       "6            Inicial - Cuna-jardín    4745  0.01\n",
       "7         Básica Especial-Primaria    2862  0.01\n",
       "8              Superior Pedagógica    2344  0.01\n",
       "9   Básica Alternativa-Inicial e I    1484  0.00\n",
       "10              Superior Artística     676  0.00\n",
       "11         Básica Especial-Inicial     613  0.00\n",
       "12                 Básica Especial     342  0.00\n",
       "13                  Inicial - Cuna      54  0.00\n",
       "14                  Administración      50  0.00\n",
       "15  Inicial - Programa no escolari      39  0.00\n",
       "16             Primaria de Adultos       1  0.00"
      ]
     },
     "execution_count": 67,
     "metadata": {},
     "output_type": "execute_result"
    }
   ],
   "source": [
    "eda_nivelnexus= df.NIVEL_NEXUS.value_counts().to_frame(\"FREQ\").reset_index()\n",
    "eda_nivelnexus[\"PORC\"] = [round(item / sum(eda_nivelnexus.FREQ),2) for item in eda_nivelnexus.FREQ]\n",
    "# print(eda_nivel_nexus)\n",
    "eda_nivelnexus"
   ]
  },
  {
   "cell_type": "code",
   "execution_count": 70,
   "metadata": {},
   "outputs": [
    {
     "data": {
      "text/plain": [
       "DESCRIPCION_TIPO_TRABAJADOR\n",
       "DOCENTE    397220\n",
       "Name: count, dtype: int64"
      ]
     },
     "execution_count": 70,
     "metadata": {},
     "output_type": "execute_result"
    }
   ],
   "source": [
    "eda2_cargo = df.DESCRIPCION_TIPO_TRABAJADOR.value_counts()\n",
    "eda2_cargo"
   ]
  },
  {
   "cell_type": "code",
   "execution_count": 57,
   "metadata": {},
   "outputs": [
    {
     "data": {
      "text/plain": [
       "397220"
      ]
     },
     "execution_count": 57,
     "metadata": {},
     "output_type": "execute_result"
    }
   ],
   "source": [
    "sum(eda_nivelnexus.FREQ)"
   ]
  },
  {
   "cell_type": "code",
   "execution_count": 55,
   "metadata": {},
   "outputs": [
    {
     "data": {
      "text/plain": [
       "range(0, 17)"
      ]
     },
     "execution_count": 55,
     "metadata": {},
     "output_type": "execute_result"
    }
   ],
   "source": [
    " range(len(eda_nivelnexus))"
   ]
  },
  {
   "cell_type": "code",
   "execution_count": 34,
   "metadata": {},
   "outputs": [
    {
     "ename": "SyntaxError",
     "evalue": "invalid syntax (415725561.py, line 1)",
     "output_type": "error",
     "traceback": [
      "\u001b[1;36m  Cell \u001b[1;32mIn[34], line 1\u001b[1;36m\u001b[0m\n\u001b[1;33m    eda_docentes=str(round(df.NIVEL_NEXUS.value_counts() / len(df),2)) + str%\u001b[0m\n\u001b[1;37m                                                                             ^\u001b[0m\n\u001b[1;31mSyntaxError\u001b[0m\u001b[1;31m:\u001b[0m invalid syntax\n"
     ]
    }
   ],
   "source": [
    "eda_docentes=str(round(df.NIVEL_NEXUS.value_counts() / len(df),2)) + str%\n",
    "eda_docentes"
   ]
  },
  {
   "cell_type": "code",
   "execution_count": 20,
   "metadata": {},
   "outputs": [
    {
     "data": {
      "text/html": [
       "<div>\n",
       "<style scoped>\n",
       "    .dataframe tbody tr th:only-of-type {\n",
       "        vertical-align: middle;\n",
       "    }\n",
       "\n",
       "    .dataframe tbody tr th {\n",
       "        vertical-align: top;\n",
       "    }\n",
       "\n",
       "    .dataframe thead th {\n",
       "        text-align: right;\n",
       "    }\n",
       "</style>\n",
       "<table border=\"1\" class=\"dataframe\">\n",
       "  <thead>\n",
       "    <tr style=\"text-align: right;\">\n",
       "      <th></th>\n",
       "      <th>CONT</th>\n",
       "    </tr>\n",
       "    <tr>\n",
       "      <th>DNI</th>\n",
       "      <th></th>\n",
       "    </tr>\n",
       "  </thead>\n",
       "  <tbody>\n",
       "    <tr>\n",
       "      <th>00091919</th>\n",
       "      <td>2</td>\n",
       "    </tr>\n",
       "    <tr>\n",
       "      <th>18115286</th>\n",
       "      <td>2</td>\n",
       "    </tr>\n",
       "    <tr>\n",
       "      <th>45983131</th>\n",
       "      <td>2</td>\n",
       "    </tr>\n",
       "    <tr>\n",
       "      <th>42059758</th>\n",
       "      <td>2</td>\n",
       "    </tr>\n",
       "    <tr>\n",
       "      <th>03314583</th>\n",
       "      <td>2</td>\n",
       "    </tr>\n",
       "    <tr>\n",
       "      <th>...</th>\n",
       "      <td>...</td>\n",
       "    </tr>\n",
       "    <tr>\n",
       "      <th>77051352</th>\n",
       "      <td>7</td>\n",
       "    </tr>\n",
       "    <tr>\n",
       "      <th>46139531</th>\n",
       "      <td>7</td>\n",
       "    </tr>\n",
       "    <tr>\n",
       "      <th>01296522</th>\n",
       "      <td>7</td>\n",
       "    </tr>\n",
       "    <tr>\n",
       "      <th>41273702</th>\n",
       "      <td>7</td>\n",
       "    </tr>\n",
       "    <tr>\n",
       "      <th>10693686</th>\n",
       "      <td>7</td>\n",
       "    </tr>\n",
       "  </tbody>\n",
       "</table>\n",
       "<p>5176 rows × 1 columns</p>\n",
       "</div>"
      ],
      "text/plain": [
       "          CONT\n",
       "DNI           \n",
       "00091919     2\n",
       "18115286     2\n",
       "45983131     2\n",
       "42059758     2\n",
       "03314583     2\n",
       "...        ...\n",
       "77051352     7\n",
       "46139531     7\n",
       "01296522     7\n",
       "41273702     7\n",
       "10693686     7\n",
       "\n",
       "[5176 rows x 1 columns]"
      ]
     },
     "execution_count": 20,
     "metadata": {},
     "output_type": "execute_result"
    }
   ],
   "source": [
    "\n",
    "eda1=df.groupby(\"DNI\")[\"DNI\"].count().sort_values(ascending =True).to_frame(\"CONT\")\n",
    "eda1[eda1['CONT']>1]"
   ]
  }
 ],
 "metadata": {
  "kernelspec": {
   "display_name": "Python 3",
   "language": "python",
   "name": "python3"
  },
  "language_info": {
   "codemirror_mode": {
    "name": "ipython",
    "version": 3
   },
   "file_extension": ".py",
   "mimetype": "text/x-python",
   "name": "python",
   "nbconvert_exporter": "python",
   "pygments_lexer": "ipython3",
   "version": "3.10.2"
  },
  "orig_nbformat": 4
 },
 "nbformat": 4,
 "nbformat_minor": 2
}
