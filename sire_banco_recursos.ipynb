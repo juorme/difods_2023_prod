{
 "cells": [
  {
   "attachments": {},
   "cell_type": "markdown",
   "metadata": {},
   "source": [
<<<<<<< HEAD
    "# Motor de Recomendación - Centro de Recursos dE SIFODS\n",
=======
    "# Motor de Recomendación - Banco de Recursos de SIFODS\n",
>>>>>>> 53a9542310780216d41721065d47679ddc904bab
    "-El centro de recursos de la plataforma educativa virtual del Sistema Integrado de Formación Docente en Servicio (SIFODS) tiene como finalidad de ofrecer a todos los docentes la oportunidad de acceder a una formación docente en servicio, pertinente y de calidad, de manera versátil, flexible y promoviendo la autoformación. \n",
    "\n",
    "-El objetivo del proyecto es desarrollar un modelo analítico de recomendación que pueda ayudar a los usuarios del Centro de recursos a encontrar los recursos más relevantes y útiles para sus necesidades individuales.\n",
    "\n",
    "-El proyecto se basa en técnicas de ciencia de datos y aprendizaje automático para analizar los datos disponibles del Centro de Recursos y generar recomendaciones personalizadas para los usuarios. Estos datos incluyen información sobre los usuarios, como su historial de descargas , calificaciones. Adicional se incluyen datos sobre las características del propio recurso , como las categorías , resumen, título."
   ]
  },
  {
   "attachments": {},
   "cell_type": "markdown",
   "metadata": {},
   "source": [
    "## 1. Recopilación de Datos"
   ]
  },
  {
   "cell_type": "code",
   "execution_count": 1,
   "metadata": {},
   "outputs": [],
   "source": [
    "#Librerias\n",
    "import pandas as pd \n",
    "import numpy as np\n",
    "import pyodbc\n",
    "import re \n",
    "import seaborn as sns\n",
    "\n",
    "import matplotlib.pyplot as plt\n",
    "\n",
    "import warnings\n",
    "warnings.filterwarnings('ignore')"
   ]
  },
  {
   "cell_type": "code",
   "execution_count": 2,
   "metadata": {},
   "outputs": [],
   "source": [
    "# Credenciales \n",
    "conn = pyodbc.connect(DRIVER = '{ODBC Driver 17 for SQL Server}',\n",
    "                      SERVER = 'med000008646',\n",
    "                      DATABASE = 'BD_STAGE',\n",
    "                      UID = 'usconsulta',\n",
    "                      PWD = 'consulta')"
   ]
  },
  {
   "cell_type": "code",
   "execution_count": 3,
   "metadata": {},
   "outputs": [],
   "source": [
    "#Extraccion del dataset inical \n",
    "## maestro de cursos de la oferta formativa \n",
    "query1 = \"\"\"SELECT  A.ID,\n",
    "\t\tA.TITULO, \n",
    "\t\tA.RESUMEN,\n",
    "\t\tB.DESCRIPCION AS CATEGORIA , \n",
    "\t\tC.DESCRIPCION AS TIPO_RECURSO,\n",
    "\t\tD.DESCRIPCION AS SUB_CATEGORIA, \n",
    "\t\tE.DESCRIPCION AS SEGUNDA,\n",
    "\t\tF.DESCRIPCION AS TERCERA,\n",
    "\t\tG.DESCRIPCION AS CUARTA,\n",
    "\t\tA.DESCARGAS,\n",
    "\t\tA.VISTAS\n",
    "\tFROM [st].[SI_acfm.transaccional.accion_formativa_banco_recurso] A\n",
    "\tLEFT JOIN [st].[SI_dbo.maestro.parametros] B on A.CATEGORIA_ID = B.ID\n",
    "\tLEFT JOIN [st].[SI_dbo.maestro.parametros] C on A.TIPORECURSO = C.ID\n",
    "\tLEFT JOIN [st].[SI_dbo.maestro.parametros] D on A.SUB_CATEGORIA_ID = D.ID\n",
    "\tLEFT JOIN [st].[SI_dbo.maestro.parametros] E on A.SEGUNDA_SUBCATEGORIA_ID=E.ID\n",
    "\tLEFT JOIN [st].[SI_dbo.maestro.parametros] F on A.TERCERA_SUBCATEGORIA_ID=F.ID\n",
    "\tLEFT JOIN [st].[SI_dbo.maestro.parametros] G on A.CUARTA_SUBCATEGORIA_ID=G.ID\n",
    "\tWHERE A.ESTADO=1\"\"\"\n",
    "    \n",
    "banco_recursos_df = pd.read_sql_query(query1,conn)\n",
    "\n",
    "\n",
    "## interacciones del usuario con sifods\n",
    "query2 = \"\"\"SELECT ID,\n",
    "                    DNI,\n",
    "                    ACCIONFORMATIVABANCORECURSOID,\n",
    "                    PREFERENCIA,\n",
    "                    VISTA,\n",
    "                    DESCARGA,\n",
    "                    CALIFICACION\n",
    "            FROM [st].[SI_acfm.transaccional.banco_recurso_like]\n",
    "            WHERE ESTADO=1\"\"\"\n",
    "acciones_df = pd.read_sql_query(query2,conn)\n",
    "\n",
    "\n",
    "#Cerrar la conexion\n",
    "conn.close()"
   ]
  },
  {
   "attachments": {},
   "cell_type": "markdown",
   "metadata": {},
   "source": [
    "**DataFrame Extraidos**"
   ]
  },
  {
   "cell_type": "code",
   "execution_count": 4,
   "metadata": {},
   "outputs": [
    {
     "data": {
      "text/html": [
       "<div>\n",
       "<style scoped>\n",
       "    .dataframe tbody tr th:only-of-type {\n",
       "        vertical-align: middle;\n",
       "    }\n",
       "\n",
       "    .dataframe tbody tr th {\n",
       "        vertical-align: top;\n",
       "    }\n",
       "\n",
       "    .dataframe thead th {\n",
       "        text-align: right;\n",
       "    }\n",
       "</style>\n",
       "<table border=\"1\" class=\"dataframe\">\n",
       "  <thead>\n",
       "    <tr style=\"text-align: right;\">\n",
       "      <th></th>\n",
       "      <th>ID</th>\n",
       "      <th>TITULO</th>\n",
       "      <th>RESUMEN</th>\n",
       "      <th>CATEGORIA</th>\n",
       "      <th>TIPO_RECURSO</th>\n",
       "      <th>SUB_CATEGORIA</th>\n",
       "      <th>SEGUNDA</th>\n",
       "      <th>TERCERA</th>\n",
       "      <th>CUARTA</th>\n",
       "      <th>DESCARGAS</th>\n",
       "      <th>VISTAS</th>\n",
       "    </tr>\n",
       "  </thead>\n",
       "  <tbody>\n",
       "    <tr>\n",
       "      <th>0</th>\n",
       "      <td>770</td>\n",
       "      <td>Comunicación 1: Cuaderno de trabajo</td>\n",
       "      <td>Presenta actividades que permiten el desarroll...</td>\n",
       "      <td>Material Educativo</td>\n",
       "      <td>Cuaderno de trabajo</td>\n",
       "      <td>None</td>\n",
       "      <td>None</td>\n",
       "      <td>None</td>\n",
       "      <td>None</td>\n",
       "      <td>2</td>\n",
       "      <td>9</td>\n",
       "    </tr>\n",
       "    <tr>\n",
       "      <th>1</th>\n",
       "      <td>1423</td>\n",
       "      <td>Augdaiyaku 1 - Tajimat pujut augdaiyaku - Leng...</td>\n",
       "      <td>Portafolio de evidencias para estudiantes del ...</td>\n",
       "      <td>Material Educativo</td>\n",
       "      <td>Cuaderno de trabajo</td>\n",
       "      <td>None</td>\n",
       "      <td>None</td>\n",
       "      <td>None</td>\n",
       "      <td>None</td>\n",
       "      <td>0</td>\n",
       "      <td>0</td>\n",
       "    </tr>\n",
       "    <tr>\n",
       "      <th>2</th>\n",
       "      <td>1425</td>\n",
       "      <td>Augdaiyaku 2 - Tajimat pujut augdaiyaku - Leng...</td>\n",
       "      <td>Portafolio de evidencias para estudiantes del ...</td>\n",
       "      <td>Material Educativo</td>\n",
       "      <td>Cuaderno de trabajo</td>\n",
       "      <td>None</td>\n",
       "      <td>None</td>\n",
       "      <td>None</td>\n",
       "      <td>None</td>\n",
       "      <td>0</td>\n",
       "      <td>0</td>\n",
       "    </tr>\n",
       "  </tbody>\n",
       "</table>\n",
       "</div>"
      ],
      "text/plain": [
       "     ID                                             TITULO   \n",
       "0   770                Comunicación 1: Cuaderno de trabajo  \\\n",
       "1  1423  Augdaiyaku 1 - Tajimat pujut augdaiyaku - Leng...   \n",
       "2  1425  Augdaiyaku 2 - Tajimat pujut augdaiyaku - Leng...   \n",
       "\n",
       "                                             RESUMEN           CATEGORIA   \n",
       "0  Presenta actividades que permiten el desarroll...  Material Educativo  \\\n",
       "1  Portafolio de evidencias para estudiantes del ...  Material Educativo   \n",
       "2  Portafolio de evidencias para estudiantes del ...  Material Educativo   \n",
       "\n",
       "          TIPO_RECURSO SUB_CATEGORIA SEGUNDA TERCERA CUARTA  DESCARGAS  VISTAS  \n",
       "0  Cuaderno de trabajo          None    None    None   None          2       9  \n",
       "1  Cuaderno de trabajo          None    None    None   None          0       0  \n",
       "2  Cuaderno de trabajo          None    None    None   None          0       0  "
      ]
     },
     "execution_count": 4,
     "metadata": {},
     "output_type": "execute_result"
    }
   ],
   "source": [
    "banco_recursos_df.head(3)"
   ]
  },
  {
   "cell_type": "code",
   "execution_count": 5,
   "metadata": {},
   "outputs": [
    {
     "data": {
      "text/html": [
       "<div>\n",
       "<style scoped>\n",
       "    .dataframe tbody tr th:only-of-type {\n",
       "        vertical-align: middle;\n",
       "    }\n",
       "\n",
       "    .dataframe tbody tr th {\n",
       "        vertical-align: top;\n",
       "    }\n",
       "\n",
       "    .dataframe thead th {\n",
       "        text-align: right;\n",
       "    }\n",
       "</style>\n",
       "<table border=\"1\" class=\"dataframe\">\n",
       "  <thead>\n",
       "    <tr style=\"text-align: right;\">\n",
       "      <th></th>\n",
       "      <th>ID</th>\n",
       "      <th>DNI</th>\n",
       "      <th>ACCIONFORMATIVABANCORECURSOID</th>\n",
       "      <th>PREFERENCIA</th>\n",
       "      <th>VISTA</th>\n",
       "      <th>DESCARGA</th>\n",
       "      <th>CALIFICACION</th>\n",
       "    </tr>\n",
       "  </thead>\n",
       "  <tbody>\n",
       "    <tr>\n",
       "      <th>0</th>\n",
       "      <td>1</td>\n",
       "      <td>26718640</td>\n",
       "      <td>2513</td>\n",
       "      <td>False</td>\n",
       "      <td>1</td>\n",
       "      <td>0</td>\n",
       "      <td>0</td>\n",
       "    </tr>\n",
       "    <tr>\n",
       "      <th>1</th>\n",
       "      <td>2</td>\n",
       "      <td>31036655</td>\n",
       "      <td>2293</td>\n",
       "      <td>False</td>\n",
       "      <td>1</td>\n",
       "      <td>0</td>\n",
       "      <td>0</td>\n",
       "    </tr>\n",
       "    <tr>\n",
       "      <th>2</th>\n",
       "      <td>3</td>\n",
       "      <td>71481859</td>\n",
       "      <td>1216</td>\n",
       "      <td>False</td>\n",
       "      <td>1</td>\n",
       "      <td>0</td>\n",
       "      <td>0</td>\n",
       "    </tr>\n",
       "  </tbody>\n",
       "</table>\n",
       "</div>"
      ],
      "text/plain": [
       "   ID       DNI  ACCIONFORMATIVABANCORECURSOID  PREFERENCIA  VISTA  DESCARGA   \n",
       "0   1  26718640                           2513        False      1         0  \\\n",
       "1   2  31036655                           2293        False      1         0   \n",
       "2   3  71481859                           1216        False      1         0   \n",
       "\n",
       "   CALIFICACION  \n",
       "0             0  \n",
       "1             0  \n",
       "2             0  "
      ]
     },
     "execution_count": 5,
     "metadata": {},
     "output_type": "execute_result"
    }
   ],
   "source": [
    "acciones_df.head(3)"
   ]
  },
  {
   "attachments": {},
   "cell_type": "markdown",
   "metadata": {},
   "source": [
    "## 2. Selección, limpieza y transformación"
   ]
  },
  {
   "attachments": {},
   "cell_type": "markdown",
   "metadata": {},
   "source": [
    "**Banco de recursos** "
   ]
  },
  {
   "cell_type": "code",
   "execution_count": 6,
   "metadata": {},
   "outputs": [],
   "source": [
    "def reemplazar_special_carac(text):\n",
    "    #Remover caracteres especiales de la columna\n",
    "    pattern = r'[^a-zA-Z\\sñÑáéíóúÁÉÍÓÚ]'\n",
    "    return re.sub(pattern,'', text)"
   ]
  },
  {
   "cell_type": "code",
   "execution_count": 7,
   "metadata": {},
   "outputs": [],
   "source": [
    "banco_recursos_df['TITULO'] = banco_recursos_df['TITULO'].apply(reemplazar_special_carac)\n",
    "banco_recursos_df['RESUMEN'] = banco_recursos_df['RESUMEN'].apply(reemplazar_special_carac)"
   ]
  },
  {
   "cell_type": "code",
   "execution_count": 8,
   "metadata": {},
   "outputs": [
    {
     "data": {
      "text/plain": [
       "0                    Comunicación  Cuaderno de trabajo\n",
       "1    Augdaiyaku   Tajimat pujut augdaiyaku  Lengua ...\n",
       "2    Augdaiyaku   Tajimat pujut augdaiyaku  Lengua ...\n",
       "Name: TITULO, dtype: object"
      ]
     },
     "execution_count": 8,
     "metadata": {},
     "output_type": "execute_result"
    }
   ],
   "source": [
    "banco_recursos_df.TITULO.head(3)"
   ]
  },
  {
   "cell_type": "code",
   "execution_count": 9,
   "metadata": {},
   "outputs": [
    {
     "data": {
      "text/plain": [
       "0    Presenta actividades que permiten el desarroll...\n",
       "1    Portafolio de evidencias para estudiantes del ...\n",
       "2    Portafolio de evidencias para estudiantes del ...\n",
       "Name: RESUMEN, dtype: object"
      ]
     },
     "execution_count": 9,
     "metadata": {},
     "output_type": "execute_result"
    }
   ],
   "source": [
    "banco_recursos_df.RESUMEN.head(3)"
   ]
  },
  {
   "attachments": {},
   "cell_type": "markdown",
   "metadata": {},
   "source": [
    "**Acciones Banco de Recursos**"
   ]
  },
  {
   "cell_type": "code",
   "execution_count": 10,
   "metadata": {},
   "outputs": [],
   "source": [
    "#Quitar los registros que no estan en la lista de banco de recursos con interacciones\n",
    "acciones_df_validos = acciones_df[acciones_df['ACCIONFORMATIVABANCORECURSOID'].isin(banco_recursos_df['ID'])]"
   ]
  },
  {
   "cell_type": "code",
   "execution_count": 11,
   "metadata": {},
   "outputs": [],
   "source": [
    "acciones_df_validos =acciones_df_validos[acciones_df_validos['DESCARGA']>0]"
   ]
  },
  {
   "cell_type": "code",
   "execution_count": 12,
   "metadata": {},
   "outputs": [
    {
     "name": "stdout",
     "output_type": "stream",
     "text": [
      "# usuarios : 413\n",
      "# usuarios seleccionados 236\n"
     ]
    }
   ],
   "source": [
    "usuarios_con_interacciones = acciones_df_validos.groupby('DNI')['ACCIONFORMATIVABANCORECURSOID'].size()\n",
    "usuarios_con_interacciones\n",
    "print(\"# usuarios : %d\" %len(usuarios_con_interacciones))\n",
    "usuarios_seleccionados = usuarios_con_interacciones[usuarios_con_interacciones > 1].reset_index()[['DNI']]\n",
    "print(\"# usuarios seleccionados %d\"  %len(usuarios_seleccionados))"
   ]
  },
  {
   "cell_type": "code",
   "execution_count": 13,
   "metadata": {},
   "outputs": [
    {
     "name": "stdout",
     "output_type": "stream",
     "text": [
      "# de interaciones total : 3592\n",
      "# de interacciones seleccionadas : 3415\n"
     ]
    }
   ],
   "source": [
    "print(\"# de interaciones total : %d\" %len(acciones_df_validos))\n",
    "\n",
    "acciones_df_validos_2 = acciones_df_validos.merge(usuarios_seleccionados, how=\"right\", left_on=\"DNI\",right_on=\"DNI\")\n",
    "\n",
    "print(\"# de interacciones seleccionadas : %d\" %len(acciones_df_validos_2))\n"
   ]
  },
  {
   "attachments": {},
   "cell_type": "markdown",
   "metadata": {},
   "source": [
    "## Análisis Descriptivo Estadistico"
   ]
  },
  {
   "cell_type": "code",
   "execution_count": 14,
   "metadata": {},
   "outputs": [
    {
     "name": "stdout",
     "output_type": "stream",
     "text": [
      "# de recursos registrados : 3029\n"
     ]
    }
   ],
   "source": [
    "print(\"# de recursos registrados : %d\" %len(banco_recursos_df))"
   ]
  },
  {
   "cell_type": "code",
   "execution_count": 15,
   "metadata": {},
   "outputs": [
    {
     "name": "stdout",
     "output_type": "stream",
     "text": [
      "CATEGORIA\n",
      "Herramientas de apoyo docente       679\n",
      "Material Educativo                 1800\n",
      "Recursos de Acciones Formativas     550\n",
      "dtype: int64\n"
     ]
    },
    {
     "data": {
      "text/plain": [
       "<Axes: title={'center': 'CATEGORIA BANCO DE RECURSOS'}, ylabel='CATEGORIA'>"
      ]
     },
     "execution_count": 15,
     "metadata": {},
     "output_type": "execute_result"
    },
    {
     "data": {
      "image/png": "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",
      "text/plain": [
       "<Figure size 600x400 with 1 Axes>"
      ]
     },
     "metadata": {},
     "output_type": "display_data"
    }
   ],
   "source": [
    "g_categoria = banco_recursos_df.groupby('CATEGORIA').size()\n",
    "print(g_categoria)\n",
    "g_categoria.plot(kind='barh',title='CATEGORIA BANCO DE RECURSOS',figsize=(6,4))"
   ]
  },
  {
   "cell_type": "code",
   "execution_count": 16,
   "metadata": {},
   "outputs": [
    {
     "name": "stdout",
     "output_type": "stream",
     "text": [
      "TIPO_RECURSO\n",
      "Infografía                3\n",
      "Modelado                  5\n",
      "Lámina                    9\n",
      "Audio                    11\n",
      "Manual                   16\n",
      "Orientaciones            31\n",
      "Prueba                   33\n",
      "Registro                 33\n",
      "Cartilla                 39\n",
      "Texto escolar            49\n",
      "Sílabo                   89\n",
      "Caja de herramientas    169\n",
      "Guía                    186\n",
      "Ficha                   249\n",
      "Video                   262\n",
      "Libro                   279\n",
      "Texto                   285\n",
      "Fascículo               332\n",
      "Cuaderno de trabajo     949\n",
      "dtype: int64\n"
     ]
    },
    {
     "data": {
      "text/plain": [
       "<Axes: title={'center': 'Tipos de Recursos'}, ylabel='TIPO_RECURSO'>"
      ]
     },
     "execution_count": 16,
     "metadata": {},
     "output_type": "execute_result"
    },
    {
     "data": {
      "image/png": "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",
      "text/plain": [
       "<Figure size 600x400 with 1 Axes>"
      ]
     },
     "metadata": {},
     "output_type": "display_data"
    }
   ],
   "source": [
    "g_tiporecurso = banco_recursos_df.groupby('TIPO_RECURSO').size().sort_values()\n",
    "print(g_tiporecurso)\n",
    "g_tiporecurso.plot(kind='barh',title='Tipos de Recursos',figsize=(6,4))"
   ]
  },
  {
   "cell_type": "code",
   "execution_count": 22,
   "metadata": {},
   "outputs": [
    {
     "data": {
      "text/plain": [
       "<Axes: title={'center': 'Frecuencia de Descargas del Banco de Recursos - SIFODS'}, ylabel='Frequency'>"
      ]
     },
     "execution_count": 22,
     "metadata": {},
     "output_type": "execute_result"
    },
    {
     "data": {
      "image/png": "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",
      "text/plain": [
       "<Figure size 400x300 with 1 Axes>"
      ]
     },
     "metadata": {},
     "output_type": "display_data"
    }
   ],
   "source": [
    "v1 = banco_recursos_df['DESCARGAS']\n",
    "v1.plot.hist(title ='Frecuencia de Descargas del Banco de Recursos - SIFODS',figsize=(4,3),range=(0,20))"
   ]
  },
  {
   "cell_type": "code",
   "execution_count": 23,
   "metadata": {},
   "outputs": [
    {
     "data": {
      "text/plain": [
       "<Axes: title={'center': 'Frecuencia de VISTAS del Banco de Recursos - SIFODS'}, ylabel='Frequency'>"
      ]
     },
     "execution_count": 23,
     "metadata": {},
     "output_type": "execute_result"
    },
    {
     "data": {
      "image/png": "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",
      "text/plain": [
       "<Figure size 600x400 with 1 Axes>"
      ]
     },
     "metadata": {},
     "output_type": "display_data"
    }
   ],
   "source": [
    "v2 = banco_recursos_df['VISTAS']\n",
    "v2.plot.hist(title ='Frecuencia de VISTAS del Banco de Recursos - SIFODS',figsize=(6,4),range=(0,120))"
   ]
  },
  {
   "cell_type": "code",
   "execution_count": 25,
   "metadata": {},
   "outputs": [
    {
     "data": {
      "text/plain": [
       "<Axes: xlabel='DESCARGA', ylabel='VISTA'>"
      ]
     },
     "execution_count": 25,
     "metadata": {},
     "output_type": "execute_result"
    },
    {
     "data": {
      "image/png": "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",
      "text/plain": [
       "<Figure size 640x480 with 1 Axes>"
      ]
     },
     "metadata": {},
     "output_type": "display_data"
    }
   ],
   "source": [
    "acciones_df_validos_2.plot(kind=\"scatter\",x='DESCARGA',y='VISTA')"
   ]
  },
  {
   "cell_type": "code",
   "execution_count": 26,
   "metadata": {},
   "outputs": [
    {
     "name": "stdout",
     "output_type": "stream",
     "text": [
      "# de docentes con acciones en el banco de recursos : 236\n"
     ]
    }
   ],
   "source": [
    "# Numero de docentes unicos \n",
    "num_docentes=acciones_df_validos_2['DNI'].unique()\n",
    "print(\"# de docentes con acciones en el banco de recursos : \"  + str(len(num_docentes)))"
   ]
  },
  {
   "cell_type": "code",
   "execution_count": 27,
   "metadata": {},
   "outputs": [
    {
     "name": "stdout",
     "output_type": "stream",
     "text": [
      "# de recursos descargados : 1183\n"
     ]
    }
   ],
   "source": [
    "num_recursos = acciones_df_validos_2['ACCIONFORMATIVABANCORECURSOID'].unique()\n",
    "print(\"# de recursos descargados : \" + str(len(num_recursos)))"
   ]
  },
  {
   "cell_type": "code",
   "execution_count": 28,
   "metadata": {},
   "outputs": [
    {
     "name": "stdout",
     "output_type": "stream",
     "text": [
      "# registros para el modelo : 3415\n"
     ]
    }
   ],
   "source": [
    "#Numero de registros total para el modelo\n",
    "num_registros_total = len(acciones_df_validos_2)\n",
    "print(\"# registros para el modelo : \" + str(num_registros_total))"
   ]
  },
  {
   "attachments": {},
   "cell_type": "markdown",
   "metadata": {},
   "source": [
    "**Selección de Variables**"
   ]
  },
  {
   "attachments": {},
   "cell_type": "markdown",
   "metadata": {},
   "source": [
    "- Para el analisis se realiza el procentaje de datos en la variable de acciones como son: VISTA , DESCARGA y CALIFICACIÓN\n",
    "donde se presentan escases de datos"
   ]
  },
  {
   "cell_type": "code",
   "execution_count": 24,
   "metadata": {},
   "outputs": [
    {
     "name": "stdout",
     "output_type": "stream",
     "text": [
      "Porcentaje de datos en la variable VISTA: 7.0%\n",
      "Porcentaje de datos en la variable DESCARGA: 100.0%\n",
      "Porcentaje de datos en la variable CALIFICACIÓN: 0.3%\n"
     ]
    }
   ],
   "source": [
    "porcentaje_vista_validos = round((len(acciones_df_validos[acciones_df_validos[\"VISTA\"] >= 1])/ len(acciones_df_validos)*100),1)\n",
    "porcentaje_descarga_validos = round((len(acciones_df_validos[acciones_df_validos[\"DESCARGA\"] >= 1])/ len(acciones_df_validos)*100),1)\n",
    "porcentaje_calificacion_validos = round((len(acciones_df_validos[acciones_df_validos[\"CALIFICACION\"] >= 1])/ len(acciones_df_validos)*100),1)\n",
    "\n",
    "\n",
    "print(\"Porcentaje de datos en la variable VISTA: \" + str(porcentaje_vista_validos) + \"%\")\n",
    "print(\"Porcentaje de datos en la variable DESCARGA: \" + str(porcentaje_descarga_validos) + \"%\")\n",
    "print(\"Porcentaje de datos en la variable CALIFICACIÓN: \" + str(porcentaje_calificacion_validos) + \"%\")"
   ]
  },
  {
   "attachments": {},
   "cell_type": "markdown",
   "metadata": {},
   "source": [
    "- Recursos mas descargados y visualizados para sugerir a usuarios nuevos los cuales no tengas interacciones con los recursos"
   ]
  },
  {
   "cell_type": "code",
   "execution_count": 25,
   "metadata": {},
   "outputs": [
    {
     "data": {
      "text/html": [
       "<div>\n",
       "<style scoped>\n",
       "    .dataframe tbody tr th:only-of-type {\n",
       "        vertical-align: middle;\n",
       "    }\n",
       "\n",
       "    .dataframe tbody tr th {\n",
       "        vertical-align: top;\n",
       "    }\n",
       "\n",
       "    .dataframe thead th {\n",
       "        text-align: right;\n",
       "    }\n",
       "</style>\n",
       "<table border=\"1\" class=\"dataframe\">\n",
       "  <thead>\n",
       "    <tr style=\"text-align: right;\">\n",
       "      <th></th>\n",
       "      <th>ID</th>\n",
       "      <th>TITULO</th>\n",
       "      <th>SUMD</th>\n",
       "    </tr>\n",
       "  </thead>\n",
       "  <tbody>\n",
       "    <tr>\n",
       "      <th>859</th>\n",
       "      <td>2516</td>\n",
       "      <td>Comunicación VI ciclo Recurso  bibliográfico A...</td>\n",
       "      <td>47</td>\n",
       "    </tr>\n",
       "    <tr>\n",
       "      <th>677</th>\n",
       "      <td>2330</td>\n",
       "      <td>Guía para la investigación y citado de fuentes...</td>\n",
       "      <td>43</td>\n",
       "    </tr>\n",
       "    <tr>\n",
       "      <th>666</th>\n",
       "      <td>2318</td>\n",
       "      <td>Fichas de actividades de la competencia Indaga...</td>\n",
       "      <td>29</td>\n",
       "    </tr>\n",
       "    <tr>\n",
       "      <th>949</th>\n",
       "      <td>2787</td>\n",
       "      <td>Fascículo U Curso Ciudadanía digital</td>\n",
       "      <td>26</td>\n",
       "    </tr>\n",
       "    <tr>\n",
       "      <th>857</th>\n",
       "      <td>2514</td>\n",
       "      <td>Comunicación VI ciclo Recurso  bibliográfico C...</td>\n",
       "      <td>21</td>\n",
       "    </tr>\n",
       "  </tbody>\n",
       "</table>\n",
       "</div>"
      ],
      "text/plain": [
       "       ID                                             TITULO  SUMD\n",
       "859  2516  Comunicación VI ciclo Recurso  bibliográfico A...    47\n",
       "677  2330  Guía para la investigación y citado de fuentes...    43\n",
       "666  2318  Fichas de actividades de la competencia Indaga...    29\n",
       "949  2787               Fascículo U Curso Ciudadanía digital    26\n",
       "857  2514  Comunicación VI ciclo Recurso  bibliográfico C...    21"
      ]
     },
     "execution_count": 25,
     "metadata": {},
     "output_type": "execute_result"
    }
   ],
   "source": [
    "# Recurso mas descargado\n",
    "recurso_popular_df =acciones_df_validos.groupby('ACCIONFORMATIVABANCORECURSOID')['DESCARGA'].sum().to_frame('SUMD').reset_index()\n",
    "recurso_popular_df = recurso_popular_df.merge(banco_recursos_df,how='inner',left_on='ACCIONFORMATIVABANCORECURSOID',right_on='ID').sort_values(by='DESCARGAS',ascending=False)\n",
    "recurso_popular_df[['ID','TITULO','SUMD']].head(5)"
   ]
  },
  {
   "cell_type": "code",
   "execution_count": 26,
   "metadata": {},
   "outputs": [],
   "source": [
    "acciones_full_df = acciones_df_validos_2[['ID','DNI','ACCIONFORMATIVABANCORECURSOID','DESCARGA']]\n",
    "interactions_indexed_df = acciones_full_df.set_index(\"DNI\")"
   ]
  },
  {
   "attachments": {},
   "cell_type": "markdown",
   "metadata": {},
   "source": [
    "## 3.Mineria de Datos - Algoritmo basado en Contenido"
   ]
  },
  {
   "attachments": {},
   "cell_type": "markdown",
   "metadata": {},
   "source": [
    "<p>\n",
    "TF-IDF divide el número de veces que una palabra ocurre en un documento en función de la proporción de todos los documentos en la que aparecere una palabra.\n",
    "</p>"
   ]
  },
  {
   "cell_type": "code",
   "execution_count": 29,
   "metadata": {},
   "outputs": [],
   "source": [
    "from sklearn.feature_extraction.text import TfidfVectorizer\n",
    "from nltk.corpus import stopwords #librerias para los stopwords\n",
    "import scipy\n",
    "import sklearn"
   ]
  },
  {
   "cell_type": "code",
   "execution_count": 31,
   "metadata": {},
   "outputs": [],
   "source": [
    "#ingnorar las palabras sin semantica del español\n",
    "stopwords_list = stopwords.words('spanish')\n",
    "\n",
    "item_ids = banco_recursos_df['ID'].tolist()\n",
    "tfidf_matrix = TfidfVectorizer().fit_transform(banco_recursos_df['TITULO'] +\" \" +banco_recursos_df['RESUMEN'])\n"
   ]
  },
  {
   "attachments": {},
   "cell_type": "markdown",
   "metadata": {},
   "source": [
    "<p>Para transformar nuestros datos, importamos TfidfVectorizer () de sklearn. Lo instanciamos a una variable; tfdfvec en este caso. De forma predeterminada, el vectorizador genera una función para cada palabra en cada documento, que son muchas funciones. Afortunadamente, podemos especificar restricciones en las características que se generan. Primero, establecemos el argumento min_df en dos. Esto limita nuestras funciones a solo aquellas que han ocurrido en al menos dos documentos. Útil ya que los términos que aparecen una vez no son valiosos para encontrar similitudes. También deberiamos eliminar las palabras que son demasiado comunes usando max_df  . Al establecer en el punto siete, se excluiran las palabras que aparezcan en más del 70% de las descripciones.   </p>"
   ]
  },
  {
   "cell_type": "code",
   "execution_count": 32,
   "metadata": {},
   "outputs": [
    {
     "name": "stdout",
     "output_type": "stream",
     "text": [
      "['abarca unidad' 'abarca unidad desarrolla' 'abecedario cuento' ...\n",
      " 'útiles vida' 'útiles vida ciudad' 'útiles vida través']\n"
     ]
    }
   ],
   "source": [
    "tfidfvec = TfidfVectorizer(min_df=2,ngram_range=(2,3), max_df=0.7,stop_words=stopwords_list)\n",
    "vectorized_data = tfidfvec.fit_transform(banco_recursos_df['TITULO']+\" \"+banco_recursos_df['RESUMEN'])\n",
    "print(tfidfvec.get_feature_names_out())"
   ]
  },
  {
   "cell_type": "code",
   "execution_count": 34,
   "metadata": {},
   "outputs": [
    {
     "data": {
      "text/html": [
       "<div>\n",
       "<style scoped>\n",
       "    .dataframe tbody tr th:only-of-type {\n",
       "        vertical-align: middle;\n",
       "    }\n",
       "\n",
       "    .dataframe tbody tr th {\n",
       "        vertical-align: top;\n",
       "    }\n",
       "\n",
       "    .dataframe thead th {\n",
       "        text-align: right;\n",
       "    }\n",
       "</style>\n",
       "<table border=\"1\" class=\"dataframe\">\n",
       "  <thead>\n",
       "    <tr style=\"text-align: right;\">\n",
       "      <th></th>\n",
       "      <th>abarca unidad</th>\n",
       "      <th>abarca unidad desarrolla</th>\n",
       "      <th>abecedario cuento</th>\n",
       "      <th>abecedario cuento niños</th>\n",
       "      <th>abiertos escucho</th>\n",
       "      <th>abiertos escucho cuento</th>\n",
       "      <th>abiertos veo</th>\n",
       "      <th>abiertos veo cuento</th>\n",
       "      <th>abitedi icaid</th>\n",
       "      <th>abitedi icaid tantiate</th>\n",
       "      <th>...</th>\n",
       "      <th>útil docentes eib</th>\n",
       "      <th>útil respecto</th>\n",
       "      <th>útil respecto cómo</th>\n",
       "      <th>útiles acercamiento</th>\n",
       "      <th>útiles acercamiento mundo</th>\n",
       "      <th>útiles estudiar</th>\n",
       "      <th>útiles estudiar lograr</th>\n",
       "      <th>útiles vida</th>\n",
       "      <th>útiles vida ciudad</th>\n",
       "      <th>útiles vida través</th>\n",
       "    </tr>\n",
       "    <tr>\n",
       "      <th>ID</th>\n",
       "      <th></th>\n",
       "      <th></th>\n",
       "      <th></th>\n",
       "      <th></th>\n",
       "      <th></th>\n",
       "      <th></th>\n",
       "      <th></th>\n",
       "      <th></th>\n",
       "      <th></th>\n",
       "      <th></th>\n",
       "      <th></th>\n",
       "      <th></th>\n",
       "      <th></th>\n",
       "      <th></th>\n",
       "      <th></th>\n",
       "      <th></th>\n",
       "      <th></th>\n",
       "      <th></th>\n",
       "      <th></th>\n",
       "      <th></th>\n",
       "      <th></th>\n",
       "    </tr>\n",
       "  </thead>\n",
       "  <tbody>\n",
       "    <tr>\n",
       "      <th>770</th>\n",
       "      <td>0.0</td>\n",
       "      <td>0.0</td>\n",
       "      <td>0.0</td>\n",
       "      <td>0.0</td>\n",
       "      <td>0.0</td>\n",
       "      <td>0.0</td>\n",
       "      <td>0.0</td>\n",
       "      <td>0.0</td>\n",
       "      <td>0.0</td>\n",
       "      <td>0.0</td>\n",
       "      <td>...</td>\n",
       "      <td>0.0</td>\n",
       "      <td>0.0</td>\n",
       "      <td>0.0</td>\n",
       "      <td>0.0</td>\n",
       "      <td>0.0</td>\n",
       "      <td>0.0</td>\n",
       "      <td>0.0</td>\n",
       "      <td>0.0</td>\n",
       "      <td>0.0</td>\n",
       "      <td>0.0</td>\n",
       "    </tr>\n",
       "    <tr>\n",
       "      <th>1423</th>\n",
       "      <td>0.0</td>\n",
       "      <td>0.0</td>\n",
       "      <td>0.0</td>\n",
       "      <td>0.0</td>\n",
       "      <td>0.0</td>\n",
       "      <td>0.0</td>\n",
       "      <td>0.0</td>\n",
       "      <td>0.0</td>\n",
       "      <td>0.0</td>\n",
       "      <td>0.0</td>\n",
       "      <td>...</td>\n",
       "      <td>0.0</td>\n",
       "      <td>0.0</td>\n",
       "      <td>0.0</td>\n",
       "      <td>0.0</td>\n",
       "      <td>0.0</td>\n",
       "      <td>0.0</td>\n",
       "      <td>0.0</td>\n",
       "      <td>0.0</td>\n",
       "      <td>0.0</td>\n",
       "      <td>0.0</td>\n",
       "    </tr>\n",
       "    <tr>\n",
       "      <th>1425</th>\n",
       "      <td>0.0</td>\n",
       "      <td>0.0</td>\n",
       "      <td>0.0</td>\n",
       "      <td>0.0</td>\n",
       "      <td>0.0</td>\n",
       "      <td>0.0</td>\n",
       "      <td>0.0</td>\n",
       "      <td>0.0</td>\n",
       "      <td>0.0</td>\n",
       "      <td>0.0</td>\n",
       "      <td>...</td>\n",
       "      <td>0.0</td>\n",
       "      <td>0.0</td>\n",
       "      <td>0.0</td>\n",
       "      <td>0.0</td>\n",
       "      <td>0.0</td>\n",
       "      <td>0.0</td>\n",
       "      <td>0.0</td>\n",
       "      <td>0.0</td>\n",
       "      <td>0.0</td>\n",
       "      <td>0.0</td>\n",
       "    </tr>\n",
       "    <tr>\n",
       "      <th>1430</th>\n",
       "      <td>0.0</td>\n",
       "      <td>0.0</td>\n",
       "      <td>0.0</td>\n",
       "      <td>0.0</td>\n",
       "      <td>0.0</td>\n",
       "      <td>0.0</td>\n",
       "      <td>0.0</td>\n",
       "      <td>0.0</td>\n",
       "      <td>0.0</td>\n",
       "      <td>0.0</td>\n",
       "      <td>...</td>\n",
       "      <td>0.0</td>\n",
       "      <td>0.0</td>\n",
       "      <td>0.0</td>\n",
       "      <td>0.0</td>\n",
       "      <td>0.0</td>\n",
       "      <td>0.0</td>\n",
       "      <td>0.0</td>\n",
       "      <td>0.0</td>\n",
       "      <td>0.0</td>\n",
       "      <td>0.0</td>\n",
       "    </tr>\n",
       "    <tr>\n",
       "      <th>1432</th>\n",
       "      <td>0.0</td>\n",
       "      <td>0.0</td>\n",
       "      <td>0.0</td>\n",
       "      <td>0.0</td>\n",
       "      <td>0.0</td>\n",
       "      <td>0.0</td>\n",
       "      <td>0.0</td>\n",
       "      <td>0.0</td>\n",
       "      <td>0.0</td>\n",
       "      <td>0.0</td>\n",
       "      <td>...</td>\n",
       "      <td>0.0</td>\n",
       "      <td>0.0</td>\n",
       "      <td>0.0</td>\n",
       "      <td>0.0</td>\n",
       "      <td>0.0</td>\n",
       "      <td>0.0</td>\n",
       "      <td>0.0</td>\n",
       "      <td>0.0</td>\n",
       "      <td>0.0</td>\n",
       "      <td>0.0</td>\n",
       "    </tr>\n",
       "  </tbody>\n",
       "</table>\n",
       "<p>5 rows × 15389 columns</p>\n",
       "</div>"
      ],
      "text/plain": [
       "      abarca unidad  abarca unidad desarrolla  abecedario cuento   \n",
       "ID                                                                 \n",
       "770             0.0                       0.0                0.0  \\\n",
       "1423            0.0                       0.0                0.0   \n",
       "1425            0.0                       0.0                0.0   \n",
       "1430            0.0                       0.0                0.0   \n",
       "1432            0.0                       0.0                0.0   \n",
       "\n",
       "      abecedario cuento niños  abiertos escucho  abiertos escucho cuento   \n",
       "ID                                                                         \n",
       "770                       0.0               0.0                      0.0  \\\n",
       "1423                      0.0               0.0                      0.0   \n",
       "1425                      0.0               0.0                      0.0   \n",
       "1430                      0.0               0.0                      0.0   \n",
       "1432                      0.0               0.0                      0.0   \n",
       "\n",
       "      abiertos veo  abiertos veo cuento  abitedi icaid   \n",
       "ID                                                       \n",
       "770            0.0                  0.0            0.0  \\\n",
       "1423           0.0                  0.0            0.0   \n",
       "1425           0.0                  0.0            0.0   \n",
       "1430           0.0                  0.0            0.0   \n",
       "1432           0.0                  0.0            0.0   \n",
       "\n",
       "      abitedi icaid tantiate  ...  útil docentes eib  útil respecto   \n",
       "ID                            ...                                     \n",
       "770                      0.0  ...                0.0            0.0  \\\n",
       "1423                     0.0  ...                0.0            0.0   \n",
       "1425                     0.0  ...                0.0            0.0   \n",
       "1430                     0.0  ...                0.0            0.0   \n",
       "1432                     0.0  ...                0.0            0.0   \n",
       "\n",
       "      útil respecto cómo  útiles acercamiento  útiles acercamiento mundo   \n",
       "ID                                                                         \n",
       "770                  0.0                  0.0                        0.0  \\\n",
       "1423                 0.0                  0.0                        0.0   \n",
       "1425                 0.0                  0.0                        0.0   \n",
       "1430                 0.0                  0.0                        0.0   \n",
       "1432                 0.0                  0.0                        0.0   \n",
       "\n",
       "      útiles estudiar  útiles estudiar lograr  útiles vida   \n",
       "ID                                                           \n",
       "770               0.0                     0.0          0.0  \\\n",
       "1423              0.0                     0.0          0.0   \n",
       "1425              0.0                     0.0          0.0   \n",
       "1430              0.0                     0.0          0.0   \n",
       "1432              0.0                     0.0          0.0   \n",
       "\n",
       "      útiles vida ciudad  útiles vida través  \n",
       "ID                                            \n",
       "770                  0.0                 0.0  \n",
       "1423                 0.0                 0.0  \n",
       "1425                 0.0                 0.0  \n",
       "1430                 0.0                 0.0  \n",
       "1432                 0.0                 0.0  \n",
       "\n",
       "[5 rows x 15389 columns]"
      ]
     },
     "execution_count": 34,
     "metadata": {},
     "output_type": "execute_result"
    }
   ],
   "source": [
    "tfidf = pd.DataFrame(vectorized_data.toarray(),\n",
    "                            columns=tfidfvec.get_feature_names_out())\n",
    "tfidf.index = banco_recursos_df['ID']\n",
    "tfidf.head(5)                            "
   ]
  },
  {
   "attachments": {},
   "cell_type": "markdown",
   "metadata": {},
   "source": [
    "<p>Similitud de coseno.- A medida que avancemos de las características booleanas a los valores continuos de TF-IDF, usaremos una métrica eso es mejor para medir entre elementos que tienen más variación en sus datos similitud de coseno.</p>"
   ]
  },
  {
   "cell_type": "code",
   "execution_count": 35,
   "metadata": {},
   "outputs": [],
   "source": [
    "from sklearn.metrics.pairwise import cosine_similarity\n",
    "cosine_similarity_array = cosine_similarity(tfidf)"
   ]
  },
  {
   "cell_type": "code",
   "execution_count": 36,
   "metadata": {},
   "outputs": [],
   "source": [
    "acciones_df_validos['ACCIONFORMATIVABANCORECURSOID']=acciones_df_validos.ACCIONFORMATIVABANCORECURSOID .astype('object')"
   ]
  },
  {
   "cell_type": "code",
   "execution_count": 37,
   "metadata": {},
   "outputs": [],
   "source": [
    "def get_item_profile(item_id):\n",
    "    idx = item_ids.index(item_id)\n",
    "    item_profile= tfidf[idx:idx+1]\n",
    "    return item_profile\n",
    "\n",
    "def get_item_profiles(ids):\n",
    "    item_profiles = []\n",
    "    item_profile_list = [get_item_profile(x) for x in ids]\n",
    "    item_profiles = pd.concat(item_profiles + item_profile_list)\n",
    "    return item_profiles\n",
    "\n",
    "def build_users_profile(person_id, interacciones_indexed_df):\n",
    "    \n",
    "    interactions_person_df = interacciones_indexed_df.loc[person_id]\n",
    "    user_item_profiles = get_item_profiles(interactions_person_df['ACCIONFORMATIVABANCORECURSOID'])\n",
    "\n",
    "    user_item_strength = user_item_profiles.mean()\n",
    "    \n",
    "    non_resources = tfidf.drop(interactions_person_df['ACCIONFORMATIVABANCORECURSOID'] , axis= 0)\n",
    "    \n",
    "    resources_similarities = cosine_similarity(user_item_strength.values.reshape(1,-1),non_resources)\n",
    "\n",
    "    user_similarities_df = pd.DataFrame(resources_similarities.T,\n",
    "                                       index=non_resources.index,\n",
    "                                        columns=['Score']).reset_index()\n",
    "    sorted_similarity_df = user_similarities_df.sort_values(by='Score', ascending=False)\n",
    "    sorted_similarity_df_2 = sorted_similarity_df.head(5)\n",
    "    sorted_similarity_df_2['DNI']= person_id\n",
    "\n",
    "    return sorted_similarity_df_2\n",
    "\n",
    "\n",
    "def build_users_profiles():\n",
    "    interacciones_indexed_df = acciones_df_validos_2[acciones_df_validos_2['ACCIONFORMATIVABANCORECURSOID']\\\n",
    "                                                   .isin(banco_recursos_df['ID'])].set_index('DNI')\n",
    "    usuario_perfiles=pd.DataFrame([])\n",
    "    for persona_id in interacciones_indexed_df.index.unique():\n",
    "        usuario_perfiles = pd.concat([usuario_perfiles , build_users_profile(persona_id, interacciones_indexed_df)])\n",
    "    return usuario_perfiles"
   ]
  },
  {
   "cell_type": "code",
   "execution_count": 188,
   "metadata": {},
   "outputs": [],
   "source": [
    "#Creando la recomendación de recursos personalizados a los usuarios\n",
    "m_text_df=build_users_profiles()"
   ]
  },
  {
   "cell_type": "code",
   "execution_count": 187,
   "metadata": {},
   "outputs": [
    {
     "data": {
      "text/html": [
       "<div>\n",
       "<style scoped>\n",
       "    .dataframe tbody tr th:only-of-type {\n",
       "        vertical-align: middle;\n",
       "    }\n",
       "\n",
       "    .dataframe tbody tr th {\n",
       "        vertical-align: top;\n",
       "    }\n",
       "\n",
       "    .dataframe thead th {\n",
       "        text-align: right;\n",
       "    }\n",
       "</style>\n",
       "<table border=\"1\" class=\"dataframe\">\n",
       "  <thead>\n",
       "    <tr style=\"text-align: right;\">\n",
       "      <th></th>\n",
       "      <th>DNI</th>\n",
       "      <th>ID</th>\n",
       "      <th>Score</th>\n",
       "    </tr>\n",
       "  </thead>\n",
       "  <tbody>\n",
       "    <tr>\n",
       "      <th>1556</th>\n",
       "      <td>00067813</td>\n",
       "      <td>1841</td>\n",
       "      <td>0.709990</td>\n",
       "    </tr>\n",
       "    <tr>\n",
       "      <th>1576</th>\n",
       "      <td>00067813</td>\n",
       "      <td>2087</td>\n",
       "      <td>0.694860</td>\n",
       "    </tr>\n",
       "    <tr>\n",
       "      <th>1573</th>\n",
       "      <td>00067813</td>\n",
       "      <td>2084</td>\n",
       "      <td>0.694860</td>\n",
       "    </tr>\n",
       "    <tr>\n",
       "      <th>1465</th>\n",
       "      <td>00067813</td>\n",
       "      <td>1982</td>\n",
       "      <td>0.694860</td>\n",
       "    </tr>\n",
       "    <tr>\n",
       "      <th>1494</th>\n",
       "      <td>00067813</td>\n",
       "      <td>2012</td>\n",
       "      <td>0.694860</td>\n",
       "    </tr>\n",
       "    <tr>\n",
       "      <th>...</th>\n",
       "      <td>...</td>\n",
       "      <td>...</td>\n",
       "      <td>...</td>\n",
       "    </tr>\n",
       "    <tr>\n",
       "      <th>224</th>\n",
       "      <td>80390655</td>\n",
       "      <td>704</td>\n",
       "      <td>0.893819</td>\n",
       "    </tr>\n",
       "    <tr>\n",
       "      <th>225</th>\n",
       "      <td>80390655</td>\n",
       "      <td>705</td>\n",
       "      <td>0.893819</td>\n",
       "    </tr>\n",
       "    <tr>\n",
       "      <th>238</th>\n",
       "      <td>80390655</td>\n",
       "      <td>728</td>\n",
       "      <td>0.893706</td>\n",
       "    </tr>\n",
       "    <tr>\n",
       "      <th>239</th>\n",
       "      <td>80390655</td>\n",
       "      <td>729</td>\n",
       "      <td>0.893706</td>\n",
       "    </tr>\n",
       "    <tr>\n",
       "      <th>229</th>\n",
       "      <td>80390655</td>\n",
       "      <td>709</td>\n",
       "      <td>0.885895</td>\n",
       "    </tr>\n",
       "  </tbody>\n",
       "</table>\n",
       "<p>1180 rows × 3 columns</p>\n",
       "</div>"
      ],
      "text/plain": [
       "           DNI    ID     Score\n",
       "1556  00067813  1841  0.709990\n",
       "1576  00067813  2087  0.694860\n",
       "1573  00067813  2084  0.694860\n",
       "1465  00067813  1982  0.694860\n",
       "1494  00067813  2012  0.694860\n",
       "...        ...   ...       ...\n",
       "224   80390655   704  0.893819\n",
       "225   80390655   705  0.893819\n",
       "238   80390655   728  0.893706\n",
       "239   80390655   729  0.893706\n",
       "229   80390655   709  0.885895\n",
       "\n",
       "[1180 rows x 3 columns]"
      ]
     },
     "execution_count": 187,
     "metadata": {},
     "output_type": "execute_result"
    }
   ],
   "source": [
    "m_text_df=m_text_df.reindex(columns=['DNI','ID','Score'])\n",
    "m_text_df"
   ]
  },
  {
   "cell_type": "code",
   "execution_count": 41,
   "metadata": {},
   "outputs": [
    {
     "name": "stdout",
     "output_type": "stream",
     "text": [
      "tecnología yine contiene              0.119173\n",
      "ciencia tecnología yine               0.119173\n",
      "tecnología yine                       0.119173\n",
      "social ciencia tecnología             0.108110\n",
      "personal social ciencia               0.108110\n",
      "social ciencia                        0.108110\n",
      "animales plantas                      0.105228\n",
      "yine contiene actividades             0.102637\n",
      "yine contiene                         0.102637\n",
      "personal social                       0.091283\n",
      "ciencia tecnología                    0.090608\n",
      "texto personal                        0.076529\n",
      "texto personal social                 0.076529\n",
      "animales yine                         0.073289\n",
      "situaciones aprendizaje               0.072868\n",
      "áreas personal social                 0.065949\n",
      "áreas personal                        0.065949\n",
      "competencias áreas personal           0.065949\n",
      "tecnología estudiantes nivel          0.065949\n",
      "tecnología estudiantes                0.065949\n",
      "ciencia tecnología estudiantes        0.065949\n",
      "vinculadas actividades calendario     0.064290\n",
      "aprendizaje vinculadas actividades    0.064290\n",
      "aprendizaje vinculadas                0.064290\n",
      "vinculadas actividades                0.064290\n",
      "situaciones aprendizaje vinculadas    0.064290\n",
      "cartilla animales                     0.059030\n",
      "desarrollo competencias áreas         0.058675\n",
      "desarrollo competencias               0.057925\n",
      "primario partir situaciones           0.057298\n",
      "dtype: float64\n"
     ]
    },
    {
     "data": {
      "text/html": [
       "<div>\n",
       "<style scoped>\n",
       "    .dataframe tbody tr th:only-of-type {\n",
       "        vertical-align: middle;\n",
       "    }\n",
       "\n",
       "    .dataframe tbody tr th {\n",
       "        vertical-align: top;\n",
       "    }\n",
       "\n",
       "    .dataframe thead th {\n",
       "        text-align: right;\n",
       "    }\n",
       "</style>\n",
       "<table border=\"1\" class=\"dataframe\">\n",
       "  <thead>\n",
       "    <tr style=\"text-align: right;\">\n",
       "      <th></th>\n",
       "      <th>Score</th>\n",
       "    </tr>\n",
       "    <tr>\n",
       "      <th>ID</th>\n",
       "      <th></th>\n",
       "    </tr>\n",
       "  </thead>\n",
       "  <tbody>\n",
       "    <tr>\n",
       "      <th>1841</th>\n",
       "      <td>0.70999</td>\n",
       "    </tr>\n",
       "    <tr>\n",
       "      <th>2087</th>\n",
       "      <td>0.69486</td>\n",
       "    </tr>\n",
       "    <tr>\n",
       "      <th>2084</th>\n",
       "      <td>0.69486</td>\n",
       "    </tr>\n",
       "    <tr>\n",
       "      <th>1982</th>\n",
       "      <td>0.69486</td>\n",
       "    </tr>\n",
       "    <tr>\n",
       "      <th>2012</th>\n",
       "      <td>0.69486</td>\n",
       "    </tr>\n",
       "    <tr>\n",
       "      <th>...</th>\n",
       "      <td>...</td>\n",
       "    </tr>\n",
       "    <tr>\n",
       "      <th>13</th>\n",
       "      <td>0.00000</td>\n",
       "    </tr>\n",
       "    <tr>\n",
       "      <th>23</th>\n",
       "      <td>0.00000</td>\n",
       "    </tr>\n",
       "    <tr>\n",
       "      <th>17</th>\n",
       "      <td>0.00000</td>\n",
       "    </tr>\n",
       "    <tr>\n",
       "      <th>20</th>\n",
       "      <td>0.00000</td>\n",
       "    </tr>\n",
       "    <tr>\n",
       "      <th>3213</th>\n",
       "      <td>0.00000</td>\n",
       "    </tr>\n",
       "  </tbody>\n",
       "</table>\n",
       "<p>3027 rows × 1 columns</p>\n",
       "</div>"
      ],
      "text/plain": [
       "        Score\n",
       "ID           \n",
       "1841  0.70999\n",
       "2087  0.69486\n",
       "2084  0.69486\n",
       "1982  0.69486\n",
       "2012  0.69486\n",
       "...       ...\n",
       "13    0.00000\n",
       "23    0.00000\n",
       "17    0.00000\n",
       "20    0.00000\n",
       "3213  0.00000\n",
       "\n",
       "[3027 rows x 1 columns]"
      ]
     },
     "execution_count": 41,
     "metadata": {},
     "output_type": "execute_result"
    }
   ],
   "source": [
    "#Perfil de docente\n",
    "recursos = acciones_df_validos_2[acciones_df_validos_2['DNI']=='00067813']['ACCIONFORMATIVABANCORECURSOID'].to_list()\n",
    "jun_book = tfidf.reindex(recursos)\n",
    "jun_profile = jun_book.mean()\n",
    "\n",
    "#Perfil de docente\n",
    "print(jun_profile.sort_values(ascending=False).head(30))\n",
    "\n",
    "\n",
    "#crear un subconjunto de solo los recursos que no descargó\n",
    "non_users_recursos=tfidf.drop(recursos, axis=0)\n",
    "\n",
    "#Calcula el indice de similitud de coseno entre todas las filas \n",
    "user_prof_similarities= cosine_similarity(jun_profile.values.reshape(1,-1),non_users_recursos)\n",
    "\n",
    "#Guarda en un dataframe \n",
    "user_similariity_df = pd.DataFrame(user_prof_similarities.T,\n",
    "                                   index=non_users_recursos.index,\n",
    "                                   columns=['Score'])\n",
    "\n",
    "\n",
    "sorted_similarity_df = user_similariity_df.sort_values(by='Score', ascending=False)\n",
    "sorted_similarity_df"
   ]
  },
  {
   "cell_type": "code",
   "execution_count": 50,
   "metadata": {},
   "outputs": [
    {
     "data": {
      "text/plain": [
       "[1983, 1842]"
      ]
     },
     "execution_count": 50,
     "metadata": {},
     "output_type": "execute_result"
    }
   ],
   "source": [
    "recursos"
   ]
  },
  {
   "cell_type": "code",
   "execution_count": 49,
   "metadata": {},
   "outputs": [
    {
     "data": {
      "text/html": [
       "<div>\n",
       "<style scoped>\n",
       "    .dataframe tbody tr th:only-of-type {\n",
       "        vertical-align: middle;\n",
       "    }\n",
       "\n",
       "    .dataframe tbody tr th {\n",
       "        vertical-align: top;\n",
       "    }\n",
       "\n",
       "    .dataframe thead th {\n",
       "        text-align: right;\n",
       "    }\n",
       "</style>\n",
       "<table border=\"1\" class=\"dataframe\">\n",
       "  <thead>\n",
       "    <tr style=\"text-align: right;\">\n",
       "      <th></th>\n",
       "      <th>ID</th>\n",
       "      <th>TITULO</th>\n",
       "      <th>RESUMEN</th>\n",
       "      <th>CATEGORIA</th>\n",
       "      <th>TIPO_RECURSO</th>\n",
       "      <th>SUB_CATEGORIA</th>\n",
       "      <th>SEGUNDA</th>\n",
       "      <th>TERCERA</th>\n",
       "      <th>CUARTA</th>\n",
       "      <th>DESCARGAS</th>\n",
       "      <th>VISTAS</th>\n",
       "    </tr>\n",
       "  </thead>\n",
       "  <tbody>\n",
       "    <tr>\n",
       "      <th>1557</th>\n",
       "      <td>1841</td>\n",
       "      <td>Texto  Personal Social  Ciencia y Tecnología  ...</td>\n",
       "      <td>Contiene actividades que apoyan el desarrollo ...</td>\n",
       "      <td>Material Educativo</td>\n",
       "      <td>Texto</td>\n",
       "      <td>None</td>\n",
       "      <td>None</td>\n",
       "      <td>None</td>\n",
       "      <td>None</td>\n",
       "      <td>0</td>\n",
       "      <td>0</td>\n",
       "    </tr>\n",
       "  </tbody>\n",
       "</table>\n",
       "</div>"
      ],
      "text/plain": [
       "        ID                                             TITULO   \n",
       "1557  1841  Texto  Personal Social  Ciencia y Tecnología  ...  \\\n",
       "\n",
       "                                                RESUMEN           CATEGORIA   \n",
       "1557  Contiene actividades que apoyan el desarrollo ...  Material Educativo  \\\n",
       "\n",
       "     TIPO_RECURSO SUB_CATEGORIA SEGUNDA TERCERA CUARTA  DESCARGAS  VISTAS  \n",
       "1557        Texto          None    None    None   None          0       0  "
      ]
     },
     "execution_count": 49,
     "metadata": {},
     "output_type": "execute_result"
    }
   ],
   "source": [
    "banco_recursos_df[banco_recursos_df['ID']==1841]"
   ]
  }
 ],
 "metadata": {
  "kernelspec": {
   "display_name": "Python 3",
   "language": "python",
   "name": "python3"
  },
  "language_info": {
   "codemirror_mode": {
    "name": "ipython",
    "version": 3
   },
   "file_extension": ".py",
   "mimetype": "text/x-python",
   "name": "python",
   "nbconvert_exporter": "python",
   "pygments_lexer": "ipython3",
   "version": "3.10.2"
  },
  "orig_nbformat": 4
 },
 "nbformat": 4,
 "nbformat_minor": 2
}
