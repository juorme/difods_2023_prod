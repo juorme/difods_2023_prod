{
    "cells": [
        {
            "attachments": {},
            "cell_type": "markdown",
            "metadata": {},
            "source": [
                "# Motor de Recomendación - Banco de Recursos de SIFODS\n",
                "-El centro de recursos de la plataforma educativa virtual del Sistema Integrado de Formación Docente en Servicio (SIFODS) tiene como finalidad de ofrecer a todos los docentes la oportunidad de acceder a una formación docente en servicio, pertinente y de calidad, de manera versátil, flexible y promoviendo la autoformación. \n",
                "\n",
                "-El objetivo del proyecto es desarrollar un modelo analítico de recomendación que pueda ayudar a los usuarios del Centro de recursos a encontrar los recursos más relevantes y útiles para sus necesidades individuales.\n",
                "\n",
                "-El proyecto se basa en técnicas de ciencia de datos y aprendizaje automático para analizar los datos disponibles del Centro de Recursos y generar recomendaciones personalizadas para los usuarios. Estos datos incluyen información sobre los usuarios, como su historial de descargas , calificaciones. Adicional se incluyen datos sobre las características del propio recurso , como las categorías , resumen, título."
            ]
        },
        {
            "attachments": {},
            "cell_type": "markdown",
            "metadata": {},
            "source": [
                "## 1. Recopilación de Datos"
            ]
        },
        {
            "cell_type": "code",
            "execution_count": 91,
            "metadata": {},
            "outputs": [],
            "source": [
                "#Librerias\n",
                "import pandas as pd \n",
                "import numpy as np\n",
                "import pyodbc\n",
                "import re \n",
                "import seaborn as sns\n",
                "\n",
                "import matplotlib.pyplot as plt\n",
                "from sklearn.metrics.pairwise import cosine_similarity\n",
                "\n",
                "\n",
                "import warnings\n",
                "warnings.filterwarnings('ignore')"
            ]
        },
        {
            "cell_type": "code",
            "execution_count": 92,
            "metadata": {},
            "outputs": [],
            "source": [
                "# Credenciales \n",
                "conn = pyodbc.connect(DRIVER = '{ODBC Driver 17 for SQL Server}',\n",
                "                      SERVER = 'med000008646',\n",
                "                      DATABASE = 'BD_STAGE',\n",
                "                      UID = 'usconsulta',\n",
                "                      PWD = 'consulta')"
            ]
        },
        {
            "cell_type": "code",
            "execution_count": 93,
            "metadata": {},
            "outputs": [],
            "source": [
                "#Extraccion del dataset inical \n",
                "## maestro de cursos de la oferta formativa \n",
                "query1 = \"\"\"SELECT  A.ID,\n",
                "\t\tA.TITULO, \n",
                "\t\tA.RESUMEN,\n",
                "\t\tB.DESCRIPCION AS CATEGORIA , \n",
                "\t\tC.DESCRIPCION AS TIPO_RECURSO,\n",
                "\t\tD.DESCRIPCION AS SUB_CATEGORIA, \n",
                "\t\tE.DESCRIPCION AS SEGUNDA,\n",
                "\t\tF.DESCRIPCION AS TERCERA,\n",
                "\t\tG.DESCRIPCION AS CUARTA,\n",
                "\t\tA.DESCARGAS,\n",
                "\t\tA.VISTAS\n",
                "\tFROM [st].[SI_acfm.transaccional.accion_formativa_banco_recurso] A\n",
                "\tLEFT JOIN [st].[SI_dbo.maestro.parametros] B on A.CATEGORIA_ID = B.ID\n",
                "\tLEFT JOIN [st].[SI_dbo.maestro.parametros] C on A.TIPORECURSO = C.ID\n",
                "\tLEFT JOIN [st].[SI_dbo.maestro.parametros] D on A.SUB_CATEGORIA_ID = D.ID\n",
                "\tLEFT JOIN [st].[SI_dbo.maestro.parametros] E on A.SEGUNDA_SUBCATEGORIA_ID=E.ID\n",
                "\tLEFT JOIN [st].[SI_dbo.maestro.parametros] F on A.TERCERA_SUBCATEGORIA_ID=F.ID\n",
                "\tLEFT JOIN [st].[SI_dbo.maestro.parametros] G on A.CUARTA_SUBCATEGORIA_ID=G.ID\n",
                "\tWHERE A.ESTADO=1\"\"\"\n",
                "    \n",
                "banco_recursos_df = pd.read_sql_query(query1,conn)\n",
                "\n",
                "\n",
                "## interacciones del usuario con sifods\n",
                "query2 = \"\"\"SELECT ID,\n",
                "                    DNI,\n",
                "                    ACCIONFORMATIVABANCORECURSOID,\n",
                "                    PREFERENCIA,\n",
                "                    VISTA,\n",
                "                    DESCARGA,\n",
                "                    CALIFICACION\n",
                "            FROM [st].[SI_acfm.transaccional.banco_recurso_like]\n",
                "            WHERE ESTADO=1\"\"\"\n",
                "acciones_df = pd.read_sql_query(query2,conn)\n",
                "\n",
                "\n",
                "#Cerrar la conexion\n",
                "conn.close()"
            ]
        },
        {
            "attachments": {},
            "cell_type": "markdown",
            "metadata": {},
            "source": [
                "**DataFrame Extraidos**"
            ]
        },
        {
            "cell_type": "code",
            "execution_count": 94,
            "metadata": {},
            "outputs": [
                {
                    "data": {
                        "text/html": [
                            "<div>\n",
                            "<style scoped>\n",
                            "    .dataframe tbody tr th:only-of-type {\n",
                            "        vertical-align: middle;\n",
                            "    }\n",
                            "\n",
                            "    .dataframe tbody tr th {\n",
                            "        vertical-align: top;\n",
                            "    }\n",
                            "\n",
                            "    .dataframe thead th {\n",
                            "        text-align: right;\n",
                            "    }\n",
                            "</style>\n",
                            "<table border=\"1\" class=\"dataframe\">\n",
                            "  <thead>\n",
                            "    <tr style=\"text-align: right;\">\n",
                            "      <th></th>\n",
                            "      <th>ID</th>\n",
                            "      <th>TITULO</th>\n",
                            "      <th>RESUMEN</th>\n",
                            "      <th>CATEGORIA</th>\n",
                            "      <th>TIPO_RECURSO</th>\n",
                            "      <th>SUB_CATEGORIA</th>\n",
                            "      <th>SEGUNDA</th>\n",
                            "      <th>TERCERA</th>\n",
                            "      <th>CUARTA</th>\n",
                            "      <th>DESCARGAS</th>\n",
                            "      <th>VISTAS</th>\n",
                            "    </tr>\n",
                            "  </thead>\n",
                            "  <tbody>\n",
                            "    <tr>\n",
                            "      <th>0</th>\n",
                            "      <td>770</td>\n",
                            "      <td>Comunicación 1: Cuaderno de trabajo</td>\n",
                            "      <td>Presenta actividades que permiten el desarroll...</td>\n",
                            "      <td>Material Educativo</td>\n",
                            "      <td>Cuaderno de trabajo</td>\n",
                            "      <td>None</td>\n",
                            "      <td>None</td>\n",
                            "      <td>None</td>\n",
                            "      <td>None</td>\n",
                            "      <td>2</td>\n",
                            "      <td>9</td>\n",
                            "    </tr>\n",
                            "    <tr>\n",
                            "      <th>1</th>\n",
                            "      <td>1423</td>\n",
                            "      <td>Augdaiyaku 1 - Tajimat pujut augdaiyaku - Leng...</td>\n",
                            "      <td>Portafolio de evidencias para estudiantes del ...</td>\n",
                            "      <td>Material Educativo</td>\n",
                            "      <td>Cuaderno de trabajo</td>\n",
                            "      <td>None</td>\n",
                            "      <td>None</td>\n",
                            "      <td>None</td>\n",
                            "      <td>None</td>\n",
                            "      <td>0</td>\n",
                            "      <td>0</td>\n",
                            "    </tr>\n",
                            "    <tr>\n",
                            "      <th>2</th>\n",
                            "      <td>1425</td>\n",
                            "      <td>Augdaiyaku 2 - Tajimat pujut augdaiyaku - Leng...</td>\n",
                            "      <td>Portafolio de evidencias para estudiantes del ...</td>\n",
                            "      <td>Material Educativo</td>\n",
                            "      <td>Cuaderno de trabajo</td>\n",
                            "      <td>None</td>\n",
                            "      <td>None</td>\n",
                            "      <td>None</td>\n",
                            "      <td>None</td>\n",
                            "      <td>0</td>\n",
                            "      <td>0</td>\n",
                            "    </tr>\n",
                            "  </tbody>\n",
                            "</table>\n",
                            "</div>"
                        ],
                        "text/plain": [
                            "     ID                                             TITULO   \n",
                            "0   770                Comunicación 1: Cuaderno de trabajo  \\\n",
                            "1  1423  Augdaiyaku 1 - Tajimat pujut augdaiyaku - Leng...   \n",
                            "2  1425  Augdaiyaku 2 - Tajimat pujut augdaiyaku - Leng...   \n",
                            "\n",
                            "                                             RESUMEN           CATEGORIA   \n",
                            "0  Presenta actividades que permiten el desarroll...  Material Educativo  \\\n",
                            "1  Portafolio de evidencias para estudiantes del ...  Material Educativo   \n",
                            "2  Portafolio de evidencias para estudiantes del ...  Material Educativo   \n",
                            "\n",
                            "          TIPO_RECURSO SUB_CATEGORIA SEGUNDA TERCERA CUARTA  DESCARGAS  VISTAS  \n",
                            "0  Cuaderno de trabajo          None    None    None   None          2       9  \n",
                            "1  Cuaderno de trabajo          None    None    None   None          0       0  \n",
                            "2  Cuaderno de trabajo          None    None    None   None          0       0  "
                        ]
                    },
                    "execution_count": 94,
                    "metadata": {},
                    "output_type": "execute_result"
                }
            ],
            "source": [
                "banco_recursos_df.head(3)"
            ]
        },
        {
            "cell_type": "code",
            "execution_count": 95,
            "metadata": {},
            "outputs": [
                {
                    "data": {
                        "text/html": [
                            "<div>\n",
                            "<style scoped>\n",
                            "    .dataframe tbody tr th:only-of-type {\n",
                            "        vertical-align: middle;\n",
                            "    }\n",
                            "\n",
                            "    .dataframe tbody tr th {\n",
                            "        vertical-align: top;\n",
                            "    }\n",
                            "\n",
                            "    .dataframe thead th {\n",
                            "        text-align: right;\n",
                            "    }\n",
                            "</style>\n",
                            "<table border=\"1\" class=\"dataframe\">\n",
                            "  <thead>\n",
                            "    <tr style=\"text-align: right;\">\n",
                            "      <th></th>\n",
                            "      <th>ID</th>\n",
                            "      <th>DNI</th>\n",
                            "      <th>ACCIONFORMATIVABANCORECURSOID</th>\n",
                            "      <th>PREFERENCIA</th>\n",
                            "      <th>VISTA</th>\n",
                            "      <th>DESCARGA</th>\n",
                            "      <th>CALIFICACION</th>\n",
                            "    </tr>\n",
                            "  </thead>\n",
                            "  <tbody>\n",
                            "    <tr>\n",
                            "      <th>0</th>\n",
                            "      <td>1</td>\n",
                            "      <td>26718640</td>\n",
                            "      <td>2513</td>\n",
                            "      <td>False</td>\n",
                            "      <td>1</td>\n",
                            "      <td>0</td>\n",
                            "      <td>0</td>\n",
                            "    </tr>\n",
                            "    <tr>\n",
                            "      <th>1</th>\n",
                            "      <td>2</td>\n",
                            "      <td>31036655</td>\n",
                            "      <td>2293</td>\n",
                            "      <td>False</td>\n",
                            "      <td>1</td>\n",
                            "      <td>0</td>\n",
                            "      <td>0</td>\n",
                            "    </tr>\n",
                            "    <tr>\n",
                            "      <th>2</th>\n",
                            "      <td>3</td>\n",
                            "      <td>71481859</td>\n",
                            "      <td>1216</td>\n",
                            "      <td>False</td>\n",
                            "      <td>1</td>\n",
                            "      <td>0</td>\n",
                            "      <td>0</td>\n",
                            "    </tr>\n",
                            "  </tbody>\n",
                            "</table>\n",
                            "</div>"
                        ],
                        "text/plain": [
                            "   ID       DNI  ACCIONFORMATIVABANCORECURSOID  PREFERENCIA  VISTA  DESCARGA   \n",
                            "0   1  26718640                           2513        False      1         0  \\\n",
                            "1   2  31036655                           2293        False      1         0   \n",
                            "2   3  71481859                           1216        False      1         0   \n",
                            "\n",
                            "   CALIFICACION  \n",
                            "0             0  \n",
                            "1             0  \n",
                            "2             0  "
                        ]
                    },
                    "execution_count": 95,
                    "metadata": {},
                    "output_type": "execute_result"
                }
            ],
            "source": [
                "acciones_df.head(3)"
            ]
        },
        {
            "attachments": {},
            "cell_type": "markdown",
            "metadata": {},
            "source": [
                "## 2. Selección, limpieza y transformación"
            ]
        },
        {
            "attachments": {},
            "cell_type": "markdown",
            "metadata": {},
            "source": [
                "**Banco de recursos** "
            ]
        },
        {
            "cell_type": "code",
            "execution_count": 96,
            "metadata": {},
            "outputs": [],
            "source": [
                "def reemplazar_special_carac(text):\n",
                "    #Remover caracteres especiales de la columna\n",
                "    pattern = r'[^a-zA-Z\\sñÑáéíóúÁÉÍÓÚ]'\n",
                "    return re.sub(pattern,'', text)"
            ]
        },
        {
            "cell_type": "code",
            "execution_count": 97,
            "metadata": {},
            "outputs": [],
            "source": [
                "banco_recursos_df['TITULO'] = banco_recursos_df['TITULO'].apply(reemplazar_special_carac)\n",
                "banco_recursos_df['RESUMEN'] = banco_recursos_df['RESUMEN'].apply(reemplazar_special_carac)"
            ]
        },
        {
            "cell_type": "code",
            "execution_count": 98,
            "metadata": {},
            "outputs": [
                {
                    "data": {
                        "text/plain": [
                            "0                    Comunicación  Cuaderno de trabajo\n",
                            "1    Augdaiyaku   Tajimat pujut augdaiyaku  Lengua ...\n",
                            "2    Augdaiyaku   Tajimat pujut augdaiyaku  Lengua ...\n",
                            "Name: TITULO, dtype: object"
                        ]
                    },
                    "execution_count": 98,
                    "metadata": {},
                    "output_type": "execute_result"
                }
            ],
            "source": [
                "banco_recursos_df.TITULO.head(3)"
            ]
        },
        {
            "cell_type": "code",
            "execution_count": 99,
            "metadata": {},
            "outputs": [
                {
                    "data": {
                        "text/plain": [
                            "0    Presenta actividades que permiten el desarroll...\n",
                            "1    Portafolio de evidencias para estudiantes del ...\n",
                            "2    Portafolio de evidencias para estudiantes del ...\n",
                            "Name: RESUMEN, dtype: object"
                        ]
                    },
                    "execution_count": 99,
                    "metadata": {},
                    "output_type": "execute_result"
                }
            ],
            "source": [
                "banco_recursos_df.RESUMEN.head(3)"
            ]
        },
        {
            "attachments": {},
            "cell_type": "markdown",
            "metadata": {},
            "source": [
                "**Acciones Banco de Recursos**"
            ]
        },
        {
            "cell_type": "code",
            "execution_count": 100,
            "metadata": {},
            "outputs": [],
            "source": [
                "#Quitar los registros que no estan en la lista de banco de recursos con interacciones\n",
                "acciones_df_validos = acciones_df[acciones_df['ACCIONFORMATIVABANCORECURSOID'].isin(banco_recursos_df['ID'])]"
            ]
        },
        {
            "cell_type": "code",
            "execution_count": 101,
            "metadata": {},
            "outputs": [],
            "source": [
                "acciones_df_validos =acciones_df_validos[acciones_df_validos['DESCARGA']>0]"
            ]
        },
        {
            "cell_type": "code",
            "execution_count": 102,
            "metadata": {},
            "outputs": [
                {
                    "name": "stdout",
                    "output_type": "stream",
                    "text": [
                        "# usuarios : 413\n",
                        "# usuarios seleccionados 236\n"
                    ]
                }
            ],
            "source": [
                "usuarios_con_interacciones = acciones_df_validos.groupby('DNI')['ACCIONFORMATIVABANCORECURSOID'].size()\n",
                "usuarios_con_interacciones\n",
                "print(\"# usuarios : %d\" %len(usuarios_con_interacciones))\n",
                "usuarios_seleccionados = usuarios_con_interacciones[usuarios_con_interacciones > 1].reset_index()[['DNI']]\n",
                "print(\"# usuarios seleccionados %d\"  %len(usuarios_seleccionados))"
            ]
        },
        {
            "cell_type": "code",
            "execution_count": 103,
            "metadata": {},
            "outputs": [
                {
                    "name": "stdout",
                    "output_type": "stream",
                    "text": [
                        "# de interaciones total : 3592\n",
                        "# de interacciones seleccionadas : 3415\n"
                    ]
                }
            ],
            "source": [
                "print(\"# de interaciones total : %d\" %len(acciones_df_validos))\n",
                "\n",
                "acciones_df_validos_2 = acciones_df_validos.merge(usuarios_seleccionados, how=\"right\", left_on=\"DNI\",right_on=\"DNI\")\n",
                "\n",
                "print(\"# de interacciones seleccionadas : %d\" %len(acciones_df_validos_2))\n"
            ]
        },
        {
            "attachments": {},
            "cell_type": "markdown",
            "metadata": {},
            "source": [
                "## Análisis Descriptivo Estadistico"
            ]
        },
        {
            "cell_type": "code",
            "execution_count": 104,
            "metadata": {},
            "outputs": [
                {
                    "name": "stdout",
                    "output_type": "stream",
                    "text": [
                        "# de recursos registrados : 3029\n"
                    ]
                }
            ],
            "source": [
                "print(\"# de recursos registrados : %d\" %len(banco_recursos_df))"
            ]
        },
        {
            "cell_type": "code",
            "execution_count": 105,
            "metadata": {},
            "outputs": [
                {
                    "name": "stdout",
                    "output_type": "stream",
                    "text": [
                        "CATEGORIA\n",
                        "Herramientas de apoyo docente       679\n",
                        "Material Educativo                 1800\n",
                        "Recursos de Acciones Formativas     550\n",
                        "dtype: int64\n"
                    ]
                },
                {
                    "data": {
                        "text/plain": [
                            "<Axes: title={'center': 'CATEGORIA BANCO DE RECURSOS'}, ylabel='CATEGORIA'>"
                        ]
                    },
                    "execution_count": 105,
                    "metadata": {},
                    "output_type": "execute_result"
                },
                {
                    "data": {
                        "image/png": "[encoded data removed]",
                        "text/plain": [
                            "<Figure size 600x400 with 1 Axes>"
                        ]
                    },
                    "metadata": {},
                    "output_type": "display_data"
                }
            ],
            "source": [
                "g_categoria = banco_recursos_df.groupby('CATEGORIA').size()\n",
                "print(g_categoria)\n",
                "g_categoria.plot(kind='barh',title='CATEGORIA BANCO DE RECURSOS',figsize=(6,4))"
            ]
        },
        {
            "cell_type": "code",
            "execution_count": 106,
            "metadata": {},
            "outputs": [
                {
                    "name": "stdout",
                    "output_type": "stream",
                    "text": [
                        "TIPO_RECURSO\n",
                        "Infografía                3\n",
                        "Modelado                  5\n",
                        "Lámina                    9\n",
                        "Audio                    11\n",
                        "Manual                   16\n",
                        "Orientaciones            31\n",
                        "Prueba                   33\n",
                        "Registro                 33\n",
                        "Cartilla                 39\n",
                        "Texto escolar            49\n",
                        "Sílabo                   89\n",
                        "Caja de herramientas    169\n",
                        "Guía                    186\n",
                        "Ficha                   249\n",
                        "Video                   262\n",
                        "Libro                   279\n",
                        "Texto                   285\n",
                        "Fascículo               332\n",
                        "Cuaderno de trabajo     949\n",
                        "dtype: int64\n"
                    ]
                },
                {
                    "data": {
                        "text/plain": [
                            "<Axes: title={'center': 'Tipos de Recursos'}, ylabel='TIPO_RECURSO'>"
                        ]
                    },
                    "execution_count": 106,
                    "metadata": {},
                    "output_type": "execute_result"
                },
                {
                    "data": {
                        "image/png": "[encoded data removed]",
                        "text/plain": [
                            "<Figure size 600x400 with 1 Axes>"
                        ]
                    },
                    "metadata": {},
                    "output_type": "display_data"
                }
            ],
            "source": [
                "g_tiporecurso = banco_recursos_df.groupby('TIPO_RECURSO').size().sort_values()\n",
                "print(g_tiporecurso)\n",
                "g_tiporecurso.plot(kind='barh',title='Tipos de Recursos',figsize=(6,4))"
            ]
        },
        {
            "cell_type": "code",
            "execution_count": 107,
            "metadata": {},
            "outputs": [
                {
                    "data": {
                        "text/plain": [
                            "<Axes: title={'center': 'Frecuencia de Descargas del Banco de Recursos - SIFODS'}, ylabel='Frequency'>"
                        ]
                    },
                    "execution_count": 107,
                    "metadata": {},
                    "output_type": "execute_result"
                },
                {
                    "data": {
                        "image/png": "[encoded data removed]",
                        "text/plain": [
                            "<Figure size 400x300 with 1 Axes>"
                        ]
                    },
                    "metadata": {},
                    "output_type": "display_data"
                }
            ],
            "source": [
                "v1 = banco_recursos_df['DESCARGAS']\n",
                "v1.plot.hist(title ='Frecuencia de Descargas del Banco de Recursos - SIFODS',figsize=(4,3),range=(0,20))"
            ]
        },
        {
            "cell_type": "code",
            "execution_count": 108,
            "metadata": {},
            "outputs": [
                {
                    "data": {
                        "text/plain": [
                            "<Axes: title={'center': 'Frecuencia de VISTAS del Banco de Recursos - SIFODS'}, ylabel='Frequency'>"
                        ]
                    },
                    "execution_count": 108,
                    "metadata": {},
                    "output_type": "execute_result"
                },
                {
                    "data": {
                        "image/png": "[encoded data removed]",
                        "text/plain": [
                            "<Figure size 600x400 with 1 Axes>"
                        ]
                    },
                    "metadata": {},
                    "output_type": "display_data"
                }
            ],
            "source": [
                "v2 = banco_recursos_df['VISTAS']\n",
                "v2.plot.hist(title ='Frecuencia de VISTAS del Banco de Recursos - SIFODS',figsize=(6,4),range=(0,120))"
            ]
        },
        {
            "cell_type": "code",
            "execution_count": 109,
            "metadata": {},
            "outputs": [
                {
                    "data": {
                        "text/plain": [
                            "<Axes: xlabel='DESCARGA', ylabel='VISTA'>"
                        ]
                    },
                    "execution_count": 109,
                    "metadata": {},
                    "output_type": "execute_result"
                },
                {
                    "data": {
                        "image/png": "[encoded data removed]",
                        "text/plain": [
                            "<Figure size 640x480 with 1 Axes>"
                        ]
                    },
                    "metadata": {},
                    "output_type": "display_data"
                }
            ],
            "source": [
                "acciones_df_validos_2.plot(kind=\"scatter\",x='DESCARGA',y='VISTA')"
            ]
        },
        {
            "cell_type": "code",
            "execution_count": 112,
            "metadata": {},
            "outputs": [
                {
                    "data": {
                        "text/plain": [
                            "<seaborn.axisgrid.FacetGrid at 0x213d0c42410>"
                        ]
                    },
                    "execution_count": 112,
                    "metadata": {},
                    "output_type": "execute_result"
                },
                {
                    "data": {
                        "image/png": "[encoded data removed]",
                        "text/plain": [
                            "<Figure size 500x500 with 1 Axes>"
                        ]
                    },
                    "metadata": {},
                    "output_type": "display_data"
                },
                {
                    "data": {
                        "image/png": "[encoded data removed]",
                        "text/plain": [
                            "<Figure size 500x500 with 1 Axes>"
                        ]
                    },
                    "metadata": {},
                    "output_type": "display_data"
                }
            ],
            "source": [
                "sns.displot(acciones_df_validos_2, x='VISTA')\n",
                "sns.displot(acciones_df_validos_2, x='DESCARGA')\n"
            ]
        },
        {
            "cell_type": "code",
            "execution_count": 113,
            "metadata": {},
            "outputs": [
                {
                    "data": {
                        "text/html": [
                            "<div>\n",
                            "<style scoped>\n",
                            "    .dataframe tbody tr th:only-of-type {\n",
                            "        vertical-align: middle;\n",
                            "    }\n",
                            "\n",
                            "    .dataframe tbody tr th {\n",
                            "        vertical-align: top;\n",
                            "    }\n",
                            "\n",
                            "    .dataframe thead th {\n",
                            "        text-align: right;\n",
                            "    }\n",
                            "</style>\n",
                            "<table border=\"1\" class=\"dataframe\">\n",
                            "  <thead>\n",
                            "    <tr style=\"text-align: right;\">\n",
                            "      <th></th>\n",
                            "      <th>ID</th>\n",
                            "      <th>DNI</th>\n",
                            "      <th>ACCIONFORMATIVABANCORECURSOID</th>\n",
                            "      <th>PREFERENCIA</th>\n",
                            "      <th>VISTA</th>\n",
                            "      <th>DESCARGA</th>\n",
                            "      <th>CALIFICACION</th>\n",
                            "    </tr>\n",
                            "  </thead>\n",
                            "  <tbody>\n",
                            "    <tr>\n",
                            "      <th>0</th>\n",
                            "      <td>24933</td>\n",
                            "      <td>00067813</td>\n",
                            "      <td>1983</td>\n",
                            "      <td>False</td>\n",
                            "      <td>0</td>\n",
                            "      <td>1</td>\n",
                            "      <td>0</td>\n",
                            "    </tr>\n",
                            "    <tr>\n",
                            "      <th>1</th>\n",
                            "      <td>24934</td>\n",
                            "      <td>00067813</td>\n",
                            "      <td>1842</td>\n",
                            "      <td>False</td>\n",
                            "      <td>0</td>\n",
                            "      <td>1</td>\n",
                            "      <td>0</td>\n",
                            "    </tr>\n",
                            "    <tr>\n",
                            "      <th>2</th>\n",
                            "      <td>29841</td>\n",
                            "      <td>00093691</td>\n",
                            "      <td>2291</td>\n",
                            "      <td>False</td>\n",
                            "      <td>0</td>\n",
                            "      <td>1</td>\n",
                            "      <td>0</td>\n",
                            "    </tr>\n",
                            "    <tr>\n",
                            "      <th>3</th>\n",
                            "      <td>29842</td>\n",
                            "      <td>00093691</td>\n",
                            "      <td>2268</td>\n",
                            "      <td>False</td>\n",
                            "      <td>0</td>\n",
                            "      <td>1</td>\n",
                            "      <td>0</td>\n",
                            "    </tr>\n",
                            "    <tr>\n",
                            "      <th>4</th>\n",
                            "      <td>27726</td>\n",
                            "      <td>00103604</td>\n",
                            "      <td>2272</td>\n",
                            "      <td>False</td>\n",
                            "      <td>0</td>\n",
                            "      <td>1</td>\n",
                            "      <td>0</td>\n",
                            "    </tr>\n",
                            "    <tr>\n",
                            "      <th>...</th>\n",
                            "      <td>...</td>\n",
                            "      <td>...</td>\n",
                            "      <td>...</td>\n",
                            "      <td>...</td>\n",
                            "      <td>...</td>\n",
                            "      <td>...</td>\n",
                            "      <td>...</td>\n",
                            "    </tr>\n",
                            "    <tr>\n",
                            "      <th>3410</th>\n",
                            "      <td>813</td>\n",
                            "      <td>80390655</td>\n",
                            "      <td>1347</td>\n",
                            "      <td>False</td>\n",
                            "      <td>0</td>\n",
                            "      <td>1</td>\n",
                            "      <td>0</td>\n",
                            "    </tr>\n",
                            "    <tr>\n",
                            "      <th>3411</th>\n",
                            "      <td>815</td>\n",
                            "      <td>80390655</td>\n",
                            "      <td>1346</td>\n",
                            "      <td>False</td>\n",
                            "      <td>0</td>\n",
                            "      <td>1</td>\n",
                            "      <td>0</td>\n",
                            "    </tr>\n",
                            "    <tr>\n",
                            "      <th>3412</th>\n",
                            "      <td>816</td>\n",
                            "      <td>80390655</td>\n",
                            "      <td>1345</td>\n",
                            "      <td>False</td>\n",
                            "      <td>0</td>\n",
                            "      <td>1</td>\n",
                            "      <td>0</td>\n",
                            "    </tr>\n",
                            "    <tr>\n",
                            "      <th>3413</th>\n",
                            "      <td>817</td>\n",
                            "      <td>80390655</td>\n",
                            "      <td>1344</td>\n",
                            "      <td>False</td>\n",
                            "      <td>0</td>\n",
                            "      <td>1</td>\n",
                            "      <td>0</td>\n",
                            "    </tr>\n",
                            "    <tr>\n",
                            "      <th>3414</th>\n",
                            "      <td>818</td>\n",
                            "      <td>80390655</td>\n",
                            "      <td>1343</td>\n",
                            "      <td>False</td>\n",
                            "      <td>0</td>\n",
                            "      <td>1</td>\n",
                            "      <td>0</td>\n",
                            "    </tr>\n",
                            "  </tbody>\n",
                            "</table>\n",
                            "<p>3216 rows × 7 columns</p>\n",
                            "</div>"
                        ],
                        "text/plain": [
                            "         ID       DNI  ACCIONFORMATIVABANCORECURSOID  PREFERENCIA  VISTA   \n",
                            "0     24933  00067813                           1983        False      0  \\\n",
                            "1     24934  00067813                           1842        False      0   \n",
                            "2     29841  00093691                           2291        False      0   \n",
                            "3     29842  00093691                           2268        False      0   \n",
                            "4     27726  00103604                           2272        False      0   \n",
                            "...     ...       ...                            ...          ...    ...   \n",
                            "3410    813  80390655                           1347        False      0   \n",
                            "3411    815  80390655                           1346        False      0   \n",
                            "3412    816  80390655                           1345        False      0   \n",
                            "3413    817  80390655                           1344        False      0   \n",
                            "3414    818  80390655                           1343        False      0   \n",
                            "\n",
                            "      DESCARGA  CALIFICACION  \n",
                            "0            1             0  \n",
                            "1            1             0  \n",
                            "2            1             0  \n",
                            "3            1             0  \n",
                            "4            1             0  \n",
                            "...        ...           ...  \n",
                            "3410         1             0  \n",
                            "3411         1             0  \n",
                            "3412         1             0  \n",
                            "3413         1             0  \n",
                            "3414         1             0  \n",
                            "\n",
                            "[3216 rows x 7 columns]"
                        ]
                    },
                    "execution_count": 113,
                    "metadata": {},
                    "output_type": "execute_result"
                }
            ],
            "source": [
                "acciones_df_validos_2[acciones_df_validos_2['VISTA']==0]"
            ]
        },
        {
            "cell_type": "code",
            "execution_count": 114,
            "metadata": {},
            "outputs": [
                {
                    "name": "stdout",
                    "output_type": "stream",
                    "text": [
                        "# de docentes con acciones en el banco de recursos : 236\n"
                    ]
                }
            ],
            "source": [
                "# Numero de docentes unicos \n",
                "num_docentes=acciones_df_validos_2['DNI'].unique()\n",
                "print(\"# de docentes con acciones en el banco de recursos : \"  + str(len(num_docentes)))"
            ]
        },
        {
            "cell_type": "code",
            "execution_count": 115,
            "metadata": {},
            "outputs": [
                {
                    "name": "stdout",
                    "output_type": "stream",
                    "text": [
                        "# de recursos descargados : 1183\n"
                    ]
                }
            ],
            "source": [
                "num_recursos = acciones_df_validos_2['ACCIONFORMATIVABANCORECURSOID'].unique()\n",
                "print(\"# de recursos descargados : \" + str(len(num_recursos)))"
            ]
        },
        {
            "cell_type": "code",
            "execution_count": 116,
            "metadata": {},
            "outputs": [
                {
                    "name": "stdout",
                    "output_type": "stream",
                    "text": [
                        "# registros para el modelo : 3415\n"
                    ]
                }
            ],
            "source": [
                "#Numero de registros total para el modelo\n",
                "num_registros_total = len(acciones_df_validos_2)\n",
                "print(\"# registros para el modelo : \" + str(num_registros_total))"
            ]
        },
        {
            "attachments": {},
            "cell_type": "markdown",
            "metadata": {},
            "source": [
                "**Selección de Variables**"
            ]
        },
        {
            "attachments": {},
            "cell_type": "markdown",
            "metadata": {},
            "source": [
                "- Para el analisis se realiza el procentaje de datos en la variable de acciones como son: VISTA , DESCARGA y CALIFICACIÓN\n",
                "donde se presentan escases de datos"
            ]
        },
        {
            "cell_type": "code",
            "execution_count": 117,
            "metadata": {},
            "outputs": [
                {
                    "name": "stdout",
                    "output_type": "stream",
                    "text": [
                        "Porcentaje de datos en la variable VISTA: 7.0%\n",
                        "Porcentaje de datos en la variable DESCARGA: 100.0%\n",
                        "Porcentaje de datos en la variable CALIFICACIÓN: 0.3%\n"
                    ]
                }
            ],
            "source": [
                "porcentaje_vista_validos = round((len(acciones_df_validos[acciones_df_validos[\"VISTA\"] >= 1])/ len(acciones_df_validos)*100),1)\n",
                "porcentaje_descarga_validos = round((len(acciones_df_validos[acciones_df_validos[\"DESCARGA\"] >= 1])/ len(acciones_df_validos)*100),1)\n",
                "porcentaje_calificacion_validos = round((len(acciones_df_validos[acciones_df_validos[\"CALIFICACION\"] >= 1])/ len(acciones_df_validos)*100),1)\n",
                "\n",
                "\n",
                "print(\"Porcentaje de datos en la variable VISTA: \" + str(porcentaje_vista_validos) + \"%\")\n",
                "print(\"Porcentaje de datos en la variable DESCARGA: \" + str(porcentaje_descarga_validos) + \"%\")\n",
                "print(\"Porcentaje de datos en la variable CALIFICACIÓN: \" + str(porcentaje_calificacion_validos) + \"%\")"
            ]
        },
        {
            "attachments": {},
            "cell_type": "markdown",
            "metadata": {},
            "source": [
                "- Recursos mas descargados y visualizados para sugerir a usuarios nuevos los cuales no tengas interacciones con los recursos"
            ]
        },
        {
            "cell_type": "code",
            "execution_count": 118,
            "metadata": {},
            "outputs": [
                {
                    "data": {
                        "text/html": [
                            "<div>\n",
                            "<style scoped>\n",
                            "    .dataframe tbody tr th:only-of-type {\n",
                            "        vertical-align: middle;\n",
                            "    }\n",
                            "\n",
                            "    .dataframe tbody tr th {\n",
                            "        vertical-align: top;\n",
                            "    }\n",
                            "\n",
                            "    .dataframe thead th {\n",
                            "        text-align: right;\n",
                            "    }\n",
                            "</style>\n",
                            "<table border=\"1\" class=\"dataframe\">\n",
                            "  <thead>\n",
                            "    <tr style=\"text-align: right;\">\n",
                            "      <th></th>\n",
                            "      <th>ID</th>\n",
                            "      <th>TITULO</th>\n",
                            "      <th>SUMD</th>\n",
                            "    </tr>\n",
                            "  </thead>\n",
                            "  <tbody>\n",
                            "    <tr>\n",
                            "      <th>859</th>\n",
                            "      <td>2516</td>\n",
                            "      <td>Comunicación VI ciclo Recurso  bibliográfico A...</td>\n",
                            "      <td>47</td>\n",
                            "    </tr>\n",
                            "    <tr>\n",
                            "      <th>677</th>\n",
                            "      <td>2330</td>\n",
                            "      <td>Guía para la investigación y citado de fuentes...</td>\n",
                            "      <td>43</td>\n",
                            "    </tr>\n",
                            "    <tr>\n",
                            "      <th>666</th>\n",
                            "      <td>2318</td>\n",
                            "      <td>Fichas de actividades de la competencia Indaga...</td>\n",
                            "      <td>29</td>\n",
                            "    </tr>\n",
                            "    <tr>\n",
                            "      <th>949</th>\n",
                            "      <td>2787</td>\n",
                            "      <td>Fascículo U Curso Ciudadanía digital</td>\n",
                            "      <td>26</td>\n",
                            "    </tr>\n",
                            "    <tr>\n",
                            "      <th>857</th>\n",
                            "      <td>2514</td>\n",
                            "      <td>Comunicación VI ciclo Recurso  bibliográfico C...</td>\n",
                            "      <td>21</td>\n",
                            "    </tr>\n",
                            "  </tbody>\n",
                            "</table>\n",
                            "</div>"
                        ],
                        "text/plain": [
                            "       ID                                             TITULO  SUMD\n",
                            "859  2516  Comunicación VI ciclo Recurso  bibliográfico A...    47\n",
                            "677  2330  Guía para la investigación y citado de fuentes...    43\n",
                            "666  2318  Fichas de actividades de la competencia Indaga...    29\n",
                            "949  2787               Fascículo U Curso Ciudadanía digital    26\n",
                            "857  2514  Comunicación VI ciclo Recurso  bibliográfico C...    21"
                        ]
                    },
                    "execution_count": 118,
                    "metadata": {},
                    "output_type": "execute_result"
                }
            ],
            "source": [
                "# Recurso mas descargado\n",
                "recurso_popular_df =acciones_df_validos.groupby('ACCIONFORMATIVABANCORECURSOID')['DESCARGA'].sum().to_frame('SUMD').reset_index()\n",
                "recurso_popular_df = recurso_popular_df.merge(banco_recursos_df,how='inner',left_on='ACCIONFORMATIVABANCORECURSOID',right_on='ID').sort_values(by='DESCARGAS',ascending=False)\n",
                "recurso_popular_df[['ID','TITULO','SUMD']].head(5)"
            ]
        },
        {
            "cell_type": "code",
            "execution_count": 119,
            "metadata": {},
            "outputs": [],
            "source": [
                "acciones_full_df = acciones_df_validos_2[['ID','DNI','ACCIONFORMATIVABANCORECURSOID','DESCARGA']]\n",
                "interactions_indexed_df = acciones_full_df.set_index(\"DNI\")"
            ]
        },
        {
            "attachments": {},
            "cell_type": "markdown",
            "metadata": {},
            "source": [
                "## 3.Mineria de Datos - Algoritmo basado en Contenido"
            ]
        },
        {
            "attachments": {},
            "cell_type": "markdown",
            "metadata": {},
            "source": [
                "<p>\n",
                "TF-IDF divide el número de veces que una palabra ocurre en un documento en función de la proporción de todos los documentos en la que aparecere una palabra.\n",
                "</p>"
            ]
        },
        {
            "cell_type": "code",
            "execution_count": 120,
            "metadata": {},
            "outputs": [],
            "source": [
                "from sklearn.feature_extraction.text import TfidfVectorizer\n",
                "from nltk.corpus import stopwords #librerias para los stopwords\n",
                "import scipy\n",
                "import sklearn"
            ]
        },
        {
            "cell_type": "code",
            "execution_count": 121,
            "metadata": {},
            "outputs": [],
            "source": [
                "#ingnorar las palabras sin semantica del español\n",
                "stopwords_list = stopwords.words('spanish')\n",
                "\n",
                "stopwords_list.extend(['yine'])\n",
                "\n",
                "item_ids = banco_recursos_df['ID'].tolist()\n",
                "tfidf_matrix = TfidfVectorizer().fit_transform(banco_recursos_df['TITULO'] +\" \" +banco_recursos_df['RESUMEN'])\n"
            ]
        },
        {
            "attachments": {},
            "cell_type": "markdown",
            "metadata": {},
            "source": [
                "<p>Para transformar nuestros datos, importamos TfidfVectorizer () de sklearn. Lo instanciamos a una variable; tfdfvec en este caso. De forma predeterminada, el vectorizador genera una función para cada palabra en cada documento, que son muchas funciones. Podemos especificar restricciones en las características que se generan. Primero, establecemos el argumento min_df en 5. Esto limita nuestras funciones a solo aquellas que han ocurrido en al menos dos documentos. Útil ya que los términos que aparecen una vez no son valiosos para encontrar similitudes. También deberiamos eliminar las palabras que son demasiado comunes usando max_df  . Al establecer en 0.7 , se excluiran las palabras que aparezcan en más del 70% de las descripciones con un maximo numero de vectores de 500 compuesto por los principales inigramas y bigramas encontrados.   </p>"
            ]
        },
        {
            "cell_type": "code",
            "execution_count": 299,
            "metadata": {},
            "outputs": [
                {
                    "name": "stdout",
                    "output_type": "stream",
                    "text": [
                        "['actividad' 'actividades' 'actividades apoyan' 'actividades calendario'\n",
                        " 'actividades desarrollan' 'actividades evaluación'\n",
                        " 'actividades evidencian' 'actividades socioproductivas'\n",
                        " 'actividades surgen' 'acuerdo' 'acuerdo nivel' 'adecúan'\n",
                        " 'adecúan organizan' 'además' 'además adecúan' 'adquieren'\n",
                        " 'adquieren complejidad' 'aimara' 'animales' 'aplicación' 'apoyan'\n",
                        " 'apoyan desarrollo' 'apoyar' 'apoyo' 'aprender' 'aprendizaje'\n",
                        " 'aprendizaje gradual' 'aprendizaje mejora' 'aprendizaje vinculadas'\n",
                        " 'aprendizaje vinculados' 'aprendizajes' 'aprendizajes brindando'\n",
                        " 'artesanía' 'asertiva' 'asimismo' 'asimismo muestran' 'autoaprendizaje'\n",
                        " 'autoformativo' 'autoformativo propósito' 'autonomía'\n",
                        " 'autonomía fortalecer' 'autónomo' 'autónomo colaborativo' 'avanzado'\n",
                        " 'awajún' 'año' 'años' 'bajo' 'bilinge' 'brindando'\n",
                        " 'brindando oportunidades' 'básica' 'cada' 'cada estudiante' 'cada unidad'\n",
                        " 'caja' 'caja herramientas' 'calendario' 'calendario comunal'\n",
                        " 'calendario socioproductivo' 'canciones' 'capacidades' 'características'\n",
                        " 'características pueblo' 'caza' 'central' 'ciclo' 'ciclo inicial'\n",
                        " 'ciclo intermedio' 'ciencia' 'ciencia tecnología' 'colaborativo'\n",
                        " 'colaborativo escuela' 'collao' 'competencia' 'competencias'\n",
                        " 'competencias adquieren' 'competencias comunicativas'\n",
                        " 'competencias estudiantes' 'competencias profesionales'\n",
                        " 'competencias área' 'competencias áreas' 'complejidad'\n",
                        " 'complejidad progresivamente' 'comprensión' 'comunal' 'comunal asimismo'\n",
                        " 'comunicación' 'comunicación grado' 'comunicación oral'\n",
                        " 'comunicación partir' 'comunicación pueblo' 'comunicarse'\n",
                        " 'comunicarse través' 'comunicativas' 'comunicativas desarrollan'\n",
                        " 'comunicativas partir' 'comunicativo' 'comunidad'\n",
                        " 'comunidad competencias' 'comunidad usando' 'conjunto' 'conocimientos'\n",
                        " 'conocimientos saberes' 'considera' 'considerando'\n",
                        " 'considerando expresiones' 'consignas' 'construcción' 'construyen'\n",
                        " 'construyen deconstruyen' 'contexto' 'contiene' 'contiene actividades'\n",
                        " 'contribuye' 'contribuyen' 'contribuyen fortalecimiento' 'cosecha'\n",
                        " 'cuaderno' 'cuaderno autoaprendizaje' 'cuaderno trabajo' 'cuales'\n",
                        " 'cuatro' 'cuenta' 'cultura' 'cultura comunidad' 'cultura pueblo'\n",
                        " 'cultural' 'culturales' 'culturales incluida' 'curricular' 'currículo'\n",
                        " 'currículo nacional' 'curso' 'curso virtual' 'cómo' 'deconstruyen'\n",
                        " 'deconstruyen mensaje' 'desarrolla' 'desarrolla considerando'\n",
                        " 'desarrollan' 'desarrollan competencias' 'desarrollan propias'\n",
                        " 'desarrollar' 'desarrollar competencias' 'desarrolle' 'desarrollo'\n",
                        " 'desarrollo competencias' 'diagnóstica' 'diccionario'\n",
                        " 'diccionario visual' 'diferencias' 'diferentes' 'diferentes tradiciones'\n",
                        " 'dirigido' 'diseño' 'diversas' 'diversos' 'docente' 'docentes'\n",
                        " 'docentes nivel' 'educación' 'educación básica' 'educación inicial'\n",
                        " 'educación intercultural' 'educación primaria' 'educativas' 'eib'\n",
                        " 'encuentran' 'enfatiza' 'enfatiza realización' 'enfoque'\n",
                        " 'enfoque comunicativo' 'enfoques' 'enfoques transversales' 'enseñanza'\n",
                        " 'entidad' 'entidad personas' 'entorno' 'er' 'er grado' 'escolar'\n",
                        " 'escrito' 'escritos' 'escritura' 'escuela' 'escuela comunidad'\n",
                        " 'estrategias' 'estrategias pedagogía' 'estudiante' 'estudiante realice'\n",
                        " 'estudiantes' 'estudiantes construyen' 'estudiantes instrumento'\n",
                        " 'estudiantes nivel' 'evaluación' 'evaluación diagnóstica'\n",
                        " 'evaluación formativa' 'evidencian' 'evidencian transmisión' 'evidencias'\n",
                        " 'experiencia' 'experiencias' 'experiencias aprendizaje' 'expresiones'\n",
                        " 'expresiones características' 'expresión' 'familia' 'familia comunidad'\n",
                        " 'fascículo' 'fascículo us' 'ficha' 'ficha actividad' 'fichas'\n",
                        " 'fichas autoaprendizaje' 'final' 'final unidad' 'finalidad' 'folder'\n",
                        " 'folder inicial' 'forma' 'formas' 'formas comunicación' 'formativa'\n",
                        " 'formativa aprendizajes' 'fortalecer' 'fortalecer competencias'\n",
                        " 'fortalecer seguridad' 'fortalecimiento' 'fortalecimiento identidad'\n",
                        " 'fortalecimiento valoración' 'frente' 'grado' 'grado ciclo'\n",
                        " 'grado lengua' 'grados' 'gradual' 'grupos' 'guía' 'guía docente'\n",
                        " 'herramientas' 'identidad' 'identificar' 'ii' 'iii' 'iii ciclo'\n",
                        " 'imágenes' 'incluida' 'incluida ciencia' 'indagación' 'individual'\n",
                        " 'información' 'información comunicarse' 'información entidad' 'inicial'\n",
                        " 'inicial años' 'iniciativa' 'inicio' 'instituciones'\n",
                        " 'instituciones educativas' 'instrumento' 'instrumento aprendizaje'\n",
                        " 'intercultural' 'intercultural bilinge' 'intermedio' 'lectura'\n",
                        " 'lectura estudiantes' 'lengua' 'lengua materna' 'lengua originaria'\n",
                        " 'lineamientos' 'lineamientos currículo' 'manera' 'matemática'\n",
                        " 'matemáticas' 'material' 'materiales' 'materna' 'materna estudiantes'\n",
                        " 'materna originaria' 'mediante' 'mediante trabajo' 'mejora'\n",
                        " 'mejora relación' 'mejorar' 'mensaje' 'mensaje además' 'metacognición'\n",
                        " 'metacognición autonomía' 'metodología' 'metodología enfatiza' 'moderna'\n",
                        " 'moderna lectura' 'muestran' 'muestran conocimientos' 'mundo'\n",
                        " 'mundo escrito' 'nacional' 'nacional organizado' 'naturaleza'\n",
                        " 'naturaleza viceversa' 'necesidades' 'nivel' 'nivel primaria'\n",
                        " 'nivel primario' 'nivel secundaria' 'niñas' 'niñas niños' 'niños'\n",
                        " 'niños niñas' 'ocho' 'ocho unidades' 'oportunidades' 'oportunidades cada'\n",
                        " 'oral' 'oral desarrolla' 'organizadas' 'organizado' 'organizado ocho'\n",
                        " 'organizan' 'organizan información' 'orientaciones' 'orientadas'\n",
                        " 'originaria' 'originaria quechua' 'originario' 'originarios' 'palabras'\n",
                        " 'parte' 'partida' 'partir' 'partir cultura' 'partir situaciones'\n",
                        " 'pedagogía' 'pedagogía moderna' 'pedagógico' 'permite' 'personal'\n",
                        " 'personal social' 'personas' 'personas seres' 'perspectiva' 'pesca'\n",
                        " 'planificación' 'planificación curricular' 'podrán' 'portafolio'\n",
                        " 'portafolio evidencias' 'preguntas' 'presenta' 'presentan'\n",
                        " 'presentan actividades' 'presente' 'presente curso' 'primaria'\n",
                        " 'primaria recurso' 'primario' 'primario partir' 'problemas'\n",
                        " 'problemática' 'proceso' 'procesos' 'procesos metacognición' 'producción'\n",
                        " 'producto' 'producto final' 'profesionales' 'profesionales docentes'\n",
                        " 'profundización' 'profundización saberes' 'progresivamente'\n",
                        " 'progresivamente unidad' 'propias' 'propias formas' 'propone'\n",
                        " 'propone conocimientos' 'proponen' 'propósito' 'propósito desarrollar'\n",
                        " 'propósito fortalecer' 'proyecto' 'pueblo' 'pueblo actividades'\n",
                        " 'pueblo originario' 'pueblos' 'pueblos originarios' 'punto'\n",
                        " 'punto partida' 'quechua' 'quechua collao' 'real' 'reales' 'realice'\n",
                        " 'realice procesos' 'realización' 'realización actividades' 'recogen'\n",
                        " 'recogen actividades' 'recolección' 'recurso' 'recurso pedagógico'\n",
                        " 'recursos' 'reflexión' 'refuerzo' 'refuerzo escolar' 'relacionadas'\n",
                        " 'relacionadas actividades' 'relación' 'relación asertiva' 'relatos'\n",
                        " 'relevante' 'resolución' 'retroalimentación' 'saberes'\n",
                        " 'saberes actividades' 'salud' 'secundaria' 'segunda' 'segunda lengua'\n",
                        " 'seguridad' 'seguridad iniciativa' 'según' 'según lineamientos' 'ser'\n",
                        " 'seres' 'seres tutelares' 'shipibokonibo' 'siembra' 'significativas'\n",
                        " 'significativas cada' 'situaciones' 'situaciones aprendizaje'\n",
                        " 'situaciones comunicativas' 'situaciones significativas' 'situación'\n",
                        " 'social' 'social ciencia' 'socioproductivas'\n",
                        " 'socioproductivas calendario' 'socioproductivas pueblo' 'socioproductivo'\n",
                        " 'socioproductivo comunidad' 'surgen' 'surgen situaciones' 'tales'\n",
                        " 'tecnología' 'tejidos' 'texto' 'textos' 'textos escritos' 'toman'\n",
                        " 'trabajar' 'trabajo' 'trabajo autónomo' 'trabajo comunicación'\n",
                        " 'trabajo folder' 'trabajo matemática' 'trabajo personal' 'tradiciones'\n",
                        " 'tradiciones culturales' 'transmisión' 'transmisión información'\n",
                        " 'transversales' 'través' 'través textos' 'tres' 'tutelares'\n",
                        " 'tutelares naturaleza' 'unidad' 'unidad competencias' 'unidad contiene'\n",
                        " 'unidades' 'unidades presentan' 'unidades recogen' 'us' 'us curso'\n",
                        " 'usando' 'usando lengua' 'uso' 'valoración' 'valoración cultura' 'vi'\n",
                        " 'vi ciclo' 'viceversa' 'viceversa comunicación' 'vida' 'video' 'vii'\n",
                        " 'vii ciclo' 'vinculadas' 'vinculadas actividades' 'vinculados'\n",
                        " 'vinculados actividades' 'virtual' 'virtual autoformativo' 'visual'\n",
                        " 'área' 'área comunicación' 'área matemática' 'áreas']\n"
                    ]
                }
            ],
            "source": [
                "tfidfvec = TfidfVectorizer(analyzer='word',min_df=5,ngram_range=(1,2), max_df=0.7,stop_words=stopwords_list,max_features=500)\n",
                "vectorized_data = tfidfvec.fit_transform(banco_recursos_df['TITULO']+\" \"+banco_recursos_df['RESUMEN'])\n",
                "print(tfidfvec.get_feature_names_out())"
            ]
        },
        {
            "cell_type": "code",
            "execution_count": 300,
            "metadata": {},
            "outputs": [
                {
                    "data": {
                        "text/html": [
                            "<div>\n",
                            "<style scoped>\n",
                            "    .dataframe tbody tr th:only-of-type {\n",
                            "        vertical-align: middle;\n",
                            "    }\n",
                            "\n",
                            "    .dataframe tbody tr th {\n",
                            "        vertical-align: top;\n",
                            "    }\n",
                            "\n",
                            "    .dataframe thead th {\n",
                            "        text-align: right;\n",
                            "    }\n",
                            "</style>\n",
                            "<table border=\"1\" class=\"dataframe\">\n",
                            "  <thead>\n",
                            "    <tr style=\"text-align: right;\">\n",
                            "      <th></th>\n",
                            "      <th>actividad</th>\n",
                            "      <th>actividades</th>\n",
                            "      <th>actividades apoyan</th>\n",
                            "      <th>actividades calendario</th>\n",
                            "      <th>actividades desarrollan</th>\n",
                            "      <th>actividades evaluación</th>\n",
                            "      <th>actividades evidencian</th>\n",
                            "      <th>actividades socioproductivas</th>\n",
                            "      <th>actividades surgen</th>\n",
                            "      <th>acuerdo</th>\n",
                            "      <th>...</th>\n",
                            "      <th>vinculadas actividades</th>\n",
                            "      <th>vinculados</th>\n",
                            "      <th>vinculados actividades</th>\n",
                            "      <th>virtual</th>\n",
                            "      <th>virtual autoformativo</th>\n",
                            "      <th>visual</th>\n",
                            "      <th>área</th>\n",
                            "      <th>área comunicación</th>\n",
                            "      <th>área matemática</th>\n",
                            "      <th>áreas</th>\n",
                            "    </tr>\n",
                            "    <tr>\n",
                            "      <th>ID</th>\n",
                            "      <th></th>\n",
                            "      <th></th>\n",
                            "      <th></th>\n",
                            "      <th></th>\n",
                            "      <th></th>\n",
                            "      <th></th>\n",
                            "      <th></th>\n",
                            "      <th></th>\n",
                            "      <th></th>\n",
                            "      <th></th>\n",
                            "      <th></th>\n",
                            "      <th></th>\n",
                            "      <th></th>\n",
                            "      <th></th>\n",
                            "      <th></th>\n",
                            "      <th></th>\n",
                            "      <th></th>\n",
                            "      <th></th>\n",
                            "      <th></th>\n",
                            "      <th></th>\n",
                            "      <th></th>\n",
                            "    </tr>\n",
                            "  </thead>\n",
                            "  <tbody>\n",
                            "    <tr>\n",
                            "      <th>770</th>\n",
                            "      <td>0.0</td>\n",
                            "      <td>0.165271</td>\n",
                            "      <td>0.0</td>\n",
                            "      <td>0.0</td>\n",
                            "      <td>0.0</td>\n",
                            "      <td>0.000000</td>\n",
                            "      <td>0.0</td>\n",
                            "      <td>0.0</td>\n",
                            "      <td>0.0</td>\n",
                            "      <td>0.0</td>\n",
                            "      <td>...</td>\n",
                            "      <td>0.0</td>\n",
                            "      <td>0.0</td>\n",
                            "      <td>0.0</td>\n",
                            "      <td>0.0</td>\n",
                            "      <td>0.0</td>\n",
                            "      <td>0.0</td>\n",
                            "      <td>0.000000</td>\n",
                            "      <td>0.000000</td>\n",
                            "      <td>0.0</td>\n",
                            "      <td>0.0</td>\n",
                            "    </tr>\n",
                            "    <tr>\n",
                            "      <th>1423</th>\n",
                            "      <td>0.0</td>\n",
                            "      <td>0.099455</td>\n",
                            "      <td>0.0</td>\n",
                            "      <td>0.0</td>\n",
                            "      <td>0.0</td>\n",
                            "      <td>0.106098</td>\n",
                            "      <td>0.0</td>\n",
                            "      <td>0.0</td>\n",
                            "      <td>0.0</td>\n",
                            "      <td>0.0</td>\n",
                            "      <td>...</td>\n",
                            "      <td>0.0</td>\n",
                            "      <td>0.0</td>\n",
                            "      <td>0.0</td>\n",
                            "      <td>0.0</td>\n",
                            "      <td>0.0</td>\n",
                            "      <td>0.0</td>\n",
                            "      <td>0.113981</td>\n",
                            "      <td>0.075157</td>\n",
                            "      <td>0.0</td>\n",
                            "      <td>0.0</td>\n",
                            "    </tr>\n",
                            "    <tr>\n",
                            "      <th>1425</th>\n",
                            "      <td>0.0</td>\n",
                            "      <td>0.099418</td>\n",
                            "      <td>0.0</td>\n",
                            "      <td>0.0</td>\n",
                            "      <td>0.0</td>\n",
                            "      <td>0.106059</td>\n",
                            "      <td>0.0</td>\n",
                            "      <td>0.0</td>\n",
                            "      <td>0.0</td>\n",
                            "      <td>0.0</td>\n",
                            "      <td>...</td>\n",
                            "      <td>0.0</td>\n",
                            "      <td>0.0</td>\n",
                            "      <td>0.0</td>\n",
                            "      <td>0.0</td>\n",
                            "      <td>0.0</td>\n",
                            "      <td>0.0</td>\n",
                            "      <td>0.113939</td>\n",
                            "      <td>0.075129</td>\n",
                            "      <td>0.0</td>\n",
                            "      <td>0.0</td>\n",
                            "    </tr>\n",
                            "    <tr>\n",
                            "      <th>1430</th>\n",
                            "      <td>0.0</td>\n",
                            "      <td>0.095872</td>\n",
                            "      <td>0.0</td>\n",
                            "      <td>0.0</td>\n",
                            "      <td>0.0</td>\n",
                            "      <td>0.102277</td>\n",
                            "      <td>0.0</td>\n",
                            "      <td>0.0</td>\n",
                            "      <td>0.0</td>\n",
                            "      <td>0.0</td>\n",
                            "      <td>...</td>\n",
                            "      <td>0.0</td>\n",
                            "      <td>0.0</td>\n",
                            "      <td>0.0</td>\n",
                            "      <td>0.0</td>\n",
                            "      <td>0.0</td>\n",
                            "      <td>0.0</td>\n",
                            "      <td>0.109876</td>\n",
                            "      <td>0.072450</td>\n",
                            "      <td>0.0</td>\n",
                            "      <td>0.0</td>\n",
                            "    </tr>\n",
                            "    <tr>\n",
                            "      <th>1432</th>\n",
                            "      <td>0.0</td>\n",
                            "      <td>0.100060</td>\n",
                            "      <td>0.0</td>\n",
                            "      <td>0.0</td>\n",
                            "      <td>0.0</td>\n",
                            "      <td>0.106744</td>\n",
                            "      <td>0.0</td>\n",
                            "      <td>0.0</td>\n",
                            "      <td>0.0</td>\n",
                            "      <td>0.0</td>\n",
                            "      <td>...</td>\n",
                            "      <td>0.0</td>\n",
                            "      <td>0.0</td>\n",
                            "      <td>0.0</td>\n",
                            "      <td>0.0</td>\n",
                            "      <td>0.0</td>\n",
                            "      <td>0.0</td>\n",
                            "      <td>0.114675</td>\n",
                            "      <td>0.075615</td>\n",
                            "      <td>0.0</td>\n",
                            "      <td>0.0</td>\n",
                            "    </tr>\n",
                            "  </tbody>\n",
                            "</table>\n",
                            "<p>5 rows × 500 columns</p>\n",
                            "</div>"
                        ],
                        "text/plain": [
                            "      actividad  actividades  actividades apoyan  actividades calendario   \n",
                            "ID                                                                         \n",
                            "770         0.0     0.165271                 0.0                     0.0  \\\n",
                            "1423        0.0     0.099455                 0.0                     0.0   \n",
                            "1425        0.0     0.099418                 0.0                     0.0   \n",
                            "1430        0.0     0.095872                 0.0                     0.0   \n",
                            "1432        0.0     0.100060                 0.0                     0.0   \n",
                            "\n",
                            "      actividades desarrollan  actividades evaluación  actividades evidencian   \n",
                            "ID                                                                              \n",
                            "770                       0.0                0.000000                     0.0  \\\n",
                            "1423                      0.0                0.106098                     0.0   \n",
                            "1425                      0.0                0.106059                     0.0   \n",
                            "1430                      0.0                0.102277                     0.0   \n",
                            "1432                      0.0                0.106744                     0.0   \n",
                            "\n",
                            "      actividades socioproductivas  actividades surgen  acuerdo  ...   \n",
                            "ID                                                               ...   \n",
                            "770                            0.0                 0.0      0.0  ...  \\\n",
                            "1423                           0.0                 0.0      0.0  ...   \n",
                            "1425                           0.0                 0.0      0.0  ...   \n",
                            "1430                           0.0                 0.0      0.0  ...   \n",
                            "1432                           0.0                 0.0      0.0  ...   \n",
                            "\n",
                            "      vinculadas actividades  vinculados  vinculados actividades  virtual   \n",
                            "ID                                                                          \n",
                            "770                      0.0         0.0                     0.0      0.0  \\\n",
                            "1423                     0.0         0.0                     0.0      0.0   \n",
                            "1425                     0.0         0.0                     0.0      0.0   \n",
                            "1430                     0.0         0.0                     0.0      0.0   \n",
                            "1432                     0.0         0.0                     0.0      0.0   \n",
                            "\n",
                            "      virtual autoformativo  visual      área  área comunicación   \n",
                            "ID                                                                 \n",
                            "770                     0.0     0.0  0.000000           0.000000  \\\n",
                            "1423                    0.0     0.0  0.113981           0.075157   \n",
                            "1425                    0.0     0.0  0.113939           0.075129   \n",
                            "1430                    0.0     0.0  0.109876           0.072450   \n",
                            "1432                    0.0     0.0  0.114675           0.075615   \n",
                            "\n",
                            "      área matemática  áreas  \n",
                            "ID                            \n",
                            "770               0.0    0.0  \n",
                            "1423              0.0    0.0  \n",
                            "1425              0.0    0.0  \n",
                            "1430              0.0    0.0  \n",
                            "1432              0.0    0.0  \n",
                            "\n",
                            "[5 rows x 500 columns]"
                        ]
                    },
                    "execution_count": 300,
                    "metadata": {},
                    "output_type": "execute_result"
                }
            ],
            "source": [
                "tfidf = pd.DataFrame(vectorized_data.toarray(),\n",
                "                            columns=tfidfvec.get_feature_names_out())\n",
                "tfidf.index = banco_recursos_df['ID']\n",
                "tfidf.head(5)                            "
            ]
        },
        {
            "attachments": {},
            "cell_type": "markdown",
            "metadata": {},
            "source": [
                "<p>Similitud de coseno.- Es una medida de similitud entre dos vectores no nulos de un espacio de producto interno. En otras palabras, cuantifica qué tan similares son dos vectores midiendo el coseno del ángulo entre ellos. Esta técnica se utiliza comúnmente en la recuperación de información y minería de textos para comparar documentos y evaluar su similitud. Al calcular la similitud coseno de dos documentos, podemos determinar cuán estrechamente relacionados están en términos de su contenido. Esto nos permite identificar documentos que son similares entre sí y agruparlos juntos para un análisis adicional. En general, la similitud coseno es una herramienta poderosa para el análisis de datos y la recuperación de información, proporcionando información valiosa sobre las relaciones entre diferentes documentos y conjuntos de datos.</p>"
            ]
        },
        {
            "cell_type": "code",
            "execution_count": 301,
            "metadata": {},
            "outputs": [],
            "source": [
                "from sklearn.metrics.pairwise import cosine_similarity\n",
                "cosine_similarity_array = cosine_similarity(tfidf)"
            ]
        },
        {
            "cell_type": "code",
            "execution_count": 302,
            "metadata": {},
            "outputs": [],
            "source": [
                "acciones_df_validos['ACCIONFORMATIVABANCORECURSOID']=acciones_df_validos.ACCIONFORMATIVABANCORECURSOID .astype('object')"
            ]
        },
        {
            "cell_type": "code",
            "execution_count": 304,
            "metadata": {},
            "outputs": [],
            "source": [
                "def get_item_profile(item_id):\n",
                "    idx = item_ids.index(item_id)\n",
                "    item_profile= tfidf[idx:idx+1]\n",
                "    return item_profile\n",
                "\n",
                "def get_item_profiles(ids):\n",
                "    item_profiles = []\n",
                "    item_profile_list = [get_item_profile(x) for x in ids]\n",
                "    item_profiles = pd.concat(item_profiles + item_profile_list)\n",
                "    return item_profiles\n",
                "\n",
                "def build_users_profile(person_id, interacciones_indexed_df):\n",
                "    \n",
                "    interactions_person_df = interacciones_indexed_df.loc[person_id]\n",
                "    user_item_profiles = get_item_profiles(interactions_person_df['ACCIONFORMATIVABANCORECURSOID'])\n",
                "\n",
                "    user_item_strength = user_item_profiles.mean()\n",
                "    \n",
                "    non_resources = tfidf.drop(interactions_person_df['ACCIONFORMATIVABANCORECURSOID'] , axis= 0)\n",
                "    \n",
                "    resources_similarities = cosine_similarity(user_item_strength.values.reshape(1,-1),non_resources)\n",
                "\n",
                "    user_similarities_df = pd.DataFrame(resources_similarities.T,\n",
                "                                       index=non_resources.index,\n",
                "                                        columns=['Score']).reset_index()\n",
                "    sorted_similarity_df = user_similarities_df.sort_values(by='Score', ascending=False)\n",
                "    sorted_similarity_df_2 = sorted_similarity_df.head(5)\n",
                "    sorted_similarity_df_2['DNI']= person_id\n",
                "\n",
                "    return sorted_similarity_df_2\n",
                "\n",
                "\n",
                "def build_users_profiles():\n",
                "    interacciones_indexed_df = acciones_df_validos_2[acciones_df_validos_2['ACCIONFORMATIVABANCORECURSOID']\\\n",
                "                                                   .isin(banco_recursos_df['ID'])].set_index('DNI')\n",
                "    usuario_perfiles=pd.DataFrame([])\n",
                "    for persona_id in interacciones_indexed_df.index.unique():\n",
                "        usuario_perfiles = pd.concat([usuario_perfiles , build_users_profile(persona_id, interacciones_indexed_df)])\n",
                "    return usuario_perfiles"
            ]
        },
        {
            "cell_type": "code",
            "execution_count": 305,
            "metadata": {},
            "outputs": [],
            "source": [
                "#Creando la recomendación de recursos personalizados a los usuarios\n",
                "m_text_df=build_users_profiles()"
            ]
        },
        {
            "cell_type": "code",
            "execution_count": 306,
            "metadata": {},
            "outputs": [
                {
                    "data": {
                        "text/html": [
                            "<div>\n",
                            "<style scoped>\n",
                            "    .dataframe tbody tr th:only-of-type {\n",
                            "        vertical-align: middle;\n",
                            "    }\n",
                            "\n",
                            "    .dataframe tbody tr th {\n",
                            "        vertical-align: top;\n",
                            "    }\n",
                            "\n",
                            "    .dataframe thead th {\n",
                            "        text-align: right;\n",
                            "    }\n",
                            "</style>\n",
                            "<table border=\"1\" class=\"dataframe\">\n",
                            "  <thead>\n",
                            "    <tr style=\"text-align: right;\">\n",
                            "      <th></th>\n",
                            "      <th>DNI</th>\n",
                            "      <th>ID</th>\n",
                            "      <th>Score</th>\n",
                            "    </tr>\n",
                            "  </thead>\n",
                            "  <tbody>\n",
                            "    <tr>\n",
                            "      <th>1435</th>\n",
                            "      <td>00067813</td>\n",
                            "      <td>1816</td>\n",
                            "      <td>0.724561</td>\n",
                            "    </tr>\n",
                            "    <tr>\n",
                            "      <th>1437</th>\n",
                            "      <td>00067813</td>\n",
                            "      <td>1678</td>\n",
                            "      <td>0.724561</td>\n",
                            "    </tr>\n",
                            "    <tr>\n",
                            "      <th>1448</th>\n",
                            "      <td>00067813</td>\n",
                            "      <td>1799</td>\n",
                            "      <td>0.724561</td>\n",
                            "    </tr>\n",
                            "    <tr>\n",
                            "      <th>1444</th>\n",
                            "      <td>00067813</td>\n",
                            "      <td>1651</td>\n",
                            "      <td>0.724561</td>\n",
                            "    </tr>\n",
                            "    <tr>\n",
                            "      <th>1443</th>\n",
                            "      <td>00067813</td>\n",
                            "      <td>1664</td>\n",
                            "      <td>0.724561</td>\n",
                            "    </tr>\n",
                            "    <tr>\n",
                            "      <th>...</th>\n",
                            "      <td>...</td>\n",
                            "      <td>...</td>\n",
                            "      <td>...</td>\n",
                            "    </tr>\n",
                            "    <tr>\n",
                            "      <th>226</th>\n",
                            "      <td>80390655</td>\n",
                            "      <td>706</td>\n",
                            "      <td>0.958172</td>\n",
                            "    </tr>\n",
                            "    <tr>\n",
                            "      <th>227</th>\n",
                            "      <td>80390655</td>\n",
                            "      <td>707</td>\n",
                            "      <td>0.958172</td>\n",
                            "    </tr>\n",
                            "    <tr>\n",
                            "      <th>228</th>\n",
                            "      <td>80390655</td>\n",
                            "      <td>708</td>\n",
                            "      <td>0.958172</td>\n",
                            "    </tr>\n",
                            "    <tr>\n",
                            "      <th>229</th>\n",
                            "      <td>80390655</td>\n",
                            "      <td>709</td>\n",
                            "      <td>0.958172</td>\n",
                            "    </tr>\n",
                            "    <tr>\n",
                            "      <th>243</th>\n",
                            "      <td>80390655</td>\n",
                            "      <td>733</td>\n",
                            "      <td>0.954156</td>\n",
                            "    </tr>\n",
                            "  </tbody>\n",
                            "</table>\n",
                            "<p>1180 rows × 3 columns</p>\n",
                            "</div>"
                        ],
                        "text/plain": [
                            "           DNI    ID     Score\n",
                            "1435  00067813  1816  0.724561\n",
                            "1437  00067813  1678  0.724561\n",
                            "1448  00067813  1799  0.724561\n",
                            "1444  00067813  1651  0.724561\n",
                            "1443  00067813  1664  0.724561\n",
                            "...        ...   ...       ...\n",
                            "226   80390655   706  0.958172\n",
                            "227   80390655   707  0.958172\n",
                            "228   80390655   708  0.958172\n",
                            "229   80390655   709  0.958172\n",
                            "243   80390655   733  0.954156\n",
                            "\n",
                            "[1180 rows x 3 columns]"
                        ]
                    },
                    "execution_count": 306,
                    "metadata": {},
                    "output_type": "execute_result"
                }
            ],
            "source": [
                "m_text_df=m_text_df.reindex(columns=['DNI','ID','Score'])\n",
                "m_text_df"
            ]
        },
        {
            "cell_type": "code",
            "execution_count": 317,
            "metadata": {},
            "outputs": [
                {
                    "name": "stdout",
                    "output_type": "stream",
                    "text": [
                        "animales                   0.276585\n",
                        "materiales                 0.167901\n",
                        "social ciencia             0.141383\n",
                        "personal social            0.119377\n",
                        "ciencia tecnología         0.118495\n",
                        "ciencia                    0.117917\n",
                        "tecnología                 0.117632\n",
                        "social                     0.116509\n",
                        "personal                   0.115960\n",
                        "situaciones aprendizaje    0.115534\n",
                        "dtype: float64\n"
                    ]
                },
                {
                    "data": {
                        "text/html": [
                            "<div>\n",
                            "<style scoped>\n",
                            "    .dataframe tbody tr th:only-of-type {\n",
                            "        vertical-align: middle;\n",
                            "    }\n",
                            "\n",
                            "    .dataframe tbody tr th {\n",
                            "        vertical-align: top;\n",
                            "    }\n",
                            "\n",
                            "    .dataframe thead th {\n",
                            "        text-align: right;\n",
                            "    }\n",
                            "</style>\n",
                            "<table border=\"1\" class=\"dataframe\">\n",
                            "  <thead>\n",
                            "    <tr style=\"text-align: right;\">\n",
                            "      <th></th>\n",
                            "      <th>Score</th>\n",
                            "    </tr>\n",
                            "    <tr>\n",
                            "      <th>ID</th>\n",
                            "      <th></th>\n",
                            "    </tr>\n",
                            "  </thead>\n",
                            "  <tbody>\n",
                            "    <tr>\n",
                            "      <th>1816</th>\n",
                            "      <td>0.724561</td>\n",
                            "    </tr>\n",
                            "    <tr>\n",
                            "      <th>1678</th>\n",
                            "      <td>0.724561</td>\n",
                            "    </tr>\n",
                            "    <tr>\n",
                            "      <th>1799</th>\n",
                            "      <td>0.724561</td>\n",
                            "    </tr>\n",
                            "    <tr>\n",
                            "      <th>1651</th>\n",
                            "      <td>0.724561</td>\n",
                            "    </tr>\n",
                            "    <tr>\n",
                            "      <th>1664</th>\n",
                            "      <td>0.724561</td>\n",
                            "    </tr>\n",
                            "    <tr>\n",
                            "      <th>...</th>\n",
                            "      <td>...</td>\n",
                            "    </tr>\n",
                            "    <tr>\n",
                            "      <th>977</th>\n",
                            "      <td>0.000000</td>\n",
                            "    </tr>\n",
                            "    <tr>\n",
                            "      <th>973</th>\n",
                            "      <td>0.000000</td>\n",
                            "    </tr>\n",
                            "    <tr>\n",
                            "      <th>972</th>\n",
                            "      <td>0.000000</td>\n",
                            "    </tr>\n",
                            "    <tr>\n",
                            "      <th>971</th>\n",
                            "      <td>0.000000</td>\n",
                            "    </tr>\n",
                            "    <tr>\n",
                            "      <th>1026</th>\n",
                            "      <td>0.000000</td>\n",
                            "    </tr>\n",
                            "  </tbody>\n",
                            "</table>\n",
                            "<p>3027 rows × 1 columns</p>\n",
                            "</div>"
                        ],
                        "text/plain": [
                            "         Score\n",
                            "ID            \n",
                            "1816  0.724561\n",
                            "1678  0.724561\n",
                            "1799  0.724561\n",
                            "1651  0.724561\n",
                            "1664  0.724561\n",
                            "...        ...\n",
                            "977   0.000000\n",
                            "973   0.000000\n",
                            "972   0.000000\n",
                            "971   0.000000\n",
                            "1026  0.000000\n",
                            "\n",
                            "[3027 rows x 1 columns]"
                        ]
                    },
                    "execution_count": 317,
                    "metadata": {},
                    "output_type": "execute_result"
                }
            ],
            "source": [
                "#Perfil de docente\n",
                "recursos = acciones_df_validos_2[acciones_df_validos_2['DNI']=='00067813']['ACCIONFORMATIVABANCORECURSOID'].to_list()\n",
                "jun_book = tfidf.reindex(recursos)\n",
                "jun_profile = jun_book.mean()\n",
                "\n",
                "#Perfil de docente\n",
                "print(jun_profile.sort_values(ascending=False).head(10))\n",
                "\n",
                "\n",
                "#crear un subconjunto de solo los recursos que no descargó\n",
                "non_users_recursos=tfidf.drop(recursos, axis=0)\n",
                "\n",
                "#Calcula el indice de similitud de coseno entre todas las filas \n",
                "user_prof_similarities= cosine_similarity(jun_profile.values.reshape(1,-1),non_users_recursos)\n",
                "\n",
                "#Guarda en un dataframe \n",
                "user_similariity_df = pd.DataFrame(user_prof_similarities.T,\n",
                "                                   index=non_users_recursos.index,\n",
                "                                   columns=['Score'])\n",
                "\n",
                "\n",
                "sorted_similarity_df = user_similariity_df.sort_values(by='Score', ascending=False)\n",
                "sorted_similarity_df"
            ]
        },
        {
            "cell_type": "markdown",
            "metadata": {},
            "source": [
                "# Evaluación\n",
                "\n",
                "Se utiliza el método de validación cruzada denominada hold out en el que una muestra aleatoria de datos se mantiene al margen del proceso de entrenamiento y se utiliza exclusivamente para la evaluación"
            ]
        },
        {
            "cell_type": "code",
            "execution_count": 231,
            "metadata": {},
            "outputs": [],
            "source": [
                "from sklearn.model_selection import train_test_split\n",
                "import random"
            ]
        },
        {
            "cell_type": "code",
            "execution_count": 232,
            "metadata": {},
            "outputs": [
                {
                    "name": "stdout",
                    "output_type": "stream",
                    "text": [
                        "# de acciones en el dataset entrenamiento 2390 \n",
                        "# de acciones en el dataset prueba 1025\n"
                    ]
                }
            ],
            "source": [
                "acciones_df_entrenamiento, acciones_df_prueba = train_test_split(acciones_df_validos_2,stratify=acciones_df_validos_2['DNI'],test_size=0.3,random_state=29)\n",
                "\n",
                "print(\"# de acciones en el dataset entrenamiento %d \" %len(acciones_df_entrenamiento))\n",
                "print(\"# de acciones en el dataset prueba %d\" %len(acciones_df_prueba))"
            ]
        },
        {
            "cell_type": "code",
            "execution_count": 233,
            "metadata": {},
            "outputs": [],
            "source": [
                "#indexación del DNI\n",
                "acciones_df_indexed = acciones_df_validos_2.set_index('DNI')\n",
                "acciones_df_entrenamiento_indexed = acciones_df_entrenamiento.set_index('DNI')\n",
                "acciones_df_prueba_indexed = acciones_df_prueba.set_index('DNI')"
            ]
        },
        {
            "cell_type": "code",
            "execution_count": 234,
            "metadata": {},
            "outputs": [],
            "source": [
                "def obtener_items_interactuados(dni, acciones_df_validos_2):\n",
                "    #Obtener los datos del usuario y fusionar la información \n",
                "    acciones_recursos = acciones_df_validos_2.loc[dni]['ACCIONFORMATIVABANCORECURSOID']\n",
                "    return set(acciones_recursos if type(acciones_recursos) == pd.Series else [acciones_recursos])"
            ]
        },
        {
            "cell_type": "markdown",
            "metadata": {},
            "source": [
                "En los sistemas de recomendación, hay una serie de métricas que se utilizan para la evaluación. En este caso se optó trabajar con la métrica precisión TOP-N, que evalúa la precisión de las principales recomendaciones proporcionadas a un usuario, comparándolas con los elementos con los que el usuario ha interactuado realmente en el conjunto de pruebas método de evaluación funciona de la siguiente manera \n",
                "\n",
                "* Para cada usuario\n",
                "    * Para cada elemento con el que el usuario ha interactuado en el conjunto de prueba\n",
                "        * Muestrale otros 100 elementos con los que el usuario nunca ha interactuado (Aquí se asumen que los elementos no interactuados no son relevantes para el usuario)\n",
                "        * Pida al modelo de recomendacion que elabore una lista ordenada de elementos recomendados a partir de un conjunto compuesto por un elemento interactuado y los 100 no interactuados (no relevantes.)\n",
                "* Agregue las métricas de precisión TOP-N globales\n",
                "\n",
                "La metrica de precisión elegida fue Rec@llN, que evalua si el elemento interactuado se encuentro entre los N elementos principales, en la lista clasificada de 101 recomendaciones para un usuario"
            ]
        },
        {
            "cell_type": "code",
            "execution_count": 308,
            "metadata": {},
            "outputs": [],
            "source": [
                "# Metricas de precisión TOP-N \n",
                "EVALUADOR_ALEATORIO_MUESTREO_NO_ACCIONES_ITEMS = 100\n",
                "\n",
                "class EvaluacionModelo :\n",
                "\n",
                "    def obtener_muestra_elementos_no_interactuados(self, dni, tamaño_muestra, seed=29):\n",
                "        acciones_items = obtener_items_interactuados(dni, acciones_df_indexed)\n",
                "        todos_items = set(banco_recursos_df['ID'])\n",
                "        items_no_interaccion = todos_items - acciones_items\n",
                "\n",
                "        random.seed(seed)\n",
                "        items_no_interacciones_muestra = random.sample( items_no_interaccion, tamaño_muestra)\n",
                "        return set(items_no_interacciones_muestra)\n",
                "\n",
                "    def _verificar_acierto_top_n(self, item_id, recomendador_oferta, topn) :\n",
                "        try:\n",
                "            index = next(i for i, c in enumerate(recomendador_oferta) if c == item_id)\n",
                "        except :\n",
                "            index = -1 \n",
                "        acierto = int(index in range(0, topn))\n",
                "        return acierto, index\n",
                "\n",
                "    def evaluar_modelo_para_usuario(self, modelo, dni):\n",
                "        #Obtener los elemntos del conjunto de prueba\n",
                "        valores_acciones_prueba = acciones_df_prueba_indexed.loc[dni]\n",
                "        if type(valores_acciones_prueba['ACCIONFORMATIVABANCORECURSOID']) == pd.Series:elementos_interactuados_por_persona = set(\n",
                "            valores_acciones_prueba['ACCIONFORMATIVABANCORECURSOID'])\n",
                "        else:\n",
                "            elementos_interactuados_por_persona = set([int(valores_acciones_prueba['ACCIONFORMATIVABANCORECURSOID'])])\n",
                "        contador_valores_acciones_prueba = len(elementos_interactuados_por_persona)\n",
                "\n",
                "        #Obtención de una lista de recomendaciones clasificadas a partir de un modelo para un usuario determinado\n",
                "        person_recs_df = modelo.recommend_items(dni, items_para_ignorar=obtener_items_interactuados(dni, acciones_df_entrenamiento_indexed ), topn=1000)\n",
                "\n",
                "        acierto_para_5_contador = 0\n",
                "        acierto_para_10_contador = 0\n",
                "        #Para cada elementos con el que el usuario ha interactuado en el conjunto de pruebas\n",
                "        for item_id in elementos_interactuados_por_persona : \n",
                "            #Obtención de una muestra aleatoria (100) de elementos con los que el usuario no ha interactuado \n",
                "            #Para presentar elementos que se supone que no son relevantes para el usuario\n",
                "            items_no_interacciones_muestra = self.obtener_muestra_elementos_no_interactuados(dni,\n",
                "                                                                                                tamaño_muestra=EVALUADOR_ALEATORIO_MUESTREO_NO_ACCIONES_ITEMS,\n",
                "                                                                                                seed = item_id)\n",
                "\n",
                "            #Combinar el elemento interactuado actual con los 100 elementos aleatorios\n",
                "            elementos_para_filtrar_recs = items_no_interacciones_muestra.union(set([item_id]))\n",
                "\n",
                "            #Filtrar sólo las recomendaciones que son el elemento recomendado o de una muestra aleatoria de 100 elementos no interactuados\n",
                "            valido_recs_df = person_recs_df[person_recs_df['ACCIONFORMATIVABANCORECURSOID'].isin(elementos_para_filtrar_recs)]\n",
                "            valido_recs = valido_recs_df['ACCIONFORMATIVABANCORECURSOID'].values\n",
                "            #Comprobacion de si el elemento interactuado se encuentra entre los N primeros elementos recomendados\n",
                "            acierto_para_5, indice_para_5 = self._verificar_acierto_top_n(item_id, valido_recs, 5)\n",
                "            acierto_para_5_contador += acierto_para_5\n",
                "            acierto_para_10, indice_para_10 = self._verificar_acierto_top_n(item_id,valido_recs, 10)\n",
                "            acierto_para_10_contador += acierto_para_10\n",
                "\n",
                "        #Recall es el porcentaje de elementos interactuado que se clasifican entre los N elementos recomendados\n",
                "        #cuando se mezcla con un conjunto de datos no pertinentes\n",
                "        recall_para_5 = acierto_para_5_contador / float(contador_valores_acciones_prueba)\n",
                "        recall_para_10 = acierto_para_10_contador / float(contador_valores_acciones_prueba)\n",
                "\n",
                "        metricas_persona =  { 'aciertos@5':acierto_para_5_contador,\n",
                "                                'aciertos@10':acierto_para_10_contador,\n",
                "                                'acciones_count': contador_valores_acciones_prueba,\n",
                "                                'recall@5' : recall_para_5,\n",
                "                                'recall@10' : recall_para_10}\n",
                "        return metricas_persona\n",
                "\n",
                "    def evaluar_modelo(self, modelo):\n",
                "        personas_metricas = []\n",
                "        for idx , dni in enumerate(list(acciones_df_prueba_indexed.index.unique().values)):\n",
                "            # si idx % 100 == 0 and idx > 0:\n",
                "            # print('%d users processed' % idx)\n",
                "            metricas_persona = self.evaluar_modelo_para_usuario(modelo, dni)\n",
                "            metricas_persona['DNI'] = dni\n",
                "            personas_metricas.append(metricas_persona)\n",
                "        print('%d usuarios procesados' % idx)\n",
                "\n",
                "        resultados_detallados_df = pd.DataFrame(personas_metricas)\\\n",
                "                                        .sort_values('acciones_count',ascending=False)\n",
                "\n",
                "        global_recall_para_5 = resultados_detallados_df['aciertos@5'].sum() / float(resultados_detallados_df['acciones_count'].sum())\n",
                "        global_recall_para_10 = resultados_detallados_df['aciertos@10'].sum() / float(resultados_detallados_df['acciones_count'].sum())\n",
                "\n",
                "        metricas_globales = {'Modelo': modelo.get_model_name(),\n",
                "                        'recall@5': global_recall_para_5,\n",
                "                        'recall@10': global_recall_para_10}\n",
                "        return metricas_globales, resultados_detallados_df\n",
                "\n",
                "evaluador_modelo = EvaluacionModelo()"
            ]
        },
        {
            "cell_type": "code",
            "execution_count": 276,
            "metadata": {},
            "outputs": [
                {
                    "data": {
                        "text/plain": [
                            "<3029x500 sparse matrix of type '<class 'numpy.float64'>'\n",
                            "\twith 113872 stored elements in Compressed Sparse Row format>"
                        ]
                    },
                    "execution_count": 276,
                    "metadata": {},
                    "output_type": "execute_result"
                }
            ],
            "source": [
                "vectorizer = TfidfVectorizer(analyzer='word',\n",
                "                     ngram_range=(1, 2),\n",
                "                     min_df=5,\n",
                "                     max_df=0.7,\n",
                "                     max_features=500,\n",
                "                     stop_words=stopwords_list)\n",
                "\n",
                "item_ids = banco_recursos_df['ID'].tolist()\n",
                "tfidf_matrix = vectorizer.fit_transform(banco_recursos_df['TITULO'] + \" \" + banco_recursos_df['RESUMEN'])\n",
                "tfidf_feature_names = vectorizer.get_feature_names_out()\n",
                "tfidf_matrix"
            ]
        },
        {
            "cell_type": "markdown",
            "metadata": {},
            "source": [
                "Para modelar el perfil de usuario, tomamos todos los perfiles de recursos con los que ha interactuado el usuario y los promediamos. La media se pondera por la fuerza de interacción, es decir, los recursos con los que el usuario ha interactuado más (por ejemplo, ha descargado o visualizado) tendrán una fuerza mayor en el perfil del usuario final."
            ]
        },
        {
            "cell_type": "code",
            "execution_count": 277,
            "metadata": {},
            "outputs": [],
            "source": [
                "def get_item_profile(item_id):\n",
                "    idx = item_ids.index(item_id)\n",
                "    item_profile = tfidf_matrix[idx:idx+1]\n",
                "    return item_profile\n",
                "\n",
                "def get_item_profiles(ids):\n",
                "    item_profiles_list = [get_item_profile(x) for x in ids]\n",
                "    item_profiles = scipy.sparse.vstack(item_profiles_list)\n",
                "    return item_profiles\n",
                "\n",
                "def build_users_profile(person_id, interactions_indexed_df):\n",
                "    acciones_df_validos_2 = interactions_indexed_df.loc[person_id]\n",
                "    user_item_profiles = get_item_profiles(acciones_df_validos_2['ACCIONFORMATIVABANCORECURSOID'])\n",
                "    \n",
                "    user_item_strengths = np.array(acciones_df_validos_2['DESCARGA']).reshape(-1,1)\n",
                "    #Media ponderada de los perfiles de los elementos según la fuerza de las interacciones\n",
                "    user_item_strengths_weighted_avg = np.sum(user_item_profiles.multiply(user_item_strengths), axis=0) / np.sum(user_item_strengths)\n",
                "    user_profile_norm = sklearn.preprocessing.normalize(np.asarray(user_item_strengths_weighted_avg))\n",
                "    return user_profile_norm\n",
                "\n",
                "def build_users_profiles(): \n",
                "    interactions_indexed_df = acciones_df_validos_2[acciones_df_validos_2['ACCIONFORMATIVABANCORECURSOID'].isin(banco_recursos_df['ID'])].set_index('DNI')\n",
                "    user_profiles = {}\n",
                "    for person_id in interactions_indexed_df.index.unique():\n",
                "        user_profiles[person_id] = build_users_profile(person_id, interactions_indexed_df)\n",
                "    return user_profiles"
            ]
        },
        {
            "cell_type": "code",
            "execution_count": 278,
            "metadata": {},
            "outputs": [
                {
                    "data": {
                        "text/plain": [
                            "236"
                        ]
                    },
                    "execution_count": 278,
                    "metadata": {},
                    "output_type": "execute_result"
                }
            ],
            "source": [
                "user_profiles = build_users_profiles()\n",
                "len(user_profiles)"
            ]
        },
        {
            "cell_type": "code",
            "execution_count": 288,
            "metadata": {},
            "outputs": [
                {
                    "name": "stdout",
                    "output_type": "stream",
                    "text": [
                        "(1, 500)\n"
                    ]
                },
                {
                    "data": {
                        "text/html": [
                            "<div>\n",
                            "<style scoped>\n",
                            "    .dataframe tbody tr th:only-of-type {\n",
                            "        vertical-align: middle;\n",
                            "    }\n",
                            "\n",
                            "    .dataframe tbody tr th {\n",
                            "        vertical-align: top;\n",
                            "    }\n",
                            "\n",
                            "    .dataframe thead th {\n",
                            "        text-align: right;\n",
                            "    }\n",
                            "</style>\n",
                            "<table border=\"1\" class=\"dataframe\">\n",
                            "  <thead>\n",
                            "    <tr style=\"text-align: right;\">\n",
                            "      <th></th>\n",
                            "      <th>token</th>\n",
                            "      <th>relevancia</th>\n",
                            "    </tr>\n",
                            "  </thead>\n",
                            "  <tbody>\n",
                            "    <tr>\n",
                            "      <th>0</th>\n",
                            "      <td>animales</td>\n",
                            "      <td>0.381728</td>\n",
                            "    </tr>\n",
                            "    <tr>\n",
                            "      <th>1</th>\n",
                            "      <td>materiales</td>\n",
                            "      <td>0.231728</td>\n",
                            "    </tr>\n",
                            "    <tr>\n",
                            "      <th>2</th>\n",
                            "      <td>social ciencia</td>\n",
                            "      <td>0.195129</td>\n",
                            "    </tr>\n",
                            "    <tr>\n",
                            "      <th>3</th>\n",
                            "      <td>personal social</td>\n",
                            "      <td>0.164758</td>\n",
                            "    </tr>\n",
                            "    <tr>\n",
                            "      <th>4</th>\n",
                            "      <td>ciencia tecnología</td>\n",
                            "      <td>0.163540</td>\n",
                            "    </tr>\n",
                            "    <tr>\n",
                            "      <th>5</th>\n",
                            "      <td>ciencia</td>\n",
                            "      <td>0.162743</td>\n",
                            "    </tr>\n",
                            "    <tr>\n",
                            "      <th>6</th>\n",
                            "      <td>tecnología</td>\n",
                            "      <td>0.162349</td>\n",
                            "    </tr>\n",
                            "    <tr>\n",
                            "      <th>7</th>\n",
                            "      <td>social</td>\n",
                            "      <td>0.160800</td>\n",
                            "    </tr>\n",
                            "    <tr>\n",
                            "      <th>8</th>\n",
                            "      <td>personal</td>\n",
                            "      <td>0.160042</td>\n",
                            "    </tr>\n",
                            "    <tr>\n",
                            "      <th>9</th>\n",
                            "      <td>situaciones aprendizaje</td>\n",
                            "      <td>0.159454</td>\n",
                            "    </tr>\n",
                            "    <tr>\n",
                            "      <th>10</th>\n",
                            "      <td>desarrollo competencias</td>\n",
                            "      <td>0.126756</td>\n",
                            "    </tr>\n",
                            "    <tr>\n",
                            "      <th>11</th>\n",
                            "      <td>imágenes</td>\n",
                            "      <td>0.118426</td>\n",
                            "    </tr>\n",
                            "    <tr>\n",
                            "      <th>12</th>\n",
                            "      <td>aprendizaje vinculadas</td>\n",
                            "      <td>0.116038</td>\n",
                            "    </tr>\n",
                            "    <tr>\n",
                            "      <th>13</th>\n",
                            "      <td>vinculadas actividades</td>\n",
                            "      <td>0.116038</td>\n",
                            "    </tr>\n",
                            "    <tr>\n",
                            "      <th>14</th>\n",
                            "      <td>vinculadas</td>\n",
                            "      <td>0.113773</td>\n",
                            "    </tr>\n",
                            "    <tr>\n",
                            "      <th>15</th>\n",
                            "      <td>situaciones</td>\n",
                            "      <td>0.113070</td>\n",
                            "    </tr>\n",
                            "    <tr>\n",
                            "      <th>16</th>\n",
                            "      <td>ii</td>\n",
                            "      <td>0.112321</td>\n",
                            "    </tr>\n",
                            "    <tr>\n",
                            "      <th>17</th>\n",
                            "      <td>mundo escrito</td>\n",
                            "      <td>0.111391</td>\n",
                            "    </tr>\n",
                            "    <tr>\n",
                            "      <th>18</th>\n",
                            "      <td>escrito</td>\n",
                            "      <td>0.110274</td>\n",
                            "    </tr>\n",
                            "    <tr>\n",
                            "      <th>19</th>\n",
                            "      <td>aprendizaje</td>\n",
                            "      <td>0.109059</td>\n",
                            "    </tr>\n",
                            "  </tbody>\n",
                            "</table>\n",
                            "</div>"
                        ],
                        "text/plain": [
                            "                      token  relevancia\n",
                            "0                  animales    0.381728\n",
                            "1                materiales    0.231728\n",
                            "2            social ciencia    0.195129\n",
                            "3           personal social    0.164758\n",
                            "4        ciencia tecnología    0.163540\n",
                            "5                   ciencia    0.162743\n",
                            "6                tecnología    0.162349\n",
                            "7                    social    0.160800\n",
                            "8                  personal    0.160042\n",
                            "9   situaciones aprendizaje    0.159454\n",
                            "10  desarrollo competencias    0.126756\n",
                            "11                 imágenes    0.118426\n",
                            "12   aprendizaje vinculadas    0.116038\n",
                            "13   vinculadas actividades    0.116038\n",
                            "14               vinculadas    0.113773\n",
                            "15              situaciones    0.113070\n",
                            "16                       ii    0.112321\n",
                            "17            mundo escrito    0.111391\n",
                            "18                  escrito    0.110274\n",
                            "19              aprendizaje    0.109059"
                        ]
                    },
                    "execution_count": 288,
                    "metadata": {},
                    "output_type": "execute_result"
                }
            ],
            "source": [
                "profile_ejm1= user_profiles['00067813']\n",
                "print(profile_ejm1.shape)\n",
                "pd.DataFrame(sorted(zip(tfidf_feature_names, \n",
                "                        user_profiles['00067813'].flatten().tolist()), key=lambda x: -x[1])[:20],\n",
                "             columns=['token', 'relevancia'])"
            ]
        },
        {
            "cell_type": "code",
            "execution_count": 313,
            "metadata": {},
            "outputs": [],
            "source": [
                "class ContentBasedRecommender:\n",
                "    \n",
                "    MODEL_NAME = 'Basado en Contenido'\n",
                "    \n",
                "    def __init__(self, items_df=None):\n",
                "        self.item_ids = item_ids\n",
                "        self.items_df = items_df\n",
                "        \n",
                "    def get_model_name(self):\n",
                "        return self.MODEL_NAME\n",
                "        \n",
                "    def _get_similar_items_to_user_profile(self, person_id, topn=1000):\n",
                "        #Calcula la similitud del coseno entre el perfil de usuaruio y todos los perfiles de los cursos\n",
                "        cosine_similarities = cosine_similarity(user_profiles[person_id], tfidf_matrix)\n",
                "        #Gets the top similar items\n",
                "        similar_indices = cosine_similarities.argsort().flatten()[-topn:]\n",
                "        #Ordenar los elmentos similares por similitud\n",
                "        similar_items = sorted([(item_ids[i], cosine_similarities[0,i]) for i in similar_indices], key=lambda x: -x[1])\n",
                "        return similar_items\n",
                "        \n",
                "    def recommend_items(self, user_id, items_para_ignorar=[], topn=10, verbose=False):\n",
                "        similar_items = self._get_similar_items_to_user_profile(user_id)\n",
                "        #ignora los cursos con los que el usuario ya ha interactuado\n",
                "        similar_items_filtered = list(filter(lambda x: x[0] not in items_para_ignorar, similar_items))\n",
                "        \n",
                "        recommendations_df = pd.DataFrame(similar_items_filtered, columns=['ACCIONFORMATIVABANCORECURSOID', 'DESCARGA']) \\\n",
                "                                    .head(topn)\n",
                "\n",
                "        if verbose:\n",
                "            if self.items_df is None:\n",
                "                raise Exception('\"items_df\" is required in verbose mode')\n",
                "\n",
                "            recommendations_df = recommendations_df.merge(self.items_df, how = 'left', \n",
                "                                                          left_on = 'ACCIONFORMATIVABANCORECURSOID', \n",
                "                                                          right_on = 'ID')\n",
                "\n",
                "\n",
                "        return recommendations_df\n",
                "    \n",
                "content_based_recommender_model = ContentBasedRecommender(banco_recursos_df)"
            ]
        },
        {
            "cell_type": "markdown",
            "metadata": {},
            "source": [
                "Con las recomendaciones personalizadas del modelo de filtrado basado en contenidos, tenemos un Recall@5 de 0.82 lo que significa que alrededor del (82%) de los elementos interactuado en el conjunto de prueba fueron clasificados por este modelo entre los 5  elementos y Recall@10 fue de 0.90 (90%). El mejor valor , puede indicar que los usuarios se fijan en el contenido de los recursos al momento de elegir descargarlos."
            ]
        },
        {
            "cell_type": "code",
            "execution_count": 314,
            "metadata": {},
            "outputs": [
                {
                    "name": "stdout",
                    "output_type": "stream",
                    "text": [
                        "Evaluacion del modelo basado en contenido...\n",
                        "235 usuarios procesados\n",
                        "\n",
                        "Metricas globales:\n",
                        "{'Modelo': 'Basado en Contenido', 'recall@5': 0.8273170731707317, 'recall@10': 0.9004878048780488}\n"
                    ]
                },
                {
                    "data": {
                        "text/html": [
                            "<div>\n",
                            "<style scoped>\n",
                            "    .dataframe tbody tr th:only-of-type {\n",
                            "        vertical-align: middle;\n",
                            "    }\n",
                            "\n",
                            "    .dataframe tbody tr th {\n",
                            "        vertical-align: top;\n",
                            "    }\n",
                            "\n",
                            "    .dataframe thead th {\n",
                            "        text-align: right;\n",
                            "    }\n",
                            "</style>\n",
                            "<table border=\"1\" class=\"dataframe\">\n",
                            "  <thead>\n",
                            "    <tr style=\"text-align: right;\">\n",
                            "      <th></th>\n",
                            "      <th>aciertos@5</th>\n",
                            "      <th>aciertos@10</th>\n",
                            "      <th>acciones_count</th>\n",
                            "      <th>recall@5</th>\n",
                            "      <th>recall@10</th>\n",
                            "      <th>DNI</th>\n",
                            "    </tr>\n",
                            "  </thead>\n",
                            "  <tbody>\n",
                            "    <tr>\n",
                            "      <th>5</th>\n",
                            "      <td>47</td>\n",
                            "      <td>65</td>\n",
                            "      <td>73</td>\n",
                            "      <td>0.643836</td>\n",
                            "      <td>0.890411</td>\n",
                            "      <td>26718653</td>\n",
                            "    </tr>\n",
                            "    <tr>\n",
                            "      <th>3</th>\n",
                            "      <td>46</td>\n",
                            "      <td>46</td>\n",
                            "      <td>50</td>\n",
                            "      <td>0.920000</td>\n",
                            "      <td>0.920000</td>\n",
                            "      <td>24702114</td>\n",
                            "    </tr>\n",
                            "    <tr>\n",
                            "      <th>4</th>\n",
                            "      <td>21</td>\n",
                            "      <td>31</td>\n",
                            "      <td>46</td>\n",
                            "      <td>0.456522</td>\n",
                            "      <td>0.673913</td>\n",
                            "      <td>27414316</td>\n",
                            "    </tr>\n",
                            "    <tr>\n",
                            "      <th>26</th>\n",
                            "      <td>28</td>\n",
                            "      <td>29</td>\n",
                            "      <td>41</td>\n",
                            "      <td>0.682927</td>\n",
                            "      <td>0.707317</td>\n",
                            "      <td>20067642</td>\n",
                            "    </tr>\n",
                            "    <tr>\n",
                            "      <th>15</th>\n",
                            "      <td>18</td>\n",
                            "      <td>27</td>\n",
                            "      <td>37</td>\n",
                            "      <td>0.486486</td>\n",
                            "      <td>0.729730</td>\n",
                            "      <td>79075618</td>\n",
                            "    </tr>\n",
                            "    <tr>\n",
                            "      <th>34</th>\n",
                            "      <td>21</td>\n",
                            "      <td>25</td>\n",
                            "      <td>34</td>\n",
                            "      <td>0.617647</td>\n",
                            "      <td>0.735294</td>\n",
                            "      <td>40060920</td>\n",
                            "    </tr>\n",
                            "    <tr>\n",
                            "      <th>0</th>\n",
                            "      <td>19</td>\n",
                            "      <td>23</td>\n",
                            "      <td>31</td>\n",
                            "      <td>0.612903</td>\n",
                            "      <td>0.741935</td>\n",
                            "      <td>19899910</td>\n",
                            "    </tr>\n",
                            "    <tr>\n",
                            "      <th>7</th>\n",
                            "      <td>17</td>\n",
                            "      <td>21</td>\n",
                            "      <td>28</td>\n",
                            "      <td>0.607143</td>\n",
                            "      <td>0.750000</td>\n",
                            "      <td>23205527</td>\n",
                            "    </tr>\n",
                            "    <tr>\n",
                            "      <th>33</th>\n",
                            "      <td>27</td>\n",
                            "      <td>27</td>\n",
                            "      <td>27</td>\n",
                            "      <td>1.000000</td>\n",
                            "      <td>1.000000</td>\n",
                            "      <td>32647994</td>\n",
                            "    </tr>\n",
                            "    <tr>\n",
                            "      <th>13</th>\n",
                            "      <td>10</td>\n",
                            "      <td>15</td>\n",
                            "      <td>20</td>\n",
                            "      <td>0.500000</td>\n",
                            "      <td>0.750000</td>\n",
                            "      <td>44130260</td>\n",
                            "    </tr>\n",
                            "  </tbody>\n",
                            "</table>\n",
                            "</div>"
                        ],
                        "text/plain": [
                            "    aciertos@5  aciertos@10  acciones_count  recall@5  recall@10       DNI\n",
                            "5           47           65              73  0.643836   0.890411  26718653\n",
                            "3           46           46              50  0.920000   0.920000  24702114\n",
                            "4           21           31              46  0.456522   0.673913  27414316\n",
                            "26          28           29              41  0.682927   0.707317  20067642\n",
                            "15          18           27              37  0.486486   0.729730  79075618\n",
                            "34          21           25              34  0.617647   0.735294  40060920\n",
                            "0           19           23              31  0.612903   0.741935  19899910\n",
                            "7           17           21              28  0.607143   0.750000  23205527\n",
                            "33          27           27              27  1.000000   1.000000  32647994\n",
                            "13          10           15              20  0.500000   0.750000  44130260"
                        ]
                    },
                    "execution_count": 314,
                    "metadata": {},
                    "output_type": "execute_result"
                }
            ],
            "source": [
                "print('Evaluacion del modelo basado en contenido...')\n",
                "bc_metrica_global, bc_detalle_resultado_df = evaluador_modelo.evaluar_modelo(content_based_recommender_model)\n",
                "print('\\nMetricas globales:\\n%s' % bc_metrica_global)\n",
                "bc_detalle_resultado_df.head(10)"
            ]
        },
        {
            "cell_type": "markdown",
            "metadata": {},
            "source": [
                "# Testing"
            ]
        },
        {
            "cell_type": "code",
            "execution_count": 310,
            "metadata": {},
            "outputs": [],
            "source": [
                "\n",
                "def inspect_interactions(person_id, test_set=True):\n",
                "    if test_set:\n",
                "        interactions_df = acciones_df_prueba_indexed\n",
                "    else:\n",
                "        interactions_df = acciones_df_entrenamiento_indexed\n",
                "    return acciones_df_indexed.loc[person_id].merge(banco_recursos_df, how = 'left', \n",
                "                                                      left_on = 'ACCIONFORMATIVABANCORECURSOID', \n",
                "                                                      right_on = 'ID') \\\n",
                "                          .sort_values('DESCARGA', ascending = False)"
            ]
        },
        {
            "cell_type": "markdown",
            "metadata": {},
            "source": [
                "<p> Aqui vemos los recuros que ha consumido</p>"
            ]
        },
        {
            "cell_type": "code",
            "execution_count": 311,
            "metadata": {},
            "outputs": [
                {
                    "data": {
                        "text/html": [
                            "<div>\n",
                            "<style scoped>\n",
                            "    .dataframe tbody tr th:only-of-type {\n",
                            "        vertical-align: middle;\n",
                            "    }\n",
                            "\n",
                            "    .dataframe tbody tr th {\n",
                            "        vertical-align: top;\n",
                            "    }\n",
                            "\n",
                            "    .dataframe thead th {\n",
                            "        text-align: right;\n",
                            "    }\n",
                            "</style>\n",
                            "<table border=\"1\" class=\"dataframe\">\n",
                            "  <thead>\n",
                            "    <tr style=\"text-align: right;\">\n",
                            "      <th></th>\n",
                            "      <th>ID_x</th>\n",
                            "      <th>ACCIONFORMATIVABANCORECURSOID</th>\n",
                            "      <th>PREFERENCIA</th>\n",
                            "      <th>VISTA</th>\n",
                            "      <th>DESCARGA</th>\n",
                            "      <th>CALIFICACION</th>\n",
                            "      <th>ID_y</th>\n",
                            "      <th>TITULO</th>\n",
                            "      <th>RESUMEN</th>\n",
                            "      <th>CATEGORIA</th>\n",
                            "      <th>TIPO_RECURSO</th>\n",
                            "      <th>SUB_CATEGORIA</th>\n",
                            "      <th>SEGUNDA</th>\n",
                            "      <th>TERCERA</th>\n",
                            "      <th>CUARTA</th>\n",
                            "      <th>DESCARGAS</th>\n",
                            "      <th>VISTAS</th>\n",
                            "    </tr>\n",
                            "  </thead>\n",
                            "  <tbody>\n",
                            "    <tr>\n",
                            "      <th>0</th>\n",
                            "      <td>24933</td>\n",
                            "      <td>1983</td>\n",
                            "      <td>False</td>\n",
                            "      <td>0</td>\n",
                            "      <td>1</td>\n",
                            "      <td>0</td>\n",
                            "      <td>1983</td>\n",
                            "      <td>Cartilla de animales  Yine</td>\n",
                            "      <td>Las cartillas de animales y plantas presentan ...</td>\n",
                            "      <td>Material Educativo</td>\n",
                            "      <td>Texto</td>\n",
                            "      <td>None</td>\n",
                            "      <td>None</td>\n",
                            "      <td>None</td>\n",
                            "      <td>None</td>\n",
                            "      <td>1</td>\n",
                            "      <td>0</td>\n",
                            "    </tr>\n",
                            "    <tr>\n",
                            "      <th>1</th>\n",
                            "      <td>24934</td>\n",
                            "      <td>1842</td>\n",
                            "      <td>False</td>\n",
                            "      <td>0</td>\n",
                            "      <td>1</td>\n",
                            "      <td>0</td>\n",
                            "      <td>1842</td>\n",
                            "      <td>Texto  Personal Social  Ciencia y Tecnología  ...</td>\n",
                            "      <td>Contiene actividades que apoyan el desarrollo ...</td>\n",
                            "      <td>Material Educativo</td>\n",
                            "      <td>Texto</td>\n",
                            "      <td>None</td>\n",
                            "      <td>None</td>\n",
                            "      <td>None</td>\n",
                            "      <td>None</td>\n",
                            "      <td>1</td>\n",
                            "      <td>5</td>\n",
                            "    </tr>\n",
                            "  </tbody>\n",
                            "</table>\n",
                            "</div>"
                        ],
                        "text/plain": [
                            "    ID_x  ACCIONFORMATIVABANCORECURSOID  PREFERENCIA  VISTA  DESCARGA   \n",
                            "0  24933                           1983        False      0         1  \\\n",
                            "1  24934                           1842        False      0         1   \n",
                            "\n",
                            "   CALIFICACION  ID_y                                             TITULO   \n",
                            "0             0  1983                         Cartilla de animales  Yine  \\\n",
                            "1             0  1842  Texto  Personal Social  Ciencia y Tecnología  ...   \n",
                            "\n",
                            "                                             RESUMEN           CATEGORIA   \n",
                            "0  Las cartillas de animales y plantas presentan ...  Material Educativo  \\\n",
                            "1  Contiene actividades que apoyan el desarrollo ...  Material Educativo   \n",
                            "\n",
                            "  TIPO_RECURSO SUB_CATEGORIA SEGUNDA TERCERA CUARTA  DESCARGAS  VISTAS  \n",
                            "0        Texto          None    None    None   None          1       0  \n",
                            "1        Texto          None    None    None   None          1       5  "
                        ]
                    },
                    "execution_count": 311,
                    "metadata": {},
                    "output_type": "execute_result"
                }
            ],
            "source": [
                "\n",
                "inspect_interactions('00067813', test_set=False).head(10)"
            ]
        },
        {
            "cell_type": "markdown",
            "metadata": {},
            "source": [
                "<b>Recomendaciones</b>"
            ]
        },
        {
            "cell_type": "code",
            "execution_count": 316,
            "metadata": {},
            "outputs": [
                {
                    "data": {
                        "text/html": [
                            "<div>\n",
                            "<style scoped>\n",
                            "    .dataframe tbody tr th:only-of-type {\n",
                            "        vertical-align: middle;\n",
                            "    }\n",
                            "\n",
                            "    .dataframe tbody tr th {\n",
                            "        vertical-align: top;\n",
                            "    }\n",
                            "\n",
                            "    .dataframe thead th {\n",
                            "        text-align: right;\n",
                            "    }\n",
                            "</style>\n",
                            "<table border=\"1\" class=\"dataframe\">\n",
                            "  <thead>\n",
                            "    <tr style=\"text-align: right;\">\n",
                            "      <th></th>\n",
                            "      <th>ACCIONFORMATIVABANCORECURSOID</th>\n",
                            "      <th>DESCARGA</th>\n",
                            "      <th>ID</th>\n",
                            "      <th>TITULO</th>\n",
                            "      <th>RESUMEN</th>\n",
                            "      <th>CATEGORIA</th>\n",
                            "      <th>TIPO_RECURSO</th>\n",
                            "      <th>SUB_CATEGORIA</th>\n",
                            "      <th>SEGUNDA</th>\n",
                            "      <th>TERCERA</th>\n",
                            "      <th>CUARTA</th>\n",
                            "      <th>DESCARGAS</th>\n",
                            "      <th>VISTAS</th>\n",
                            "    </tr>\n",
                            "  </thead>\n",
                            "  <tbody>\n",
                            "    <tr>\n",
                            "      <th>0</th>\n",
                            "      <td>1799</td>\n",
                            "      <td>0.724561</td>\n",
                            "      <td>1799</td>\n",
                            "      <td>Texto  Personal Social  Ciencia y Tecnología  ...</td>\n",
                            "      <td>Contiene actividades que apoyan el desarrollo ...</td>\n",
                            "      <td>Material Educativo</td>\n",
                            "      <td>Texto</td>\n",
                            "      <td>None</td>\n",
                            "      <td>None</td>\n",
                            "      <td>None</td>\n",
                            "      <td>None</td>\n",
                            "      <td>0</td>\n",
                            "      <td>0</td>\n",
                            "    </tr>\n",
                            "    <tr>\n",
                            "      <th>1</th>\n",
                            "      <td>1652</td>\n",
                            "      <td>0.724561</td>\n",
                            "      <td>1652</td>\n",
                            "      <td>Texto  Personal Social  Ciencia y Tecnología  ...</td>\n",
                            "      <td>Contiene actividades que apoyan el desarrollo ...</td>\n",
                            "      <td>Material Educativo</td>\n",
                            "      <td>Texto</td>\n",
                            "      <td>None</td>\n",
                            "      <td>None</td>\n",
                            "      <td>None</td>\n",
                            "      <td>None</td>\n",
                            "      <td>0</td>\n",
                            "      <td>0</td>\n",
                            "    </tr>\n",
                            "    <tr>\n",
                            "      <th>2</th>\n",
                            "      <td>1651</td>\n",
                            "      <td>0.724561</td>\n",
                            "      <td>1651</td>\n",
                            "      <td>Texto  Personal Social  Ciencia y Tecnología  ...</td>\n",
                            "      <td>Contiene actividades que apoyan el desarrollo ...</td>\n",
                            "      <td>Material Educativo</td>\n",
                            "      <td>Texto</td>\n",
                            "      <td>None</td>\n",
                            "      <td>None</td>\n",
                            "      <td>None</td>\n",
                            "      <td>None</td>\n",
                            "      <td>0</td>\n",
                            "      <td>0</td>\n",
                            "    </tr>\n",
                            "    <tr>\n",
                            "      <th>3</th>\n",
                            "      <td>1664</td>\n",
                            "      <td>0.724561</td>\n",
                            "      <td>1664</td>\n",
                            "      <td>Texto  Personal Social  Ciencia y Tecnología  ...</td>\n",
                            "      <td>Contiene actividades que apoyan el desarrollo ...</td>\n",
                            "      <td>Material Educativo</td>\n",
                            "      <td>Texto</td>\n",
                            "      <td>None</td>\n",
                            "      <td>None</td>\n",
                            "      <td>None</td>\n",
                            "      <td>None</td>\n",
                            "      <td>0</td>\n",
                            "      <td>0</td>\n",
                            "    </tr>\n",
                            "    <tr>\n",
                            "      <th>4</th>\n",
                            "      <td>1663</td>\n",
                            "      <td>0.724561</td>\n",
                            "      <td>1663</td>\n",
                            "      <td>Texto  Personal Social  Ciencia y Tecnología  ...</td>\n",
                            "      <td>Contiene actividades que apoyan el desarrollo ...</td>\n",
                            "      <td>Material Educativo</td>\n",
                            "      <td>Texto</td>\n",
                            "      <td>None</td>\n",
                            "      <td>None</td>\n",
                            "      <td>None</td>\n",
                            "      <td>None</td>\n",
                            "      <td>0</td>\n",
                            "      <td>0</td>\n",
                            "    </tr>\n",
                            "  </tbody>\n",
                            "</table>\n",
                            "</div>"
                        ],
                        "text/plain": [
                            "   ACCIONFORMATIVABANCORECURSOID  DESCARGA    ID   \n",
                            "0                           1799  0.724561  1799  \\\n",
                            "1                           1652  0.724561  1652   \n",
                            "2                           1651  0.724561  1651   \n",
                            "3                           1664  0.724561  1664   \n",
                            "4                           1663  0.724561  1663   \n",
                            "\n",
                            "                                              TITULO   \n",
                            "0  Texto  Personal Social  Ciencia y Tecnología  ...  \\\n",
                            "1  Texto  Personal Social  Ciencia y Tecnología  ...   \n",
                            "2  Texto  Personal Social  Ciencia y Tecnología  ...   \n",
                            "3  Texto  Personal Social  Ciencia y Tecnología  ...   \n",
                            "4  Texto  Personal Social  Ciencia y Tecnología  ...   \n",
                            "\n",
                            "                                             RESUMEN           CATEGORIA   \n",
                            "0  Contiene actividades que apoyan el desarrollo ...  Material Educativo  \\\n",
                            "1  Contiene actividades que apoyan el desarrollo ...  Material Educativo   \n",
                            "2  Contiene actividades que apoyan el desarrollo ...  Material Educativo   \n",
                            "3  Contiene actividades que apoyan el desarrollo ...  Material Educativo   \n",
                            "4  Contiene actividades que apoyan el desarrollo ...  Material Educativo   \n",
                            "\n",
                            "  TIPO_RECURSO SUB_CATEGORIA SEGUNDA TERCERA CUARTA  DESCARGAS  VISTAS  \n",
                            "0        Texto          None    None    None   None          0       0  \n",
                            "1        Texto          None    None    None   None          0       0  \n",
                            "2        Texto          None    None    None   None          0       0  \n",
                            "3        Texto          None    None    None   None          0       0  \n",
                            "4        Texto          None    None    None   None          0       0  "
                        ]
                    },
                    "execution_count": 316,
                    "metadata": {},
                    "output_type": "execute_result"
                }
            ],
            "source": [
                "#FiltroColaborativo= CFRecommender()\n",
                "content_based_recommender_model.recommend_items(user_id='00067813', topn=5, verbose=True)"
            ]
        }
    ],
    "metadata": {
        "kernelspec": {
            "display_name": "Python 3",
            "language": "python",
            "name": "python3"
        },
        "language_info": {
            "codemirror_mode": {
                "name": "ipython",
                "version": 3
            },
            "file_extension": ".py",
            "mimetype": "text/x-python",
            "name": "python",
            "nbconvert_exporter": "python",
            "pygments_lexer": "ipython3",
            "version": "3.10.2"
        },
        "orig_nbformat": 4
    },
    "nbformat": 4,
    "nbformat_minor": 2
}
