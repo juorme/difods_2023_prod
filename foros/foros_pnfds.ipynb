{
 "cells": [
  {
   "cell_type": "markdown",
   "metadata": {},
   "source": [
    "# Análisis de Foro del Programa Nacional de Formaciön Docente en Servicio"
   ]
  },
  {
   "cell_type": "markdown",
   "metadata": {},
   "source": [
    "## Origen de datos"
   ]
  },
  {
   "cell_type": "code",
   "execution_count": 44,
   "metadata": {},
   "outputs": [],
   "source": [
    "# Librerias a usar \n",
    "import pandas as pd \n",
    "import pyodbc \n",
    "import re \n",
    "import matplotlib.pyplot as plt\n",
    "\n",
    "from nltk.corpus import stopwords\n",
    "from nltk.tokenize import word_tokenize\n",
    "from nltk.stem import WordNetLemmatizer\n",
    "\n",
    "import joblib "
   ]
  },
  {
   "cell_type": "code",
   "execution_count": 3,
   "metadata": {},
   "outputs": [],
   "source": [
    "# Credenciales \n",
    "conn = pyodbc.connect(DRIVER = '{ODBC Driver 17 for SQL Server}',\n",
    "                      SERVER = 'med000008646',\n",
    "                      DATABASE = 'BD_BA',\n",
    "                      UID = 'usconsulta',\n",
    "                      PWD = 'consulta')"
   ]
  },
  {
   "cell_type": "code",
   "execution_count": 4,
   "metadata": {},
   "outputs": [
    {
     "name": "stderr",
     "output_type": "stream",
     "text": [
      "C:\\Users\\DIFODS103\\AppData\\Local\\Temp\\ipykernel_17368\\2424577046.py:6: UserWarning: pandas only supports SQLAlchemy connectable (engine/connection) or database string URI or sqlite3 DBAPI2 connection. Other DBAPI2 objects are not tested. Please consider using SQLAlchemy.\n",
      "  foros_df = pd.read_sql_query(query1,conn)\n"
     ]
    }
   ],
   "source": [
    "#Extraccion del dataset inical \n",
    "## maestro de cursos de la oferta formativa \n",
    "query1 = \"\"\"SELECT  * FROM [dbo].[MON_foros]\n",
    "            WHERE usuario_post_forum not in ('2','3','19797','276201') and dni != '' and curso_id = 26\"\"\"\n",
    "    \n",
    "foros_df = pd.read_sql_query(query1,conn)\n",
    "\n",
    "#Cerrar la conexion\n",
    "conn.close()"
   ]
  },
  {
   "cell_type": "code",
   "execution_count": 14,
   "metadata": {},
   "outputs": [
    {
     "data": {
      "text/html": [
       "<div>\n",
       "<style scoped>\n",
       "    .dataframe tbody tr th:only-of-type {\n",
       "        vertical-align: middle;\n",
       "    }\n",
       "\n",
       "    .dataframe tbody tr th {\n",
       "        vertical-align: top;\n",
       "    }\n",
       "\n",
       "    .dataframe thead th {\n",
       "        text-align: right;\n",
       "    }\n",
       "</style>\n",
       "<table border=\"1\" class=\"dataframe\">\n",
       "  <thead>\n",
       "    <tr style=\"text-align: right;\">\n",
       "      <th></th>\n",
       "      <th>curso_id</th>\n",
       "      <th>foro_id</th>\n",
       "      <th>nombre_debate</th>\n",
       "      <th>usuario_diss_forum</th>\n",
       "      <th>usuario_post_forum</th>\n",
       "      <th>mensaje</th>\n",
       "      <th>dni</th>\n",
       "      <th>grupo_id</th>\n",
       "    </tr>\n",
       "  </thead>\n",
       "  <tbody>\n",
       "    <tr>\n",
       "      <th>0</th>\n",
       "      <td>26</td>\n",
       "      <td>61</td>\n",
       "      <td>Foro: Mensaje de bienvenida</td>\n",
       "      <td>3</td>\n",
       "      <td>8209</td>\n",
       "      <td>buenas noches, colegas mi nombre es jesusa mar...</td>\n",
       "      <td>23720134</td>\n",
       "      <td>1005</td>\n",
       "    </tr>\n",
       "    <tr>\n",
       "      <th>1</th>\n",
       "      <td>26</td>\n",
       "      <td>61</td>\n",
       "      <td>Foro: Mensaje de bienvenida</td>\n",
       "      <td>3</td>\n",
       "      <td>278376</td>\n",
       "      <td>buenas tardes soy la docente d'yana mayta del ...</td>\n",
       "      <td>70994318</td>\n",
       "      <td>1005</td>\n",
       "    </tr>\n",
       "    <tr>\n",
       "      <th>2</th>\n",
       "      <td>26</td>\n",
       "      <td>61</td>\n",
       "      <td>Foro: Mensaje de bienvenida</td>\n",
       "      <td>3</td>\n",
       "      <td>278841</td>\n",
       "      <td>buenas tardes colegas, mi nombre es sylvia jos...</td>\n",
       "      <td>08370218</td>\n",
       "      <td>1005</td>\n",
       "    </tr>\n",
       "    <tr>\n",
       "      <th>3</th>\n",
       "      <td>26</td>\n",
       "      <td>61</td>\n",
       "      <td>Foro: Mensaje de bienvenida</td>\n",
       "      <td>3</td>\n",
       "      <td>299000</td>\n",
       "      <td>buenas noches colegas, mi nombre es edith illo...</td>\n",
       "      <td>41275738</td>\n",
       "      <td>1005</td>\n",
       "    </tr>\n",
       "    <tr>\n",
       "      <th>4</th>\n",
       "      <td>26</td>\n",
       "      <td>61</td>\n",
       "      <td>Foro: Mensaje de bienvenida</td>\n",
       "      <td>3</td>\n",
       "      <td>276484</td>\n",
       "      <td>buenas tardes mi nombres es roxana del carmen ...</td>\n",
       "      <td>03635669</td>\n",
       "      <td>1005</td>\n",
       "    </tr>\n",
       "  </tbody>\n",
       "</table>\n",
       "</div>"
      ],
      "text/plain": [
       "  curso_id foro_id                nombre_debate usuario_diss_forum   \n",
       "0       26      61  Foro: Mensaje de bienvenida                  3  \\\n",
       "1       26      61  Foro: Mensaje de bienvenida                  3   \n",
       "2       26      61  Foro: Mensaje de bienvenida                  3   \n",
       "3       26      61  Foro: Mensaje de bienvenida                  3   \n",
       "4       26      61  Foro: Mensaje de bienvenida                  3   \n",
       "\n",
       "  usuario_post_forum                                            mensaje   \n",
       "0               8209  buenas noches, colegas mi nombre es jesusa mar...  \\\n",
       "1             278376  buenas tardes soy la docente d'yana mayta del ...   \n",
       "2             278841  buenas tardes colegas, mi nombre es sylvia jos...   \n",
       "3             299000  buenas noches colegas, mi nombre es edith illo...   \n",
       "4             276484  buenas tardes mi nombres es roxana del carmen ...   \n",
       "\n",
       "        dni grupo_id  \n",
       "0  23720134     1005  \n",
       "1  70994318     1005  \n",
       "2  08370218     1005  \n",
       "3  41275738     1005  \n",
       "4  03635669     1005  "
      ]
     },
     "execution_count": 14,
     "metadata": {},
     "output_type": "execute_result"
    }
   ],
   "source": [
    "foros_df.head()"
   ]
  },
  {
   "cell_type": "markdown",
   "metadata": {},
   "source": [
    "## Selección, limpieza y transformación"
   ]
  },
  {
   "cell_type": "code",
   "execution_count": 15,
   "metadata": {},
   "outputs": [
    {
     "data": {
      "text/plain": [
       "0       buenas noches, colegas mi nombre es jesusa mar...\n",
       "1       buenas tardes soy la docente d'yana mayta del ...\n",
       "2       buenas tardes colegas, mi nombre es sylvia jos...\n",
       "3       buenas noches colegas, mi nombre es edith illo...\n",
       "4       buenas tardes mi nombres es roxana del carmen ...\n",
       "                              ...                        \n",
       "3825    buenas noches  mi nombres luz eldith pinedo ra...\n",
       "3826    bienvenida alicia geraldine!la participación d...\n",
       "3827    muy buenos días estimado maestro alejandro  es...\n",
       "3828    bienvenida luz eldith, el área de desarrollo p...\n",
       "3829    buenos días alicia, gracias por sus aportes, t...\n",
       "Name: mensaje, Length: 3830, dtype: object"
      ]
     },
     "execution_count": 15,
     "metadata": {},
     "output_type": "execute_result"
    }
   ],
   "source": [
    "mensaje = foros_df['mensaje']\n",
    "mensaje"
   ]
  },
  {
   "cell_type": "code",
   "execution_count": 16,
   "metadata": {},
   "outputs": [],
   "source": [
    "# Convertir a minúsculas\n",
    "mensaje= mensaje.str.lower()\n",
    "# Eliminar signos de puntuación\n",
    "mensaje = mensaje.apply(lambda x: re.sub(r'[^\\w\\s]', '', x))"
   ]
  },
  {
   "cell_type": "code",
   "execution_count": 17,
   "metadata": {},
   "outputs": [
    {
     "data": {
      "text/plain": [
       "0       [buenas, noches, colegas, mi, nombre, es, jesu...\n",
       "1       [buenas, tardes, soy, la, docente, dyana, mayt...\n",
       "2       [buenas, tardes, colegas, mi, nombre, es, sylv...\n",
       "3       [buenas, noches, colegas, mi, nombre, es, edit...\n",
       "4       [buenas, tardes, mi, nombres, es, roxana, del,...\n",
       "                              ...                        \n",
       "3825    [buenas, noches, mi, nombres, luz, eldith, pin...\n",
       "3826    [bienvenida, alicia, geraldinela, participació...\n",
       "3827    [muy, buenos, días, estimado, maestro, alejand...\n",
       "3828    [bienvenida, luz, eldith, el, área, de, desarr...\n",
       "3829    [buenos, días, alicia, gracias, por, sus, apor...\n",
       "Name: mensaje, Length: 3830, dtype: object"
      ]
     },
     "execution_count": 17,
     "metadata": {},
     "output_type": "execute_result"
    }
   ],
   "source": [
    "# Tokenización\n",
    "mensaje = mensaje.apply(word_tokenize)\n",
    "mensaje"
   ]
  },
  {
   "cell_type": "code",
   "execution_count": 19,
   "metadata": {},
   "outputs": [],
   "source": [
    "# Eliminación de stop words\n",
    "custom_stopwords = set(['buenas','buenos','dias','tardes','tengo','espero','ie','auala','aula','traves','tener','espero',\n",
    "                        'promuevo','promover','democracia','intercultural','convivencia','áreas','competencia',\n",
    "                        'desarrollo','lectura','leer','lectora','desarrollar','tener','realizar','hacer',\n",
    "                        'curricular','diverso','diferente','noches','estimada','estimadas'])\n",
    "\n",
    "stop_words = set(stopwords.words('spanish'))\n",
    "\n",
    "stop_words.update(custom_stopwords)\n",
    "mensaje = mensaje.apply(lambda x: [word for word in x if word not in stop_words])"
   ]
  },
  {
   "cell_type": "code",
   "execution_count": 20,
   "metadata": {},
   "outputs": [],
   "source": [
    "# Lematización\n",
    "lemmatizer = WordNetLemmatizer()\n",
    "mensaje = mensaje.apply(lambda x: [lemmatizer.lemmatize(word) for word in x])\n"
   ]
  },
  {
   "cell_type": "code",
   "execution_count": 21,
   "metadata": {},
   "outputs": [
    {
     "data": {
      "text/plain": [
       "['docente',\n",
       " 'dyana',\n",
       " 'mayta',\n",
       " 'nivel',\n",
       " 'inicial',\n",
       " 'vivo',\n",
       " 'lima',\n",
       " 'disrito',\n",
       " 'santa',\n",
       " 'anita']"
      ]
     },
     "execution_count": 21,
     "metadata": {},
     "output_type": "execute_result"
    }
   ],
   "source": [
    "mensaje[1]"
   ]
  },
  {
   "cell_type": "code",
   "execution_count": 22,
   "metadata": {},
   "outputs": [
    {
     "data": {
      "text/plain": [
       "\"buenas tardes soy la docente d'yana mayta del nivel inicial, vivo en lima en el disrito de santa anita.\""
      ]
     },
     "execution_count": 22,
     "metadata": {},
     "output_type": "execute_result"
    }
   ],
   "source": [
    "foros_df['mensaje'][1]"
   ]
  },
  {
   "cell_type": "code",
   "execution_count": 23,
   "metadata": {},
   "outputs": [],
   "source": [
    "# Unir tokens nuevamente en mensajes\n",
    "mensaje = mensaje.apply(lambda x: ' '.join(x))"
   ]
  },
  {
   "cell_type": "code",
   "execution_count": 24,
   "metadata": {},
   "outputs": [
    {
     "data": {
      "text/plain": [
       "0       colegas nombre jesusa martinez zarabia docente...\n",
       "1       docente dyana mayta nivel inicial vivo lima di...\n",
       "2       colegas nombre sylvia josefina orejuela flores...\n",
       "3       colegas nombre edith illo capcha trabajo regió...\n",
       "4       nombres roxana carmen gallo gutiérrez docente ...\n",
       "                              ...                        \n",
       "3825    nombres luz eldith pinedo ramírez docente inst...\n",
       "3826    bienvenida alicia geraldinela participación es...\n",
       "3827    días estimado maestro alejandro importante res...\n",
       "3828    bienvenida luz eldith área personal ciudadanía...\n",
       "3829        días alicia gracias aportes bienvenido éxitos\n",
       "Name: mensaje, Length: 3830, dtype: object"
      ]
     },
     "execution_count": 24,
     "metadata": {},
     "output_type": "execute_result"
    }
   ],
   "source": [
    "mensaje"
   ]
  },
  {
   "cell_type": "markdown",
   "metadata": {},
   "source": [
    "## Mineria de Texto"
   ]
  },
  {
   "cell_type": "code",
   "execution_count": 25,
   "metadata": {},
   "outputs": [],
   "source": [
    "from sklearn.feature_extraction.text import CountVectorizer\n",
    "from sklearn.decomposition import LatentDirichletAllocation"
   ]
  },
  {
   "cell_type": "code",
   "execution_count": 26,
   "metadata": {},
   "outputs": [],
   "source": [
    "# Crear una matriz de términos (bag of words) usando CountVectorizer\n",
    "vectorizer = CountVectorizer(max_features=500)  # Puedes ajustar el número de características\n",
    "X = vectorizer.fit_transform(mensaje)"
   ]
  },
  {
   "cell_type": "code",
   "execution_count": 27,
   "metadata": {},
   "outputs": [
    {
     "data": {
      "text/html": [
       "<style>#sk-container-id-1 {color: black;background-color: white;}#sk-container-id-1 pre{padding: 0;}#sk-container-id-1 div.sk-toggleable {background-color: white;}#sk-container-id-1 label.sk-toggleable__label {cursor: pointer;display: block;width: 100%;margin-bottom: 0;padding: 0.3em;box-sizing: border-box;text-align: center;}#sk-container-id-1 label.sk-toggleable__label-arrow:before {content: \"▸\";float: left;margin-right: 0.25em;color: #696969;}#sk-container-id-1 label.sk-toggleable__label-arrow:hover:before {color: black;}#sk-container-id-1 div.sk-estimator:hover label.sk-toggleable__label-arrow:before {color: black;}#sk-container-id-1 div.sk-toggleable__content {max-height: 0;max-width: 0;overflow: hidden;text-align: left;background-color: #f0f8ff;}#sk-container-id-1 div.sk-toggleable__content pre {margin: 0.2em;color: black;border-radius: 0.25em;background-color: #f0f8ff;}#sk-container-id-1 input.sk-toggleable__control:checked~div.sk-toggleable__content {max-height: 200px;max-width: 100%;overflow: auto;}#sk-container-id-1 input.sk-toggleable__control:checked~label.sk-toggleable__label-arrow:before {content: \"▾\";}#sk-container-id-1 div.sk-estimator input.sk-toggleable__control:checked~label.sk-toggleable__label {background-color: #d4ebff;}#sk-container-id-1 div.sk-label input.sk-toggleable__control:checked~label.sk-toggleable__label {background-color: #d4ebff;}#sk-container-id-1 input.sk-hidden--visually {border: 0;clip: rect(1px 1px 1px 1px);clip: rect(1px, 1px, 1px, 1px);height: 1px;margin: -1px;overflow: hidden;padding: 0;position: absolute;width: 1px;}#sk-container-id-1 div.sk-estimator {font-family: monospace;background-color: #f0f8ff;border: 1px dotted black;border-radius: 0.25em;box-sizing: border-box;margin-bottom: 0.5em;}#sk-container-id-1 div.sk-estimator:hover {background-color: #d4ebff;}#sk-container-id-1 div.sk-parallel-item::after {content: \"\";width: 100%;border-bottom: 1px solid gray;flex-grow: 1;}#sk-container-id-1 div.sk-label:hover label.sk-toggleable__label {background-color: #d4ebff;}#sk-container-id-1 div.sk-serial::before {content: \"\";position: absolute;border-left: 1px solid gray;box-sizing: border-box;top: 0;bottom: 0;left: 50%;z-index: 0;}#sk-container-id-1 div.sk-serial {display: flex;flex-direction: column;align-items: center;background-color: white;padding-right: 0.2em;padding-left: 0.2em;position: relative;}#sk-container-id-1 div.sk-item {position: relative;z-index: 1;}#sk-container-id-1 div.sk-parallel {display: flex;align-items: stretch;justify-content: center;background-color: white;position: relative;}#sk-container-id-1 div.sk-item::before, #sk-container-id-1 div.sk-parallel-item::before {content: \"\";position: absolute;border-left: 1px solid gray;box-sizing: border-box;top: 0;bottom: 0;left: 50%;z-index: -1;}#sk-container-id-1 div.sk-parallel-item {display: flex;flex-direction: column;z-index: 1;position: relative;background-color: white;}#sk-container-id-1 div.sk-parallel-item:first-child::after {align-self: flex-end;width: 50%;}#sk-container-id-1 div.sk-parallel-item:last-child::after {align-self: flex-start;width: 50%;}#sk-container-id-1 div.sk-parallel-item:only-child::after {width: 0;}#sk-container-id-1 div.sk-dashed-wrapped {border: 1px dashed gray;margin: 0 0.4em 0.5em 0.4em;box-sizing: border-box;padding-bottom: 0.4em;background-color: white;}#sk-container-id-1 div.sk-label label {font-family: monospace;font-weight: bold;display: inline-block;line-height: 1.2em;}#sk-container-id-1 div.sk-label-container {text-align: center;}#sk-container-id-1 div.sk-container {/* jupyter's `normalize.less` sets `[hidden] { display: none; }` but bootstrap.min.css set `[hidden] { display: none !important; }` so we also need the `!important` here to be able to override the default hidden behavior on the sphinx rendered scikit-learn.org. See: https://github.com/scikit-learn/scikit-learn/issues/21755 */display: inline-block !important;position: relative;}#sk-container-id-1 div.sk-text-repr-fallback {display: none;}</style><div id=\"sk-container-id-1\" class=\"sk-top-container\"><div class=\"sk-text-repr-fallback\"><pre>LatentDirichletAllocation(n_components=5, random_state=42)</pre><b>In a Jupyter environment, please rerun this cell to show the HTML representation or trust the notebook. <br />On GitHub, the HTML representation is unable to render, please try loading this page with nbviewer.org.</b></div><div class=\"sk-container\" hidden><div class=\"sk-item\"><div class=\"sk-estimator sk-toggleable\"><input class=\"sk-toggleable__control sk-hidden--visually\" id=\"sk-estimator-id-1\" type=\"checkbox\" checked><label for=\"sk-estimator-id-1\" class=\"sk-toggleable__label sk-toggleable__label-arrow\">LatentDirichletAllocation</label><div class=\"sk-toggleable__content\"><pre>LatentDirichletAllocation(n_components=5, random_state=42)</pre></div></div></div></div></div>"
      ],
      "text/plain": [
       "LatentDirichletAllocation(n_components=5, random_state=42)"
      ]
     },
     "execution_count": 27,
     "metadata": {},
     "output_type": "execute_result"
    }
   ],
   "source": [
    "# Aplicar el modelo LDA\n",
    "num_topics = 5  # Número de tópicos a identificar\n",
    "lda_model = LatentDirichletAllocation(n_components=num_topics, random_state=42)\n",
    "lda_model.fit(X)"
   ]
  },
  {
   "cell_type": "code",
   "execution_count": 30,
   "metadata": {},
   "outputs": [
    {
     "data": {
      "text/plain": [
       "['lda_model1.pkl']"
      ]
     },
     "execution_count": 30,
     "metadata": {},
     "output_type": "execute_result"
    }
   ],
   "source": [
    "#exportar modelo lda\n",
    "joblib.dump(lda_model,\"lda_model1.pkl\")"
   ]
  },
  {
   "cell_type": "code",
   "execution_count": 31,
   "metadata": {},
   "outputs": [
    {
     "name": "stdout",
     "output_type": "stream",
     "text": [
      "Topic 1:\n",
      "estudiantes, democrática, respeto, cada, área, actividades, través, norma, comprensión, trabajo\n",
      "\n",
      "Topic 2:\n",
      "diversas, cómo, manera, curriculares, democrática, promueves, desarrollas, estudiantes, preguntas, partir\n",
      "\n",
      "Topic 3:\n",
      "estudiantes, democrática, maestra, usted, participación, estrategias, importante, colega, interesante, así\n",
      "\n",
      "Topic 4:\n",
      "programa, foro, docente, democrática, formación, servicio, participación, nacional, virtual, experiencia\n",
      "\n",
      "Topic 5:\n",
      "docente, estudiantes, nivel, trabajo, nombre, curso, región, grado, expectativas, mejorar\n",
      "\n"
     ]
    }
   ],
   "source": [
    "# Mostrar las palabras clave de cada tópico\n",
    "feature_names = vectorizer.get_feature_names_out()\n",
    "for topic_idx, topic in enumerate(lda_model.components_):\n",
    "    print(f\"Topic {topic_idx + 1}:\")\n",
    "    top_words_idx = topic.argsort()[-10:][::-1]  # Las 10 palabras más relevantes\n",
    "    top_words = [feature_names[i] for i in top_words_idx]\n",
    "    print(\", \".join(top_words))\n",
    "    print()"
   ]
  },
  {
   "cell_type": "code",
   "execution_count": 32,
   "metadata": {},
   "outputs": [],
   "source": [
    "# Obtener la distribución de tópicos para cada mensaje\n",
    "topic_distribution = lda_model.transform(X)"
   ]
  },
  {
   "cell_type": "code",
   "execution_count": 33,
   "metadata": {},
   "outputs": [
    {
     "data": {
      "text/plain": [
       "array([[0.01015303, 0.01006237, 0.01011409, 0.01041709, 0.95925342],\n",
       "       [0.03349209, 0.03336648, 0.03334931, 0.03353676, 0.86625536],\n",
       "       [0.00916296, 0.00913135, 0.00919572, 0.00922269, 0.96328727],\n",
       "       ...,\n",
       "       [0.36806604, 0.17081294, 0.44348908, 0.00885192, 0.00878002],\n",
       "       [0.64517249, 0.00966472, 0.32554356, 0.00984707, 0.00977216],\n",
       "       [0.03340178, 0.03342119, 0.86489134, 0.03468381, 0.03360188]])"
      ]
     },
     "execution_count": 33,
     "metadata": {},
     "output_type": "execute_result"
    }
   ],
   "source": [
    "topic_distribution"
   ]
  },
  {
   "cell_type": "code",
   "execution_count": 34,
   "metadata": {},
   "outputs": [],
   "source": [
    "# Asociar cada mensaje al tópico más relevante\n",
    "topic_assignments = topic_distribution.argmax(axis=1)"
   ]
  },
  {
   "cell_type": "code",
   "execution_count": 35,
   "metadata": {},
   "outputs": [
    {
     "data": {
      "text/plain": [
       "array([4, 4, 4, ..., 2, 0, 2], dtype=int64)"
      ]
     },
     "execution_count": 35,
     "metadata": {},
     "output_type": "execute_result"
    }
   ],
   "source": [
    "topic_assignments"
   ]
  },
  {
   "cell_type": "code",
   "execution_count": 36,
   "metadata": {},
   "outputs": [],
   "source": [
    "# Agregar las asignaciones de tópicos a tus datos originales\n",
    "foros_df['topic'] = topic_assignments + 1\n",
    "foros_df['preprocesado'] = mensaje"
   ]
  },
  {
   "cell_type": "code",
   "execution_count": 37,
   "metadata": {},
   "outputs": [
    {
     "data": {
      "text/html": [
       "<div>\n",
       "<style scoped>\n",
       "    .dataframe tbody tr th:only-of-type {\n",
       "        vertical-align: middle;\n",
       "    }\n",
       "\n",
       "    .dataframe tbody tr th {\n",
       "        vertical-align: top;\n",
       "    }\n",
       "\n",
       "    .dataframe thead th {\n",
       "        text-align: right;\n",
       "    }\n",
       "</style>\n",
       "<table border=\"1\" class=\"dataframe\">\n",
       "  <thead>\n",
       "    <tr style=\"text-align: right;\">\n",
       "      <th></th>\n",
       "      <th>curso_id</th>\n",
       "      <th>foro_id</th>\n",
       "      <th>nombre_debate</th>\n",
       "      <th>usuario_diss_forum</th>\n",
       "      <th>usuario_post_forum</th>\n",
       "      <th>mensaje</th>\n",
       "      <th>dni</th>\n",
       "      <th>grupo_id</th>\n",
       "      <th>topic</th>\n",
       "      <th>preprocesado</th>\n",
       "    </tr>\n",
       "  </thead>\n",
       "  <tbody>\n",
       "    <tr>\n",
       "      <th>0</th>\n",
       "      <td>26</td>\n",
       "      <td>61</td>\n",
       "      <td>Foro: Mensaje de bienvenida</td>\n",
       "      <td>3</td>\n",
       "      <td>8209</td>\n",
       "      <td>buenas noches, colegas mi nombre es jesusa mar...</td>\n",
       "      <td>23720134</td>\n",
       "      <td>1005</td>\n",
       "      <td>5</td>\n",
       "      <td>colegas nombre jesusa martinez zarabia docente...</td>\n",
       "    </tr>\n",
       "    <tr>\n",
       "      <th>1</th>\n",
       "      <td>26</td>\n",
       "      <td>61</td>\n",
       "      <td>Foro: Mensaje de bienvenida</td>\n",
       "      <td>3</td>\n",
       "      <td>278376</td>\n",
       "      <td>buenas tardes soy la docente d'yana mayta del ...</td>\n",
       "      <td>70994318</td>\n",
       "      <td>1005</td>\n",
       "      <td>5</td>\n",
       "      <td>docente dyana mayta nivel inicial vivo lima di...</td>\n",
       "    </tr>\n",
       "    <tr>\n",
       "      <th>2</th>\n",
       "      <td>26</td>\n",
       "      <td>61</td>\n",
       "      <td>Foro: Mensaje de bienvenida</td>\n",
       "      <td>3</td>\n",
       "      <td>278841</td>\n",
       "      <td>buenas tardes colegas, mi nombre es sylvia jos...</td>\n",
       "      <td>08370218</td>\n",
       "      <td>1005</td>\n",
       "      <td>5</td>\n",
       "      <td>colegas nombre sylvia josefina orejuela flores...</td>\n",
       "    </tr>\n",
       "    <tr>\n",
       "      <th>3</th>\n",
       "      <td>26</td>\n",
       "      <td>61</td>\n",
       "      <td>Foro: Mensaje de bienvenida</td>\n",
       "      <td>3</td>\n",
       "      <td>299000</td>\n",
       "      <td>buenas noches colegas, mi nombre es edith illo...</td>\n",
       "      <td>41275738</td>\n",
       "      <td>1005</td>\n",
       "      <td>5</td>\n",
       "      <td>colegas nombre edith illo capcha trabajo regió...</td>\n",
       "    </tr>\n",
       "    <tr>\n",
       "      <th>4</th>\n",
       "      <td>26</td>\n",
       "      <td>61</td>\n",
       "      <td>Foro: Mensaje de bienvenida</td>\n",
       "      <td>3</td>\n",
       "      <td>276484</td>\n",
       "      <td>buenas tardes mi nombres es roxana del carmen ...</td>\n",
       "      <td>03635669</td>\n",
       "      <td>1005</td>\n",
       "      <td>5</td>\n",
       "      <td>nombres roxana carmen gallo gutiérrez docente ...</td>\n",
       "    </tr>\n",
       "    <tr>\n",
       "      <th>...</th>\n",
       "      <td>...</td>\n",
       "      <td>...</td>\n",
       "      <td>...</td>\n",
       "      <td>...</td>\n",
       "      <td>...</td>\n",
       "      <td>...</td>\n",
       "      <td>...</td>\n",
       "      <td>...</td>\n",
       "      <td>...</td>\n",
       "      <td>...</td>\n",
       "    </tr>\n",
       "    <tr>\n",
       "      <th>3825</th>\n",
       "      <td>26</td>\n",
       "      <td>61</td>\n",
       "      <td>Bienvenida a todos los participantes!</td>\n",
       "      <td>308399</td>\n",
       "      <td>69098</td>\n",
       "      <td>buenas noches  mi nombres luz eldith pinedo ra...</td>\n",
       "      <td>01065600</td>\n",
       "      <td>1406</td>\n",
       "      <td>5</td>\n",
       "      <td>nombres luz eldith pinedo ramírez docente inst...</td>\n",
       "    </tr>\n",
       "    <tr>\n",
       "      <th>3826</th>\n",
       "      <td>26</td>\n",
       "      <td>61</td>\n",
       "      <td>Bienvenida a todos los participantes!</td>\n",
       "      <td>308399</td>\n",
       "      <td>321732</td>\n",
       "      <td>bienvenida alicia geraldine!la participación d...</td>\n",
       "      <td>09282796</td>\n",
       "      <td>1406</td>\n",
       "      <td>3</td>\n",
       "      <td>bienvenida alicia geraldinela participación es...</td>\n",
       "    </tr>\n",
       "    <tr>\n",
       "      <th>3827</th>\n",
       "      <td>26</td>\n",
       "      <td>61</td>\n",
       "      <td>Bienvenida a todos los participantes!</td>\n",
       "      <td>308399</td>\n",
       "      <td>5703</td>\n",
       "      <td>muy buenos días estimado maestro alejandro  es...</td>\n",
       "      <td>29571124</td>\n",
       "      <td>1406</td>\n",
       "      <td>3</td>\n",
       "      <td>días estimado maestro alejandro importante res...</td>\n",
       "    </tr>\n",
       "    <tr>\n",
       "      <th>3828</th>\n",
       "      <td>26</td>\n",
       "      <td>61</td>\n",
       "      <td>Bienvenida a todos los participantes!</td>\n",
       "      <td>308399</td>\n",
       "      <td>317091</td>\n",
       "      <td>bienvenida luz eldith, el área de desarrollo p...</td>\n",
       "      <td>40953915</td>\n",
       "      <td>1406</td>\n",
       "      <td>1</td>\n",
       "      <td>bienvenida luz eldith área personal ciudadanía...</td>\n",
       "    </tr>\n",
       "    <tr>\n",
       "      <th>3829</th>\n",
       "      <td>26</td>\n",
       "      <td>61</td>\n",
       "      <td>Bienvenida a todos los participantes!</td>\n",
       "      <td>308399</td>\n",
       "      <td>317091</td>\n",
       "      <td>buenos días alicia, gracias por sus aportes, t...</td>\n",
       "      <td>40953915</td>\n",
       "      <td>1406</td>\n",
       "      <td>3</td>\n",
       "      <td>días alicia gracias aportes bienvenido éxitos</td>\n",
       "    </tr>\n",
       "  </tbody>\n",
       "</table>\n",
       "<p>3830 rows × 10 columns</p>\n",
       "</div>"
      ],
      "text/plain": [
       "     curso_id foro_id                          nombre_debate   \n",
       "0          26      61            Foro: Mensaje de bienvenida  \\\n",
       "1          26      61            Foro: Mensaje de bienvenida   \n",
       "2          26      61            Foro: Mensaje de bienvenida   \n",
       "3          26      61            Foro: Mensaje de bienvenida   \n",
       "4          26      61            Foro: Mensaje de bienvenida   \n",
       "...       ...     ...                                    ...   \n",
       "3825       26      61  Bienvenida a todos los participantes!   \n",
       "3826       26      61  Bienvenida a todos los participantes!   \n",
       "3827       26      61  Bienvenida a todos los participantes!   \n",
       "3828       26      61  Bienvenida a todos los participantes!   \n",
       "3829       26      61  Bienvenida a todos los participantes!   \n",
       "\n",
       "     usuario_diss_forum usuario_post_forum   \n",
       "0                     3               8209  \\\n",
       "1                     3             278376   \n",
       "2                     3             278841   \n",
       "3                     3             299000   \n",
       "4                     3             276484   \n",
       "...                 ...                ...   \n",
       "3825             308399              69098   \n",
       "3826             308399             321732   \n",
       "3827             308399               5703   \n",
       "3828             308399             317091   \n",
       "3829             308399             317091   \n",
       "\n",
       "                                                mensaje       dni grupo_id   \n",
       "0     buenas noches, colegas mi nombre es jesusa mar...  23720134     1005  \\\n",
       "1     buenas tardes soy la docente d'yana mayta del ...  70994318     1005   \n",
       "2     buenas tardes colegas, mi nombre es sylvia jos...  08370218     1005   \n",
       "3     buenas noches colegas, mi nombre es edith illo...  41275738     1005   \n",
       "4     buenas tardes mi nombres es roxana del carmen ...  03635669     1005   \n",
       "...                                                 ...       ...      ...   \n",
       "3825  buenas noches  mi nombres luz eldith pinedo ra...  01065600     1406   \n",
       "3826  bienvenida alicia geraldine!la participación d...  09282796     1406   \n",
       "3827  muy buenos días estimado maestro alejandro  es...  29571124     1406   \n",
       "3828  bienvenida luz eldith, el área de desarrollo p...  40953915     1406   \n",
       "3829  buenos días alicia, gracias por sus aportes, t...  40953915     1406   \n",
       "\n",
       "      topic                                       preprocesado  \n",
       "0         5  colegas nombre jesusa martinez zarabia docente...  \n",
       "1         5  docente dyana mayta nivel inicial vivo lima di...  \n",
       "2         5  colegas nombre sylvia josefina orejuela flores...  \n",
       "3         5  colegas nombre edith illo capcha trabajo regió...  \n",
       "4         5  nombres roxana carmen gallo gutiérrez docente ...  \n",
       "...     ...                                                ...  \n",
       "3825      5  nombres luz eldith pinedo ramírez docente inst...  \n",
       "3826      3  bienvenida alicia geraldinela participación es...  \n",
       "3827      3  días estimado maestro alejandro importante res...  \n",
       "3828      1  bienvenida luz eldith área personal ciudadanía...  \n",
       "3829      3      días alicia gracias aportes bienvenido éxitos  \n",
       "\n",
       "[3830 rows x 10 columns]"
      ]
     },
     "execution_count": 37,
     "metadata": {},
     "output_type": "execute_result"
    }
   ],
   "source": [
    "foros_df"
   ]
  },
  {
   "cell_type": "code",
   "execution_count": 38,
   "metadata": {},
   "outputs": [
    {
     "data": {
      "text/plain": [
       "topic\n",
       "5    33.446475\n",
       "1    25.796345\n",
       "3    19.347258\n",
       "4    15.404700\n",
       "2     6.005222\n",
       "Name: count, dtype: float64"
      ]
     },
     "execution_count": 38,
     "metadata": {},
     "output_type": "execute_result"
    }
   ],
   "source": [
    "(foros_df['topic'].value_counts() / len(foros_df['topic'])) * 100"
   ]
  },
  {
   "cell_type": "code",
   "execution_count": 39,
   "metadata": {},
   "outputs": [],
   "source": [
    "# Contar la frecuencia de cada tópico\n",
    "topic_counts = sorted(foros_df['topic'].value_counts())"
   ]
  },
  {
   "cell_type": "code",
   "execution_count": 40,
   "metadata": {},
   "outputs": [],
   "source": [
    "# Etiquetas de los tópicos\n",
    "topic_labels = ['Tópico 1', 'Tópico 2', 'Tópico 3', 'Tópico 4', 'Tópico 5']"
   ]
  },
  {
   "cell_type": "code",
   "execution_count": 41,
   "metadata": {},
   "outputs": [],
   "source": [
    "# Colores para cada tópico\n",
    "topic_colors = ['blue', 'green', 'orange', 'red', 'purple']"
   ]
  },
  {
   "cell_type": "code",
   "execution_count": 45,
   "metadata": {},
   "outputs": [
    {
     "data": {
      "image/png": "[encoded data removed]",
      "text/plain": [
       "<Figure size 1000x600 with 1 Axes>"
      ]
     },
     "metadata": {},
     "output_type": "display_data"
    }
   ],
   "source": [
    "# Ajustar el tamaño de la figura\n",
    "fig, ax = plt.subplots(figsize=(10, 6))\n",
    "\n",
    "# Crear el gráfico de barras horizontal con colores degradados y orden descendente\n",
    "ax.barh(topic_labels,topic_counts,color=topic_colors)\n",
    "\n",
    "# Agregar etiquetas de datos a las barras\n",
    "for i, count in enumerate(topic_counts):\n",
    "    plt.text(count, i, str(count), ha='left', va='center')\n",
    "\n",
    "# Configurar los ejes y el título del gráfico\n",
    "plt.xlabel('Frecuencia')\n",
    "plt.ylabel('Topico')\n",
    "plt.title('PNFDS - Modalidad a Distancia con Tutoria')\n",
    "\n",
    "# Mostrar la gráfica\n",
    "plt.show()"
   ]
  }
 ],
 "metadata": {
  "kernelspec": {
   "display_name": "Python 3",
   "language": "python",
   "name": "python3"
  },
  "language_info": {
   "codemirror_mode": {
    "name": "ipython",
    "version": 3
   },
   "file_extension": ".py",
   "mimetype": "text/x-python",
   "name": "python",
   "nbconvert_exporter": "python",
   "pygments_lexer": "ipython3",
   "version": "3.10.2"
  },
  "orig_nbformat": 4
 },
 "nbformat": 4,
 "nbformat_minor": 2
}
