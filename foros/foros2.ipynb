{
 "cells": [
  {
   "cell_type": "code",
   "execution_count": 28,
   "metadata": {},
   "outputs": [],
   "source": [
    "import pandas as pd\n",
    "from nltk.corpus import stopwords\n",
    "from nltk.tokenize import word_tokenize\n",
    "from collections import Counter\n",
    "import nltk\n",
    "\n",
    "# Supongamos que tenemos los datos en un DataFrame de pandas llamado 'data' con las columnas: curso, grupo, estudiante, comentario\n",
    "\n",
    "# Cargar los datos desde el archivo o fuente correspondiente\n",
    "# data = pd.read_csv('ruta_del_archivo.csv')\n"
   ]
  },
  {
   "cell_type": "code",
   "execution_count": 31,
   "metadata": {},
   "outputs": [
    {
     "name": "stderr",
     "output_type": "stream",
     "text": [
      "[nltk_data] Downloading package punkt to\n",
      "[nltk_data]     C:\\Users\\DIFODS103\\AppData\\Roaming\\nltk_data...\n",
      "[nltk_data]   Unzipping tokenizers\\punkt.zip.\n"
     ]
    },
    {
     "data": {
      "text/plain": [
       "True"
      ]
     },
     "execution_count": 31,
     "metadata": {},
     "output_type": "execute_result"
    }
   ],
   "source": [
    "nltk.download('punkt')"
   ]
  },
  {
   "cell_type": "code",
   "execution_count": 71,
   "metadata": {},
   "outputs": [],
   "source": [
    "# Por simplicidad, crearemos un DataFrame de ejemplo:\n",
    "data = pd.DataFrame({\n",
    "    'curso': ['Matemáticas', 'Historia', 'Ciencias'],\n",
    "    'grupo': ['A', 'B', 'A'],\n",
    "    'estudiante': ['Juan', 'María', 'Pedro'],\n",
    "    'comentario': [\n",
    "        'El curso es interesante, pero algunas lecciones son complicadas, he notado que en ocasiones la vida no es facil pero siempre hay curso',\n",
    "        'La historia antigua siempre me ha fascinado.',\n",
    "        'La ciencia es emocionante y quiero aprender más.'\n",
    "    ]\n",
    "})\n"
   ]
  },
  {
   "cell_type": "code",
   "execution_count": 72,
   "metadata": {},
   "outputs": [
    {
     "data": {
      "text/html": [
       "<div>\n",
       "<style scoped>\n",
       "    .dataframe tbody tr th:only-of-type {\n",
       "        vertical-align: middle;\n",
       "    }\n",
       "\n",
       "    .dataframe tbody tr th {\n",
       "        vertical-align: top;\n",
       "    }\n",
       "\n",
       "    .dataframe thead th {\n",
       "        text-align: right;\n",
       "    }\n",
       "</style>\n",
       "<table border=\"1\" class=\"dataframe\">\n",
       "  <thead>\n",
       "    <tr style=\"text-align: right;\">\n",
       "      <th></th>\n",
       "      <th>curso</th>\n",
       "      <th>grupo</th>\n",
       "      <th>estudiante</th>\n",
       "      <th>comentario</th>\n",
       "    </tr>\n",
       "  </thead>\n",
       "  <tbody>\n",
       "    <tr>\n",
       "      <th>0</th>\n",
       "      <td>Matemáticas</td>\n",
       "      <td>A</td>\n",
       "      <td>Juan</td>\n",
       "      <td>El curso es interesante, pero algunas leccione...</td>\n",
       "    </tr>\n",
       "    <tr>\n",
       "      <th>1</th>\n",
       "      <td>Historia</td>\n",
       "      <td>B</td>\n",
       "      <td>María</td>\n",
       "      <td>La historia antigua siempre me ha fascinado.</td>\n",
       "    </tr>\n",
       "    <tr>\n",
       "      <th>2</th>\n",
       "      <td>Ciencias</td>\n",
       "      <td>A</td>\n",
       "      <td>Pedro</td>\n",
       "      <td>La ciencia es emocionante y quiero aprender más.</td>\n",
       "    </tr>\n",
       "  </tbody>\n",
       "</table>\n",
       "</div>"
      ],
      "text/plain": [
       "         curso grupo estudiante   \n",
       "0  Matemáticas     A       Juan  \\\n",
       "1     Historia     B      María   \n",
       "2     Ciencias     A      Pedro   \n",
       "\n",
       "                                          comentario  \n",
       "0  El curso es interesante, pero algunas leccione...  \n",
       "1       La historia antigua siempre me ha fascinado.  \n",
       "2   La ciencia es emocionante y quiero aprender más.  "
      ]
     },
     "execution_count": 72,
     "metadata": {},
     "output_type": "execute_result"
    }
   ],
   "source": [
    "data"
   ]
  },
  {
   "cell_type": "code",
   "execution_count": 73,
   "metadata": {},
   "outputs": [],
   "source": [
    "# Función para procesar el texto\n",
    "def process_text(text):\n",
    "    stop_words = set(stopwords.words('spanish'))  # Palabras comunes que no aportan mucho al análisis\n",
    "    tokens = word_tokenize(text.lower())  # Convertir a minúsculas y tokenizar el texto\n",
    "    return [word for word in tokens if word.isalpha() and word not in stop_words]\n",
    "\n",
    "# Procesar cada comentario y obtener las palabras más relevantes\n",
    "def get_main_ideas(data):\n",
    "    main_ideas = {}\n",
    "    for _, row in data.iterrows():\n",
    "        comment = row['comentario']\n",
    "        words = process_text(comment)\n",
    "        word_counter = Counter(words)\n",
    "        main_ideas[(row['curso'], row['grupo'], row['estudiante'])] = word_counter.most_common(5) # Obtener las 3 palabras más frecuentes\n",
    "\n",
    "    return main_ideas\n"
   ]
  },
  {
   "cell_type": "code",
   "execution_count": 83,
   "metadata": {},
   "outputs": [],
   "source": [
    "# Obtener las ideas principales de cada comentario\n",
    "ideas_principales = get_main_ideas(data)"
   ]
  },
  {
   "cell_type": "code",
   "execution_count": 87,
   "metadata": {},
   "outputs": [
    {
     "data": {
      "text/plain": [
       "[[('curso', 2),\n",
       "  ('interesante', 1),\n",
       "  ('lecciones', 1),\n",
       "  ('complicadas', 1),\n",
       "  ('notado', 1)],\n",
       " [('historia', 1), ('antigua', 1), ('siempre', 1), ('fascinado', 1)],\n",
       " [('ciencia', 1), ('emocionante', 1), ('quiero', 1), ('aprender', 1)]]"
      ]
     },
     "execution_count": 87,
     "metadata": {},
     "output_type": "execute_result"
    }
   ],
   "source": [
    "ideas=list(ideas_principales.values())\n",
    "ideas"
   ]
  },
  {
   "cell_type": "code",
   "execution_count": 88,
   "metadata": {},
   "outputs": [
    {
     "ename": "AttributeError",
     "evalue": "'list' object has no attribute 'most_common'",
     "output_type": "error",
     "traceback": [
      "\u001b[1;31m---------------------------------------------------------------------------\u001b[0m",
      "\u001b[1;31mAttributeError\u001b[0m                            Traceback (most recent call last)",
      "Cell \u001b[1;32mIn[88], line 1\u001b[0m\n\u001b[1;32m----> 1\u001b[0m ideas\u001b[39m.\u001b[39;49mmost_common(\u001b[39m2\u001b[39m)\n",
      "\u001b[1;31mAttributeError\u001b[0m: 'list' object has no attribute 'most_common'"
     ]
    }
   ],
   "source": [
    " ideas.most_common(2)"
   ]
  },
  {
   "cell_type": "code",
   "execution_count": 76,
   "metadata": {},
   "outputs": [
    {
     "name": "stdout",
     "output_type": "stream",
     "text": [
      "Ideas principales de ('Matemáticas', 'A', 'Juan'): [('curso', 2), ('interesante', 1), ('lecciones', 1), ('complicadas', 1), ('notado', 1)]\n",
      "Ideas principales de ('Historia', 'B', 'María'): [('historia', 1), ('antigua', 1), ('siempre', 1), ('fascinado', 1)]\n",
      "Ideas principales de ('Ciencias', 'A', 'Pedro'): [('ciencia', 1), ('emocionante', 1), ('quiero', 1), ('aprender', 1)]\n"
     ]
    }
   ],
   "source": [
    "# Imprimir los resultados\n",
    "for key, value in ideas_principales.items():\n",
    "    print(f\"Ideas principales de {key}: {value}\")"
   ]
  },
  {
   "cell_type": "code",
   "execution_count": 44,
   "metadata": {},
   "outputs": [
    {
     "data": {
      "text/html": [
       "<div>\n",
       "<style scoped>\n",
       "    .dataframe tbody tr th:only-of-type {\n",
       "        vertical-align: middle;\n",
       "    }\n",
       "\n",
       "    .dataframe tbody tr th {\n",
       "        vertical-align: top;\n",
       "    }\n",
       "\n",
       "    .dataframe thead th {\n",
       "        text-align: right;\n",
       "    }\n",
       "</style>\n",
       "<table border=\"1\" class=\"dataframe\">\n",
       "  <thead>\n",
       "    <tr style=\"text-align: right;\">\n",
       "      <th></th>\n",
       "      <th>level_0</th>\n",
       "      <th>level_1</th>\n",
       "      <th>level_2</th>\n",
       "      <th>0</th>\n",
       "      <th>1</th>\n",
       "      <th>2</th>\n",
       "    </tr>\n",
       "  </thead>\n",
       "  <tbody>\n",
       "    <tr>\n",
       "      <th>0</th>\n",
       "      <td>Matemáticas</td>\n",
       "      <td>A</td>\n",
       "      <td>Juan</td>\n",
       "      <td>(curso, 1)</td>\n",
       "      <td>(interesante, 1)</td>\n",
       "      <td>(lecciones, 1)</td>\n",
       "    </tr>\n",
       "    <tr>\n",
       "      <th>1</th>\n",
       "      <td>Historia</td>\n",
       "      <td>B</td>\n",
       "      <td>María</td>\n",
       "      <td>(historia, 1)</td>\n",
       "      <td>(antigua, 1)</td>\n",
       "      <td>(siempre, 1)</td>\n",
       "    </tr>\n",
       "    <tr>\n",
       "      <th>2</th>\n",
       "      <td>Ciencias</td>\n",
       "      <td>A</td>\n",
       "      <td>Pedro</td>\n",
       "      <td>(ciencia, 1)</td>\n",
       "      <td>(emocionante, 1)</td>\n",
       "      <td>(quiero, 1)</td>\n",
       "    </tr>\n",
       "  </tbody>\n",
       "</table>\n",
       "</div>"
      ],
      "text/plain": [
       "       level_0 level_1 level_2              0                 1   \n",
       "0  Matemáticas       A    Juan     (curso, 1)  (interesante, 1)  \\\n",
       "1     Historia       B   María  (historia, 1)      (antigua, 1)   \n",
       "2     Ciencias       A   Pedro   (ciencia, 1)  (emocionante, 1)   \n",
       "\n",
       "                2  \n",
       "0  (lecciones, 1)  \n",
       "1    (siempre, 1)  \n",
       "2     (quiero, 1)  "
      ]
     },
     "execution_count": 44,
     "metadata": {},
     "output_type": "execute_result"
    }
   ],
   "source": [
    "pd.DataFrame(ideas_principales).T.reset_index()"
   ]
  },
  {
   "cell_type": "code",
   "execution_count": 50,
   "metadata": {},
   "outputs": [
    {
     "data": {
      "text/html": [
       "<div>\n",
       "<style scoped>\n",
       "    .dataframe tbody tr th:only-of-type {\n",
       "        vertical-align: middle;\n",
       "    }\n",
       "\n",
       "    .dataframe tbody tr th {\n",
       "        vertical-align: top;\n",
       "    }\n",
       "\n",
       "    .dataframe thead tr th {\n",
       "        text-align: left;\n",
       "    }\n",
       "</style>\n",
       "<table border=\"1\" class=\"dataframe\">\n",
       "  <thead>\n",
       "    <tr>\n",
       "      <th></th>\n",
       "      <th>Matemáticas</th>\n",
       "      <th>Historia</th>\n",
       "      <th>Ciencias</th>\n",
       "    </tr>\n",
       "    <tr>\n",
       "      <th></th>\n",
       "      <th>A</th>\n",
       "      <th>B</th>\n",
       "      <th>A</th>\n",
       "    </tr>\n",
       "    <tr>\n",
       "      <th></th>\n",
       "      <th>Juan</th>\n",
       "      <th>María</th>\n",
       "      <th>Pedro</th>\n",
       "    </tr>\n",
       "  </thead>\n",
       "  <tbody>\n",
       "    <tr>\n",
       "      <th>0</th>\n",
       "      <td>(curso, 1)</td>\n",
       "      <td>(historia, 1)</td>\n",
       "      <td>(ciencia, 1)</td>\n",
       "    </tr>\n",
       "    <tr>\n",
       "      <th>1</th>\n",
       "      <td>(interesante, 1)</td>\n",
       "      <td>(antigua, 1)</td>\n",
       "      <td>(emocionante, 1)</td>\n",
       "    </tr>\n",
       "    <tr>\n",
       "      <th>2</th>\n",
       "      <td>(lecciones, 1)</td>\n",
       "      <td>(siempre, 1)</td>\n",
       "      <td>(quiero, 1)</td>\n",
       "    </tr>\n",
       "  </tbody>\n",
       "</table>\n",
       "</div>"
      ],
      "text/plain": [
       "        Matemáticas       Historia          Ciencias\n",
       "                  A              B                 A\n",
       "               Juan          María             Pedro\n",
       "0        (curso, 1)  (historia, 1)      (ciencia, 1)\n",
       "1  (interesante, 1)   (antigua, 1)  (emocionante, 1)\n",
       "2    (lecciones, 1)   (siempre, 1)       (quiero, 1)"
      ]
     },
     "execution_count": 50,
     "metadata": {},
     "output_type": "execute_result"
    }
   ],
   "source": [
    "pd.DataFrame.from_dict(ideas_principales)"
   ]
  },
  {
   "cell_type": "code",
   "execution_count": 53,
   "metadata": {},
   "outputs": [
    {
     "name": "stdout",
     "output_type": "stream",
     "text": [
      "         curso grupo palabra_1  frecuencia_1    palabra_2  frecuencia_2   \n",
      "0  Matemáticas     A     curso             1  interesante             1  \\\n",
      "1     Historia     B  historia             1      antigua             1   \n",
      "2     Ciencias     A   ciencia             1  emocionante             1   \n",
      "\n",
      "   palabra_3  frecuencia_3  \n",
      "0  lecciones             1  \n",
      "1    siempre             1  \n",
      "2     quiero             1  \n"
     ]
    }
   ],
   "source": [
    "\n",
    "# Función para procesar el texto\n",
    "def process_text(text):\n",
    "    stop_words = set(stopwords.words('spanish'))  # Palabras comunes que no aportan mucho al análisis\n",
    "    tokens = word_tokenize(text.lower())  # Convertir a minúsculas y tokenizar el texto\n",
    "    return [word for word in tokens if word.isalpha() and word not in stop_words]\n",
    "\n",
    "# Procesar cada comentario y obtener las palabras más relevantes\n",
    "def get_main_ideas(data):\n",
    "    main_ideas = []\n",
    "    for _, row in data.iterrows():\n",
    "        comment = row['comentario']\n",
    "        words = process_text(comment)\n",
    "        word_counter = Counter(words)\n",
    "        top_words = word_counter.most_common(3)\n",
    "        main_ideas.append({\n",
    "            'curso': row['curso'],\n",
    "            'grupo': row['grupo'],\n",
    "            #'estudiante': row['estudiante'],\n",
    "            'palabra_1': top_words[0][0] if len(top_words) >= 1 else None,\n",
    "            'frecuencia_1': top_words[0][1] if len(top_words) >= 1 else None,\n",
    "            'palabra_2': top_words[1][0] if len(top_words) >= 2 else None,\n",
    "            'frecuencia_2': top_words[1][1] if len(top_words) >= 2 else None,\n",
    "            'palabra_3': top_words[2][0] if len(top_words) >= 3 else None,\n",
    "            'frecuencia_3': top_words[2][1] if len(top_words) >= 3 else None\n",
    "        })\n",
    "\n",
    "    return main_ideas\n",
    "\n",
    "# Obtener las ideas principales de cada comentario\n",
    "ideas_principales = get_main_ideas(data)\n",
    "\n",
    "# Convertir la lista de diccionarios en un DataFrame\n",
    "df_ideas_principales = pd.DataFrame(ideas_principales)\n",
    "\n",
    "print(df_ideas_principales)"
   ]
  },
  {
   "cell_type": "code",
   "execution_count": 52,
   "metadata": {},
   "outputs": [
    {
     "data": {
      "text/html": [
       "<div>\n",
       "<style scoped>\n",
       "    .dataframe tbody tr th:only-of-type {\n",
       "        vertical-align: middle;\n",
       "    }\n",
       "\n",
       "    .dataframe tbody tr th {\n",
       "        vertical-align: top;\n",
       "    }\n",
       "\n",
       "    .dataframe thead th {\n",
       "        text-align: right;\n",
       "    }\n",
       "</style>\n",
       "<table border=\"1\" class=\"dataframe\">\n",
       "  <thead>\n",
       "    <tr style=\"text-align: right;\">\n",
       "      <th></th>\n",
       "      <th>curso</th>\n",
       "      <th>grupo</th>\n",
       "      <th>estudiante</th>\n",
       "      <th>palabra_1</th>\n",
       "      <th>frecuencia_1</th>\n",
       "      <th>palabra_2</th>\n",
       "      <th>frecuencia_2</th>\n",
       "      <th>palabra_3</th>\n",
       "      <th>frecuencia_3</th>\n",
       "    </tr>\n",
       "  </thead>\n",
       "  <tbody>\n",
       "    <tr>\n",
       "      <th>0</th>\n",
       "      <td>Matemáticas</td>\n",
       "      <td>A</td>\n",
       "      <td>Juan</td>\n",
       "      <td>curso</td>\n",
       "      <td>1</td>\n",
       "      <td>interesante</td>\n",
       "      <td>1</td>\n",
       "      <td>lecciones</td>\n",
       "      <td>1</td>\n",
       "    </tr>\n",
       "    <tr>\n",
       "      <th>1</th>\n",
       "      <td>Historia</td>\n",
       "      <td>B</td>\n",
       "      <td>María</td>\n",
       "      <td>historia</td>\n",
       "      <td>1</td>\n",
       "      <td>antigua</td>\n",
       "      <td>1</td>\n",
       "      <td>siempre</td>\n",
       "      <td>1</td>\n",
       "    </tr>\n",
       "    <tr>\n",
       "      <th>2</th>\n",
       "      <td>Ciencias</td>\n",
       "      <td>A</td>\n",
       "      <td>Pedro</td>\n",
       "      <td>ciencia</td>\n",
       "      <td>1</td>\n",
       "      <td>emocionante</td>\n",
       "      <td>1</td>\n",
       "      <td>quiero</td>\n",
       "      <td>1</td>\n",
       "    </tr>\n",
       "  </tbody>\n",
       "</table>\n",
       "</div>"
      ],
      "text/plain": [
       "         curso grupo estudiante palabra_1  frecuencia_1    palabra_2   \n",
       "0  Matemáticas     A       Juan     curso             1  interesante  \\\n",
       "1     Historia     B      María  historia             1      antigua   \n",
       "2     Ciencias     A      Pedro   ciencia             1  emocionante   \n",
       "\n",
       "   frecuencia_2  palabra_3  frecuencia_3  \n",
       "0             1  lecciones             1  \n",
       "1             1    siempre             1  \n",
       "2             1     quiero             1  "
      ]
     },
     "execution_count": 52,
     "metadata": {},
     "output_type": "execute_result"
    }
   ],
   "source": [
    "df_ideas_principales"
   ]
  }
 ],
 "metadata": {
  "kernelspec": {
   "display_name": "Python 3",
   "language": "python",
   "name": "python3"
  },
  "language_info": {
   "codemirror_mode": {
    "name": "ipython",
    "version": 3
   },
   "file_extension": ".py",
   "mimetype": "text/x-python",
   "name": "python",
   "nbconvert_exporter": "python",
   "pygments_lexer": "ipython3",
   "version": "3.10.2"
  },
  "orig_nbformat": 4
 },
 "nbformat": 4,
 "nbformat_minor": 2
}
