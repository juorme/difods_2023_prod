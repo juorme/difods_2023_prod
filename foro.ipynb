{
 "cells": [
  {
   "cell_type": "code",
   "execution_count": 8,
   "metadata": {},
   "outputs": [],
   "source": [
    "from wordcloud import WordCloud\n",
    "import matplotlib.pyplot as plt\n",
    "import pandas as pd\n",
    "\n",
    "import nltk\n",
    "import numpy as np\n",
    "\n",
    "import re\n",
    "\n",
    "import openpyxl\n"
   ]
  },
  {
   "cell_type": "code",
   "execution_count": 9,
   "metadata": {},
   "outputs": [],
   "source": [
    "df = pd.read_excel(\"D:/proylibres/analisis_foro/input_foro_3107.xlsx\")"
   ]
  },
  {
   "cell_type": "code",
   "execution_count": 10,
   "metadata": {},
   "outputs": [
    {
     "data": {
      "text/html": [
       "<div>\n",
       "<style scoped>\n",
       "    .dataframe tbody tr th:only-of-type {\n",
       "        vertical-align: middle;\n",
       "    }\n",
       "\n",
       "    .dataframe tbody tr th {\n",
       "        vertical-align: top;\n",
       "    }\n",
       "\n",
       "    .dataframe thead th {\n",
       "        text-align: right;\n",
       "    }\n",
       "</style>\n",
       "<table border=\"1\" class=\"dataframe\">\n",
       "  <thead>\n",
       "    <tr style=\"text-align: right;\">\n",
       "      <th></th>\n",
       "      <th>id</th>\n",
       "      <th>discussion</th>\n",
       "      <th>parent</th>\n",
       "      <th>userid</th>\n",
       "      <th>userfullname</th>\n",
       "      <th>created</th>\n",
       "      <th>modified</th>\n",
       "      <th>mailed</th>\n",
       "      <th>subject</th>\n",
       "      <th>message</th>\n",
       "      <th>messageformat</th>\n",
       "      <th>messagetrust</th>\n",
       "      <th>attachment</th>\n",
       "      <th>totalscore</th>\n",
       "      <th>mailnow</th>\n",
       "      <th>deleted</th>\n",
       "      <th>privatereplyto</th>\n",
       "      <th>privatereplytofullname</th>\n",
       "      <th>wordcount</th>\n",
       "      <th>charcount</th>\n",
       "    </tr>\n",
       "  </thead>\n",
       "  <tbody>\n",
       "    <tr>\n",
       "      <th>0</th>\n",
       "      <td>12</td>\n",
       "      <td>6</td>\n",
       "      <td>0</td>\n",
       "      <td>2</td>\n",
       "      <td>Admin User</td>\n",
       "      <td>miércoles, 28 de junio de 2023, 20:16</td>\n",
       "      <td>miércoles, 28 de junio de 2023, 20:16</td>\n",
       "      <td>1</td>\n",
       "      <td>Mensaje de bienvenida</td>\n",
       "      <td>ESTIMADA/O DOCENTE:\\n\\nTe damos la bienvenida ...</td>\n",
       "      <td>2</td>\n",
       "      <td>0</td>\n",
       "      <td>0</td>\n",
       "      <td>0</td>\n",
       "      <td>0</td>\n",
       "      <td>0</td>\n",
       "      <td>0</td>\n",
       "      <td>NaN</td>\n",
       "      <td>250</td>\n",
       "      <td>1413</td>\n",
       "    </tr>\n",
       "    <tr>\n",
       "      <th>1</th>\n",
       "      <td>13</td>\n",
       "      <td>7</td>\n",
       "      <td>0</td>\n",
       "      <td>2</td>\n",
       "      <td>Admin User</td>\n",
       "      <td>miércoles, 28 de junio de 2023, 20:16</td>\n",
       "      <td>miércoles, 28 de junio de 2023, 20:16</td>\n",
       "      <td>1</td>\n",
       "      <td>Mensaje de bienvenida</td>\n",
       "      <td>ESTIMADA/O DOCENTE:\\n\\nTe damos la bienvenida ...</td>\n",
       "      <td>2</td>\n",
       "      <td>0</td>\n",
       "      <td>0</td>\n",
       "      <td>0</td>\n",
       "      <td>0</td>\n",
       "      <td>0</td>\n",
       "      <td>0</td>\n",
       "      <td>NaN</td>\n",
       "      <td>250</td>\n",
       "      <td>1413</td>\n",
       "    </tr>\n",
       "    <tr>\n",
       "      <th>2</th>\n",
       "      <td>14</td>\n",
       "      <td>8</td>\n",
       "      <td>0</td>\n",
       "      <td>2</td>\n",
       "      <td>Admin User</td>\n",
       "      <td>miércoles, 28 de junio de 2023, 20:16</td>\n",
       "      <td>miércoles, 28 de junio de 2023, 20:16</td>\n",
       "      <td>1</td>\n",
       "      <td>Mensaje de bienvenida</td>\n",
       "      <td>ESTIMADA/O DOCENTE:\\n\\nTe damos la bienvenida ...</td>\n",
       "      <td>2</td>\n",
       "      <td>0</td>\n",
       "      <td>0</td>\n",
       "      <td>0</td>\n",
       "      <td>0</td>\n",
       "      <td>0</td>\n",
       "      <td>0</td>\n",
       "      <td>NaN</td>\n",
       "      <td>250</td>\n",
       "      <td>1413</td>\n",
       "    </tr>\n",
       "    <tr>\n",
       "      <th>3</th>\n",
       "      <td>15</td>\n",
       "      <td>9</td>\n",
       "      <td>0</td>\n",
       "      <td>2</td>\n",
       "      <td>Admin User</td>\n",
       "      <td>miércoles, 28 de junio de 2023, 20:16</td>\n",
       "      <td>miércoles, 28 de junio de 2023, 20:16</td>\n",
       "      <td>1</td>\n",
       "      <td>Mensaje de bienvenida</td>\n",
       "      <td>ESTIMADA/O DOCENTE:\\n\\nTe damos la bienvenida ...</td>\n",
       "      <td>2</td>\n",
       "      <td>0</td>\n",
       "      <td>0</td>\n",
       "      <td>0</td>\n",
       "      <td>0</td>\n",
       "      <td>0</td>\n",
       "      <td>0</td>\n",
       "      <td>NaN</td>\n",
       "      <td>250</td>\n",
       "      <td>1413</td>\n",
       "    </tr>\n",
       "    <tr>\n",
       "      <th>4</th>\n",
       "      <td>16</td>\n",
       "      <td>10</td>\n",
       "      <td>0</td>\n",
       "      <td>2</td>\n",
       "      <td>Admin User</td>\n",
       "      <td>miércoles, 28 de junio de 2023, 20:16</td>\n",
       "      <td>miércoles, 28 de junio de 2023, 20:16</td>\n",
       "      <td>1</td>\n",
       "      <td>Mensaje de bienvenida</td>\n",
       "      <td>ESTIMADA/O DOCENTE:\\n\\nTe damos la bienvenida ...</td>\n",
       "      <td>2</td>\n",
       "      <td>0</td>\n",
       "      <td>0</td>\n",
       "      <td>0</td>\n",
       "      <td>0</td>\n",
       "      <td>0</td>\n",
       "      <td>0</td>\n",
       "      <td>NaN</td>\n",
       "      <td>250</td>\n",
       "      <td>1413</td>\n",
       "    </tr>\n",
       "  </tbody>\n",
       "</table>\n",
       "</div>"
      ],
      "text/plain": [
       "   id  discussion  parent  userid userfullname  \\\n",
       "0  12           6       0       2   Admin User   \n",
       "1  13           7       0       2   Admin User   \n",
       "2  14           8       0       2   Admin User   \n",
       "3  15           9       0       2   Admin User   \n",
       "4  16          10       0       2   Admin User   \n",
       "\n",
       "                                 created  \\\n",
       "0  miércoles, 28 de junio de 2023, 20:16   \n",
       "1  miércoles, 28 de junio de 2023, 20:16   \n",
       "2  miércoles, 28 de junio de 2023, 20:16   \n",
       "3  miércoles, 28 de junio de 2023, 20:16   \n",
       "4  miércoles, 28 de junio de 2023, 20:16   \n",
       "\n",
       "                                modified  mailed                subject  \\\n",
       "0  miércoles, 28 de junio de 2023, 20:16       1  Mensaje de bienvenida   \n",
       "1  miércoles, 28 de junio de 2023, 20:16       1  Mensaje de bienvenida   \n",
       "2  miércoles, 28 de junio de 2023, 20:16       1  Mensaje de bienvenida   \n",
       "3  miércoles, 28 de junio de 2023, 20:16       1  Mensaje de bienvenida   \n",
       "4  miércoles, 28 de junio de 2023, 20:16       1  Mensaje de bienvenida   \n",
       "\n",
       "                                             message  messageformat  \\\n",
       "0  ESTIMADA/O DOCENTE:\\n\\nTe damos la bienvenida ...              2   \n",
       "1  ESTIMADA/O DOCENTE:\\n\\nTe damos la bienvenida ...              2   \n",
       "2  ESTIMADA/O DOCENTE:\\n\\nTe damos la bienvenida ...              2   \n",
       "3  ESTIMADA/O DOCENTE:\\n\\nTe damos la bienvenida ...              2   \n",
       "4  ESTIMADA/O DOCENTE:\\n\\nTe damos la bienvenida ...              2   \n",
       "\n",
       "   messagetrust  attachment  totalscore  mailnow  deleted  privatereplyto  \\\n",
       "0             0           0           0        0        0               0   \n",
       "1             0           0           0        0        0               0   \n",
       "2             0           0           0        0        0               0   \n",
       "3             0           0           0        0        0               0   \n",
       "4             0           0           0        0        0               0   \n",
       "\n",
       "  privatereplytofullname  wordcount  charcount  \n",
       "0                    NaN        250       1413  \n",
       "1                    NaN        250       1413  \n",
       "2                    NaN        250       1413  \n",
       "3                    NaN        250       1413  \n",
       "4                    NaN        250       1413  "
      ]
     },
     "execution_count": 10,
     "metadata": {},
     "output_type": "execute_result"
    }
   ],
   "source": [
    "df.head()"
   ]
  },
  {
   "cell_type": "code",
   "execution_count": 11,
   "metadata": {},
   "outputs": [],
   "source": [
    "df = df[df['userfullname'] != 'Admin User']"
   ]
  },
  {
   "cell_type": "code",
   "execution_count": 14,
   "metadata": {},
   "outputs": [],
   "source": [
    "#quitar los caracteres especiales \n",
    "df['message_transformada'] = df['message'].apply(lambda x : re.sub(r'[^\\w\\s.,]','', str(x)))\n",
    "#quitar los saltos de linea\n",
    "df['message_transformada'] = df['message_transformada'].replace('\\n',' ',regex=True)\n",
    "#cambiar a minusculas\n",
    "df['message_transformada'] = df['message_transformada'].str.lower()"
   ]
  },
  {
   "cell_type": "code",
   "execution_count": 15,
   "metadata": {},
   "outputs": [
    {
     "data": {
      "text/plain": [
       "17967    maestro edgar cama de acuerdo con la convivenc...\n",
       "17968    hola buenas tardes, soy la docente ysabel zapa...\n",
       "17969    silvia flores maldonado, i. e. nuestra señora ...\n",
       "17970    buenas tardes con todos, mi nombre es karina p...\n",
       "17971    que los estudiantes que lean, comprendan lo qu...\n",
       "17972    zarela diaz daza, trabajo en la i.e.n 0101  lu...\n",
       "17973    buenas tardes a todos los docentes del peru, m...\n",
       "17974    violeta collazos céspedes i.e. agropecuario pi...\n",
       "17975    estimados, colegas, buenas tardes, soy imelda ...\n",
       "17976    buenos días soy el profesor luis e. chanamé ji...\n",
       "Name: message_transformada, dtype: object"
      ]
     },
     "execution_count": 15,
     "metadata": {},
     "output_type": "execute_result"
    }
   ],
   "source": [
    "df.message_transformada.tail(10)"
   ]
  },
  {
   "cell_type": "code",
   "execution_count": 30,
   "metadata": {},
   "outputs": [],
   "source": [
    "# Función para extraer el texto deseado\n",
    "def extraer_texto(texto):\n",
    "    for palabra in palabras:\n",
    "        indice_palabra = texto.lower().find(palabra)\n",
    "        if indice_palabra != -1:\n",
    "            indice_punto = texto.find(\".\", indice_palabra)\n",
    "            if indice_punto != -1:\n",
    "                texto_extraido = texto[indice_palabra:indice_punto + 1]\n",
    "            else:\n",
    "                texto_extraido = texto[indice_palabra:]\n",
    "            return texto_extraido\n",
    "    return \"NO\""
   ]
  },
  {
   "cell_type": "code",
   "execution_count": 37,
   "metadata": {},
   "outputs": [
    {
     "name": "stdout",
     "output_type": "stream",
     "text": [
      "11045\n",
      "17903\n",
      "61.69357090990337\n"
     ]
    }
   ],
   "source": [
    "palabras = ['expectativa', 'expectativas','espectativas','espectativa','fortalecer','deseo','desearia','contento','contenta','tengo','estoy',\n",
    "            'espero', 'entusiasmada', 'entusiasmado','me interesa','pretendo','aprender','permitirá','permitir','reforzar','adquirir']\n",
    "columna = 'message_transformada'\n",
    "df['1_pre1'] = df[columna].apply(extraer_texto)\n",
    "print(df[df['1_pre1'] != 'NO'].shape[0])\n",
    "print(len(df))\n",
    "print(df[df['1_pre1']!='NO'].shape[0] / (len(df)) * 100)"
   ]
  },
  {
   "cell_type": "code",
   "execution_count": 35,
   "metadata": {},
   "outputs": [
    {
     "name": "stdout",
     "output_type": "stream",
     "text": [
      "11176\n",
      "17903\n",
      "62.42529185052784\n"
     ]
    }
   ],
   "source": [
    "#Pregunta 2\n",
    "palabras = ['promuevo', 'promoviendo','convivencia','democrática','intercultural']\n",
    "columna = 'message_transformada'\n",
    "df['2_pre2'] = df[columna].apply(extraer_texto)\n",
    "print(df[df['2_pre2'] != 'NO'].shape[0])\n",
    "print(len(df))\n",
    "print(df[df['2_pre2']!='NO'].shape[0] / len(df) * 100)"
   ]
  },
  {
   "cell_type": "code",
   "execution_count": 36,
   "metadata": {},
   "outputs": [
    {
     "name": "stdout",
     "output_type": "stream",
     "text": [
      "10790\n",
      "17903\n"
     ]
    },
    {
     "data": {
      "text/plain": [
       "60.26922862090153"
      ]
     },
     "execution_count": 36,
     "metadata": {},
     "output_type": "execute_result"
    }
   ],
   "source": [
    "#Pregunta \n",
    "palabras = ['desarrollo', 'competencia','organizo','competencia lectora','curriculares','comprensión','lectura']\n",
    "columna = 'message_transformada'\n",
    "df['3_pre3'] = df[columna].apply(extraer_texto)\n",
    "print(df[df['3_pre3'] != 'NO'].shape[0])\n",
    "print(len(df))\n",
    "df[df['3_pre3']!='NO'].shape[0] /(len(df)) *100"
   ]
  },
  {
   "cell_type": "code",
   "execution_count": 38,
   "metadata": {},
   "outputs": [],
   "source": [
    "df.to_excel(\"D:/proylibres/analisis_foro/post.xlsx\")"
   ]
  }
 ],
 "metadata": {
  "kernelspec": {
   "display_name": "Python 3",
   "language": "python",
   "name": "python3"
  },
  "language_info": {
   "codemirror_mode": {
    "name": "ipython",
    "version": 3
   },
   "file_extension": ".py",
   "mimetype": "text/x-python",
   "name": "python",
   "nbconvert_exporter": "python",
   "pygments_lexer": "ipython3",
   "version": "3.10.9"
  },
  "orig_nbformat": 4
 },
 "nbformat": 4,
 "nbformat_minor": 2
}
