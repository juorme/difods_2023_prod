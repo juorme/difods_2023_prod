{
 "cells": [
  {
   "cell_type": "markdown",
   "metadata": {},
   "source": [
    "# Modelo de deserción de docentes del Programa Nacional de Formación Docente en Servicio - 2023"
   ]
  },
  {
   "cell_type": "code",
   "execution_count": null,
   "metadata": {},
   "outputs": [],
   "source": [
    "# librerias\n",
    "import pandas as pd \n",
    "import pyodbc"
   ]
  },
  {
   "cell_type": "markdown",
   "metadata": {},
   "source": [
    "## 01 Origen de datos"
   ]
  },
  {
   "cell_type": "code",
   "execution_count": null,
   "metadata": {},
   "outputs": [],
   "source": [
    "# Credenciales de acceso a la BD\n",
    "conn = pyodbc.connect(DRIVER = '{ODBC Driver 17 for SQL Server}',\n",
    "                      SERVER = 'med000008646',\n",
    "                      DATABASE = 'BD_STAGE',\n",
    "                      UID = 'usconsulta',\n",
    "                      PWD = 'consulta')"
   ]
  },
  {
   "cell_type": "code",
   "execution_count": null,
   "metadata": {},
   "outputs": [],
   "source": [
    "#Extraccion del dataset inical \n",
    "## maestro de cursos de la oferta formativa \n",
    "query1 = \"\"\"  \"\"\"\n",
    "    \n",
    "oferta_formativa_df = pd.read_sql_query(query1,conn)\n",
    "\n",
    "#Cerrar la conexion\n",
    "conn.close()"
   ]
  },
  {
   "cell_type": "markdown",
   "metadata": {},
   "source": [
    "## 02 Manipulación de datos"
   ]
  },
  {
   "cell_type": "markdown",
   "metadata": {},
   "source": [
    "## 03 EDA"
   ]
  },
  {
   "cell_type": "markdown",
   "metadata": {},
   "source": [
    "## 04 Selección de Variables"
   ]
  },
  {
   "cell_type": "markdown",
   "metadata": {},
   "source": [
    "## 05 Modelo"
   ]
  },
  {
   "cell_type": "markdown",
   "metadata": {},
   "source": [
    "## 06 Validación"
   ]
  }
 ],
 "metadata": {
  "language_info": {
   "name": "python"
  },
  "orig_nbformat": 4
 },
 "nbformat": 4,
 "nbformat_minor": 2
}
